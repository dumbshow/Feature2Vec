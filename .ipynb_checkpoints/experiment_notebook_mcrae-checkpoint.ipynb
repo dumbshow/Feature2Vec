{
 "cells": [
  {
   "cell_type": "code",
   "execution_count": 1,
   "metadata": {},
   "outputs": [
    {
     "name": "stderr",
     "output_type": "stream",
     "text": [
      "Using TensorFlow backend.\n"
     ]
    },
    {
     "name": "stdout",
     "output_type": "stream",
     "text": [
      "Building feat2vec\n"
     ]
    }
   ],
   "source": [
    "import numpy as np \n",
    "from Feat2Vec import Feat2Vec \n",
    "from PLSR import PLSR\n",
    "from utils import * \n",
    "\n",
    "path = 'data/mcrae_feature_matrix.csv'\n",
    "#path = 'data/cslb_feature_matrix.csv'\n",
    "\n",
    "print('Building feat2vec')\n",
    "model = Feat2Vec(path = path)"
   ]
  },
  {
   "cell_type": "code",
   "execution_count": 2,
   "metadata": {},
   "outputs": [],
   "source": [
    "train_concepts = model.concepts[:400]\n",
    "test_concepts = model.concepts[400:]"
   ]
  },
  {
   "cell_type": "code",
   "execution_count": 3,
   "metadata": {},
   "outputs": [
    {
     "name": "stdout",
     "output_type": "stream",
     "text": [
      "Training feat2vec\n",
      "Epoch: 102 delta: 0.00024992341359439743\n"
     ]
    }
   ],
   "source": [
    "print('Training feat2vec')\n",
    "model.train(till_convergence = True, verbose = 0, tolerence = 1e-4, lr = 1e-4, negative_samples = 20, train_words = train_concepts)\n",
    "print('')"
   ]
  },
  {
   "cell_type": "code",
   "execution_count": 4,
   "metadata": {},
   "outputs": [
    {
     "name": "stdout",
     "output_type": "stream",
     "text": [
      "Example features learned for word: dog\n",
      "[['0.43974062751589965' 'has_a_tail']\n",
      " ['0.4313424028298511' 'has_4_legs']\n",
      " ['0.4255573513706064' 'has_legs']\n",
      " ['0.41896888970903545' 'has_fur']\n",
      " ['0.41756476194926023' 'beh_-_eats']\n",
      " ['0.41220311616586325' 'an_animal']\n",
      " ['0.41099413218793607' 'a_mammal']\n",
      " ['0.3883812948003694' 'is_domestic']\n",
      " ['0.3870957216402644' 'a_pet']\n",
      " ['0.3750088358910616' 'has_hair']]\n",
      "\n"
     ]
    }
   ],
   "source": [
    "# test for word dog\n",
    "print('Example features learned for word: dog')\n",
    "print(model.topFeatures('dog', top = 10))\n",
    "print('')"
   ]
  },
  {
   "cell_type": "code",
   "execution_count": 5,
   "metadata": {},
   "outputs": [
    {
     "name": "stdout",
     "output_type": "stream",
     "text": [
      "Building partial least squared regression (baseline)\n"
     ]
    },
    {
     "name": "stderr",
     "output_type": "stream",
     "text": [
      "/home/40106170/miniconda3/envs/prop_embs/lib/python3.6/site-packages/sklearn/cross_decomposition/pls_.py:79: ConvergenceWarning: Maximum number of iterations reached\n",
      "  ConvergenceWarning)\n"
     ]
    },
    {
     "name": "stdout",
     "output_type": "stream",
     "text": [
      "\n"
     ]
    }
   ],
   "source": [
    "# build baseline model (50 and 200)\n",
    "print('Building partial least squared regression (baseline)')\n",
    "plsr50 = PLSR(path = path)\n",
    "plsr50.train(train_words = train_concepts, embedding_size = 50)\n",
    "\n",
    "plsr200 = PLSR(path = path)\n",
    "plsr200.train(train_words = train_concepts, embedding_size = 200)\n",
    "print('')"
   ]
  },
  {
   "cell_type": "code",
   "execution_count": 6,
   "metadata": {},
   "outputs": [],
   "source": [
    "concept_dict_plsr50 = {}\n",
    "for index, concept in enumerate(model.test_words):\n",
    "    concept_dict_plsr50[concept] = plsr50.test_preds[index,:]"
   ]
  },
  {
   "cell_type": "code",
   "execution_count": 7,
   "metadata": {},
   "outputs": [],
   "source": [
    "concept_dict_plsr200 = {}\n",
    "for index, concept in enumerate(model.test_words):\n",
    "    concept_dict_plsr200[concept] = plsr200.test_preds[index,:]"
   ]
  },
  {
   "cell_type": "code",
   "execution_count": 8,
   "metadata": {},
   "outputs": [
    {
     "name": "stdout",
     "output_type": "stream",
     "text": [
      "Word: shack\n"
     ]
    },
    {
     "data": {
      "text/plain": [
       "array([['0.32552525026173945', 'hut'],\n",
       "       ['0.28971284875553865', 'cottage'],\n",
       "       ['0.28189199556072553', 'cabin'],\n",
       "       ['0.2710194796273678', 'cabinet'],\n",
       "       ['0.26037179950357425', 'barrel'],\n",
       "       ['0.24784760730668834', 'radio'],\n",
       "       ['0.24717833364476072', 'crab'],\n",
       "       ['0.23524295332035286', 'shack'],\n",
       "       ['0.23450088081534548', 'house'],\n",
       "       ['0.22868859610869371', 'shelves'],\n",
       "       ['0.2269287790183703', 'board_(wood)'],\n",
       "       ['0.22277244458902098', 'lobster'],\n",
       "       ['0.2219940364897932', 'peg'],\n",
       "       ['0.22149595799837699', 'stick'],\n",
       "       ['0.21311575832971333', 'shed'],\n",
       "       ['0.20724803437914505', 'asparagus'],\n",
       "       ['0.2066278406857381', 'bungalow'],\n",
       "       ['0.20659232338857692', 'caribou'],\n",
       "       ['0.20542780295451799', 'table'],\n",
       "       ['0.2052819044452731', 'buffalo']], dtype='<U19')"
      ]
     },
     "execution_count": 8,
     "metadata": {},
     "output_type": "execute_result"
    }
   ],
   "source": [
    "index = 20\n",
    "print('Word:', model.test_words[index])\n",
    "topNeighbours(concept_dict_plsr200[model.test_words[index]], model, top = 20, gsf = True)"
   ]
  },
  {
   "cell_type": "code",
   "execution_count": 9,
   "metadata": {},
   "outputs": [
    {
     "name": "stdout",
     "output_type": "stream",
     "text": [
      "PLSR 50 neighbour scores\n",
      "Top 1 4.25531914893617\n",
      "Top 5 22.69503546099291\n",
      "Top 10 35.46099290780142\n",
      "Top 20 55.319148936170215\n"
     ]
    }
   ],
   "source": [
    "print('PLSR 50 neighbour scores')\n",
    "tops = [1, 5, 10, 20]\n",
    "for n in tops:\n",
    "    print('Top', n, neighbourScore(concept_dict_plsr50, plsr50, top = n, gsf = True))"
   ]
  },
  {
   "cell_type": "code",
   "execution_count": 10,
   "metadata": {},
   "outputs": [
    {
     "name": "stdout",
     "output_type": "stream",
     "text": [
      "PLSR 200 neighbour scores\n",
      "Top 1 5.673758865248227\n",
      "Top 5 30.49645390070922\n",
      "Top 10 42.5531914893617\n",
      "Top 20 58.156028368794324\n"
     ]
    }
   ],
   "source": [
    "print('PLSR 200 neighbour scores')\n",
    "tops = [1, 5, 10, 20]\n",
    "for n in tops:\n",
    "    print('Top', n, neighbourScore(concept_dict_plsr200, plsr50, top = n, gsf = True))"
   ]
  },
  {
   "cell_type": "code",
   "execution_count": 11,
   "metadata": {},
   "outputs": [],
   "source": [
    "def constructVector(concept, model):\n",
    "    new_vector = np.zeros(model.embedding_matrix.shape[0])\n",
    "    for feature in [s[0] for s in model.concept_features[concept]]:\n",
    "        new_vector += model.fvector(feature)\n",
    "        \n",
    "    return  new_vector / len(model.concept_features[concept])"
   ]
  },
  {
   "cell_type": "code",
   "execution_count": 12,
   "metadata": {},
   "outputs": [],
   "source": [
    "concept_dict_f2v = {}\n",
    "for index, concept in enumerate(model.test_words):\n",
    "    concept_dict_f2v[concept] = constructVector(concept, model)"
   ]
  },
  {
   "cell_type": "code",
   "execution_count": 13,
   "metadata": {},
   "outputs": [
    {
     "name": "stdout",
     "output_type": "stream",
     "text": [
      "Word: zucchini\n"
     ]
    },
    {
     "data": {
      "text/plain": [
       "array([['0.5881385403656619', 'cauliflower'],\n",
       "       ['0.5762640634588051', 'broccoli'],\n",
       "       ['0.5744984663637345', 'spinach'],\n",
       "       ['0.5657014943110387', 'onions'],\n",
       "       ['0.5406739140526505', 'zucchini'],\n",
       "       ['0.5358089526698154', 'asparagus'],\n",
       "       ['0.5351314578622572', 'celery'],\n",
       "       ['0.5347323991825633', 'eggplant'],\n",
       "       ['0.528428868415839', 'beets'],\n",
       "       ['0.5144452262394842', 'garlic']], dtype='<U18')"
      ]
     },
     "execution_count": 13,
     "metadata": {},
     "output_type": "execute_result"
    }
   ],
   "source": [
    "print('Word:', model.test_words[index])\n",
    "topNeighbours(concept_dict_f2v[model.test_words[index]], model, top = 10)"
   ]
  },
  {
   "cell_type": "code",
   "execution_count": 14,
   "metadata": {},
   "outputs": [
    {
     "name": "stdout",
     "output_type": "stream",
     "text": [
      "Top 1 7.801418439716312\n",
      "Top 5 40.42553191489361\n",
      "Top 10 52.4822695035461\n",
      "Top 20 67.37588652482269\n"
     ]
    }
   ],
   "source": [
    "tops = [1, 5, 10, 20]\n",
    "for n in tops:\n",
    "    print('Top', n, neighbourScore(concept_dict_f2v, model, top = n, gsf = False))"
   ]
  },
  {
   "cell_type": "code",
   "execution_count": 15,
   "metadata": {},
   "outputs": [
    {
     "name": "stdout",
     "output_type": "stream",
     "text": [
      "PLSR 50 Scores\n",
      "Train: 49.77094877301921\n",
      "Test: 33.239104227195746\n"
     ]
    }
   ],
   "source": [
    "print('PLSR 50 Scores')\n",
    "print('Train:', np.mean(plsr50.feature_score(type = 'train'))*100)\n",
    "print('Test:', np.mean(plsr50.feature_score(type = 'test'))*100)"
   ]
  },
  {
   "cell_type": "code",
   "execution_count": 16,
   "metadata": {},
   "outputs": [
    {
     "name": "stdout",
     "output_type": "stream",
     "text": [
      "PLSR 200 Scores\n",
      "Train: 83.03836548340645\n",
      "Test: 32.33900161230663\n"
     ]
    }
   ],
   "source": [
    "print('PLSR 200 Scores')\n",
    "print('Train:', np.mean(plsr200.feature_score(type = 'train'))*100)\n",
    "print('Test:', np.mean(plsr200.feature_score(type = 'test'))*100)"
   ]
  },
  {
   "cell_type": "code",
   "execution_count": 17,
   "metadata": {},
   "outputs": [
    {
     "name": "stdout",
     "output_type": "stream",
     "text": [
      "Feat2Vec Scores\n",
      "Train: 70.15785016693198\n",
      "Test: 34.53470193788469\n"
     ]
    }
   ],
   "source": [
    "print('Feat2Vec Scores')\n",
    "print('Train:', np.mean(model.feature_score(type = 'train'))*100)\n",
    "print('Test:', np.mean(model.feature_score(type = 'test'))*100)"
   ]
  },
  {
   "cell_type": "code",
   "execution_count": 18,
   "metadata": {},
   "outputs": [],
   "source": [
    "plsr50_embs = dict(zip(plsr50.concepts, plsr50.regressor.predict(plsr50.embedding_matrix.T)))\n",
    "plsr200_embs = dict(zip(plsr200.concepts, plsr200.regressor.predict(plsr200.embedding_matrix.T)))"
   ]
  },
  {
   "cell_type": "code",
   "execution_count": 19,
   "metadata": {},
   "outputs": [],
   "source": [
    "f2v_embs = {}\n",
    "for index, concept in enumerate(model.concepts):\n",
    "    f2v_embs[concept] = constructVector(concept, model)"
   ]
  },
  {
   "cell_type": "code",
   "execution_count": 20,
   "metadata": {},
   "outputs": [],
   "source": [
    "saveEmbs(plsr50_embs, name = 'PLSR50_MCRAE')\n",
    "saveEmbs(plsr200_embs, name = 'PLSR200_MCRAE')\n",
    "saveEmbs(f2v_embs, name = 'F2V_MCRAE')"
   ]
  },
  {
   "cell_type": "code",
   "execution_count": 21,
   "metadata": {},
   "outputs": [],
   "source": [
    "import vecto\n",
    "import vecto.embeddings \n",
    "\n",
    "plsr50_vsm = vecto.embeddings.load_from_dir('embeddings/PLSR50_MCRAE')\n",
    "plsr200_vsm = vecto.embeddings.load_from_dir('embeddings/PLSR200_MCRAE')\n",
    "f2v_vsm = vecto.embeddings.load_from_dir('embeddings/F2V_MCRAE')"
   ]
  },
  {
   "cell_type": "code",
   "execution_count": 22,
   "metadata": {},
   "outputs": [
    {
     "name": "stdout",
     "output_type": "stream",
     "text": [
      "simlex999 - (0.46063852394335336, 44)\n",
      "men - (0.7081742681841207, 94)\n"
     ]
    }
   ],
   "source": [
    "vectoBenchmark(plsr50_vsm)"
   ]
  },
  {
   "cell_type": "code",
   "execution_count": 23,
   "metadata": {},
   "outputs": [
    {
     "name": "stdout",
     "output_type": "stream",
     "text": [
      "simlex999 - (0.5446472633161313, 44)\n",
      "men - (0.6996770736911174, 94)\n"
     ]
    }
   ],
   "source": [
    "vectoBenchmark(plsr200_vsm)"
   ]
  },
  {
   "cell_type": "code",
   "execution_count": 24,
   "metadata": {},
   "outputs": [
    {
     "name": "stdout",
     "output_type": "stream",
     "text": [
      "simlex999 - (0.5587426893853894, 44)\n",
      "men - (0.6643865978393246, 94)\n"
     ]
    }
   ],
   "source": [
    "vectoBenchmark(f2v_vsm)"
   ]
  }
 ],
 "metadata": {
  "kernelspec": {
   "display_name": "Python 3",
   "language": "python",
   "name": "python3"
  },
  "language_info": {
   "codemirror_mode": {
    "name": "ipython",
    "version": 3
   },
   "file_extension": ".py",
   "mimetype": "text/x-python",
   "name": "python",
   "nbconvert_exporter": "python",
   "pygments_lexer": "ipython3",
   "version": "3.6.8"
  }
 },
 "nbformat": 4,
 "nbformat_minor": 2
}
