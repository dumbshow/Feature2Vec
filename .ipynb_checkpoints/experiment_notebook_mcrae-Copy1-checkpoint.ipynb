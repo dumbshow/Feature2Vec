{
 "cells": [
  {
   "cell_type": "code",
   "execution_count": 1,
   "metadata": {},
   "outputs": [
    {
     "name": "stderr",
     "output_type": "stream",
     "text": [
      "Using TensorFlow backend.\n"
     ]
    },
    {
     "name": "stdout",
     "output_type": "stream",
     "text": [
      "Building feat2vec\n"
     ]
    }
   ],
   "source": [
    "import numpy as np \n",
    "from Feat2Vec_exp import Feat2Vec \n",
    "from PLSR import PLSR\n",
    "from utils import * \n",
    "import os\n",
    "os.environ[\"CUDA_VISIBLE_DEVICES\"]=\"-1\"    \n",
    "\n",
    "SEED = 42\n",
    "np.random.seed(seed = SEED)\n",
    "\n",
    "path = 'data/mcrae_feature_matrix.csv'\n",
    "#path = 'data/cslb_feature_matrix.csv'\n",
    "\n",
    "print('Building feat2vec')\n",
    "model = Feat2Vec(path = path)"
   ]
  },
  {
   "cell_type": "code",
   "execution_count": 2,
   "metadata": {},
   "outputs": [],
   "source": [
    "shuffle = np.random.permutation(len(model.concepts))\n",
    "train_concepts = list(np.asarray(model.concepts)[shuffle][:400])\n",
    "test_concepts = list(np.asarray(model.concepts)[shuffle][400:])"
   ]
  },
  {
   "cell_type": "code",
   "execution_count": 3,
   "metadata": {},
   "outputs": [
    {
     "name": "stdout",
     "output_type": "stream",
     "text": [
      "False\n"
     ]
    }
   ],
   "source": [
    "import tensorflow as tf \n",
    "\n",
    "print(tf.test.is_gpu_available())"
   ]
  },
  {
   "cell_type": "code",
   "execution_count": 4,
   "metadata": {},
   "outputs": [
    {
     "name": "stdout",
     "output_type": "stream",
     "text": [
      "Training feat2vec\n",
      "Epoch: 99 Loss: 0.002902774532707348\n"
     ]
    }
   ],
   "source": [
    "print('Training feat2vec')\n",
    "losses = model.train(verbose = 0, epochs = 100, lr = 0.001, negative_samples = 20, train_words = train_concepts)\n",
    "print('')"
   ]
  },
  {
   "cell_type": "code",
   "execution_count": 5,
   "metadata": {},
   "outputs": [
    {
     "data": {
      "image/png": "[encoded data removed]",
      "text/plain": [
       "<Figure size 432x288 with 1 Axes>"
      ]
     },
     "metadata": {
      "needs_background": "light"
     },
     "output_type": "display_data"
    }
   ],
   "source": [
    "%matplotlib inline \n",
    "import matplotlib.pyplot as plt \n",
    "\n",
    "plt.plot(losses)\n",
    "plt.show()"
   ]
  },
  {
   "cell_type": "code",
   "execution_count": 5,
   "metadata": {},
   "outputs": [
    {
     "data": {
      "image/png": "[encoded data removed]",
      "text/plain": [
       "<Figure size 432x288 with 1 Axes>"
      ]
     },
     "metadata": {
      "needs_background": "light"
     },
     "output_type": "display_data"
    }
   ],
   "source": [
    "%matplotlib inline \n",
    "import matplotlib.pyplot as plt \n",
    "\n",
    "plt.plot(losses)\n",
    "plt.show()"
   ]
  },
  {
   "cell_type": "code",
   "execution_count": 6,
   "metadata": {},
   "outputs": [
    {
     "name": "stdout",
     "output_type": "stream",
     "text": [
      "Example features learned for word: dog\n",
      "[['0.2864513379853203' 'beh_-_chases_cats']\n",
      " ['0.2783999989445654' 'beh_-_chases']\n",
      " ['0.2702696927850763' 'is_domestic']\n",
      " ['0.26651667438963356' \"is_man's_best_friend\"]\n",
      " ['0.26066571776697445' 'has_a_wet_nose']\n",
      " ['0.2482779389064888' 'has_a_tail']\n",
      " ['0.24494355274197493' 'has_4_legs']\n",
      " ['0.2431780803765634' 'has_fur']\n",
      " ['0.24224259769286333' 'beh_-_barks']\n",
      " ['0.23841125022130438' 'has_a_nose']]\n",
      "\n"
     ]
    }
   ],
   "source": [
    "# test for word dog\n",
    "print('Example features learned for word: dog')\n",
    "print(model.topFeatures('dog', top = 10))\n",
    "print('')"
   ]
  },
  {
   "cell_type": "code",
   "execution_count": 6,
   "metadata": {},
   "outputs": [
    {
     "name": "stdout",
     "output_type": "stream",
     "text": [
      "Example features learned for word: dog\n",
      "[['0.2892803235207986' 'has_4_legs']\n",
      " ['0.28772309051835976' 'has_a_tail']\n",
      " ['0.2862759917803589' 'has_fur']\n",
      " ['0.27700141875302675' 'is_domestic']\n",
      " ['0.2725296376485162' 'beh_-_chases']\n",
      " ['0.2701625063476897' 'an_animal']\n",
      " ['0.2684109647772388' 'beh_-_chases_cats']\n",
      " ['0.2640726282911453' \"is_man's_best_friend\"]\n",
      " ['0.26140809122203756' 'has_a_wet_nose']\n",
      " ['0.2589869345062662' 'a_mammal']]\n",
      "\n"
     ]
    }
   ],
   "source": [
    "# test for word dog\n",
    "print('Example features learned for word: dog')\n",
    "print(model.topFeatures('dog', top = 10))\n",
    "print('')"
   ]
  },
  {
   "cell_type": "code",
   "execution_count": 20,
   "metadata": {},
   "outputs": [
    {
     "data": {
      "text/plain": [
       "[('an_animal', 16.0),\n",
       " ('has_a_tail', 10.0),\n",
       " ('has_fur', 14.0),\n",
       " ('a_mammal', 6.0),\n",
       " ('has_4_legs', 18.0),\n",
       " ('has_legs', 18.0),\n",
       " ('a_pet', 12.0),\n",
       " ('has_hair', 7.0),\n",
       " ('a_carnivore', 5.0),\n",
       " ('is_domestic', 5.0),\n",
       " ('beh_-_barks', 21.0),\n",
       " (\"is_man's_best_friend\", 10.0),\n",
       " ('used_for_protection', 7.0),\n",
       " ('beh_-_chases', 6.0),\n",
       " ('beh_-_chases_cats', 6.0),\n",
       " ('has_a_nose', 5.0),\n",
       " ('has_a_wet_nose', 5.0),\n",
       " ('is_friendly', 5.0)]"
      ]
     },
     "execution_count": 20,
     "metadata": {},
     "output_type": "execute_result"
    }
   ],
   "source": [
    "model.concept_features['dog']"
   ]
  },
  {
   "cell_type": "code",
   "execution_count": 7,
   "metadata": {},
   "outputs": [
    {
     "name": "stdout",
     "output_type": "stream",
     "text": [
      "Building partial least squared regression 50\n",
      "Building partial least squared regression 200\n",
      "\n"
     ]
    }
   ],
   "source": [
    "# build baseline model (50 and 200)\n",
    "print('Building partial least squared regression 50')\n",
    "plsr50 = PLSR(path = path)\n",
    "plsr50.train(train_words = train_concepts, embedding_size = 50)\n",
    "\n",
    "print('Building partial least squared regression 200')\n",
    "plsr200 = PLSR(path = path)\n",
    "plsr200.train(train_words = train_concepts, embedding_size = 200)\n",
    "print('')"
   ]
  },
  {
   "cell_type": "code",
   "execution_count": 86,
   "metadata": {},
   "outputs": [],
   "source": [
    "import copy \n",
    "\n",
    "def topNeighbours_test(vector, matrix, top = 10):\n",
    "        '''\n",
    "            Function to find the top neighbours for an embedding \n",
    "        '''\n",
    "        vector[vector > 1] = 1\n",
    "        vector[vector < 1] = 0\n",
    "        mat = cosine_similarity([vector], matrix)\n",
    "\n",
    "        return np.flip([(model.id2concept[num], mat[0,num]) for num in np.argsort(mat[0,:])[-top:]])\n",
    "\n",
    "def neighbourScore_test(concept_dict, model, top = 10):\n",
    "    '''\n",
    "        Function to score the ability of a set of vectors to predict their \n",
    "        unseen golden feature representation when they are unseen.\n",
    "    '''\n",
    "    \n",
    "    scores = []\n",
    "    matrix = copy.deepcopy(model.data_matrix)\n",
    "    cdict = copy.deepcopy(concept_dict)\n",
    "    matrix[matrix > 0] = 1\n",
    "    for concept in concept_dict.keys():\n",
    "        top_concepts = [s[1] for s in topNeighbours_test(cdict[concept], matrix, top = top)]\n",
    "        if concept in top_concepts:\n",
    "            scores.append(1)\n",
    "        else:\n",
    "            scores.append(0)\n",
    "            \n",
    "    return np.mean(scores) * 100"
   ]
  },
  {
   "cell_type": "code",
   "execution_count": 47,
   "metadata": {},
   "outputs": [],
   "source": [
    "matrix = copy.deepcopy(model.data_matrix)\n",
    "matrix[matrix > 0] = 1"
   ]
  },
  {
   "cell_type": "code",
   "execution_count": 49,
   "metadata": {},
   "outputs": [
    {
     "name": "stdout",
     "output_type": "stream",
     "text": [
      "273\n"
     ]
    }
   ],
   "source": [
    "for index, word in enumerate(model.train_words):\n",
    "    if 'accordion' == word:\n",
    "        print(index)"
   ]
  },
  {
   "cell_type": "code",
   "execution_count": 83,
   "metadata": {},
   "outputs": [
    {
     "data": {
      "text/plain": [
       "39.0"
      ]
     },
     "execution_count": 83,
     "metadata": {},
     "output_type": "execute_result"
    }
   ],
   "source": [
    "vector = copy.deepcopy(plsr50.train_preds[273,:])\n",
    "vector[vector > 1] = 1\n",
    "vector[vector < 1] = 0\n",
    "sum(vector)"
   ]
  },
  {
   "cell_type": "code",
   "execution_count": 8,
   "metadata": {},
   "outputs": [
    {
     "name": "stdout",
     "output_type": "stream",
     "text": [
      "PLSR 50 neighbour scores\n"
     ]
    },
    {
     "ename": "NameError",
     "evalue": "name 'neighbourScore_test' is not defined",
     "output_type": "error",
     "traceback": [
      "\u001b[0;31m---------------------------------------------------------------------------\u001b[0m",
      "\u001b[0;31mNameError\u001b[0m                                 Traceback (most recent call last)",
      "\u001b[0;32m<ipython-input-8-ce8ee0a27df8>\u001b[0m in \u001b[0;36m<module>\u001b[0;34m\u001b[0m\n\u001b[1;32m      2\u001b[0m \u001b[0mtops\u001b[0m \u001b[0;34m=\u001b[0m \u001b[0;34m[\u001b[0m\u001b[0;36m1\u001b[0m\u001b[0;34m,\u001b[0m \u001b[0;36m5\u001b[0m\u001b[0;34m,\u001b[0m \u001b[0;36m10\u001b[0m\u001b[0;34m,\u001b[0m \u001b[0;36m20\u001b[0m\u001b[0;34m]\u001b[0m\u001b[0;34m\u001b[0m\u001b[0;34m\u001b[0m\u001b[0m\n\u001b[1;32m      3\u001b[0m \u001b[0;32mfor\u001b[0m \u001b[0mn\u001b[0m \u001b[0;32min\u001b[0m \u001b[0mtops\u001b[0m\u001b[0;34m:\u001b[0m\u001b[0;34m\u001b[0m\u001b[0;34m\u001b[0m\u001b[0m\n\u001b[0;32m----> 4\u001b[0;31m     \u001b[0mprint\u001b[0m\u001b[0;34m(\u001b[0m\u001b[0;34m'Top'\u001b[0m\u001b[0;34m,\u001b[0m \u001b[0mn\u001b[0m\u001b[0;34m,\u001b[0m \u001b[0mneighbourScore_test\u001b[0m\u001b[0;34m(\u001b[0m\u001b[0mconcept_dict_plsr50\u001b[0m\u001b[0;34m,\u001b[0m \u001b[0mplsr50\u001b[0m\u001b[0;34m,\u001b[0m \u001b[0mtop\u001b[0m \u001b[0;34m=\u001b[0m \u001b[0mn\u001b[0m\u001b[0;34m)\u001b[0m\u001b[0;34m)\u001b[0m\u001b[0;34m\u001b[0m\u001b[0;34m\u001b[0m\u001b[0m\n\u001b[0m",
      "\u001b[0;31mNameError\u001b[0m: name 'neighbourScore_test' is not defined"
     ]
    }
   ],
   "source": [
    "print('PLSR 50 neighbour scores')\n",
    "tops = [1, 5, 10, 20]\n",
    "for n in tops:\n",
    "    print('Top', n, neighbourScore_test(concept_dict_plsr50, plsr50, top = n))"
   ]
  },
  {
   "cell_type": "code",
   "execution_count": 29,
   "metadata": {},
   "outputs": [
    {
     "name": "stdout",
     "output_type": "stream",
     "text": [
      "has_horns\n"
     ]
    }
   ],
   "source": [
    "for feature in model.features:\n",
    "    if 'horn' in feature:\n",
    "        print(feature)"
   ]
  },
  {
   "cell_type": "code",
   "execution_count": 30,
   "metadata": {},
   "outputs": [
    {
     "data": {
      "text/plain": [
       "[('is_fast', 8.0),\n",
       " ('used_for_transportation', 8.0),\n",
       " ('is_large', 19.0),\n",
       " ('an_animal', 19.0),\n",
       " ('has_a_tail', 10.0),\n",
       " ('is_strong', 10.0),\n",
       " ('has_4_legs', 12.0),\n",
       " ('has_legs', 12.0),\n",
       " ('used_by_riding', 23.0),\n",
       " ('used_for_racing', 11.0),\n",
       " ('beh_-_eats', 10.0),\n",
       " ('is_beautiful', 6.0),\n",
       " ('lives_on_farms', 6.0),\n",
       " ('has_hooves', 5.0),\n",
       " ('has_a_mane', 13.0),\n",
       " ('associated_with_saddles', 10.0),\n",
       " ('used_for_pulling', 7.0),\n",
       " ('lives_in_stables', 6.0),\n",
       " ('used_for_working', 6.0)]"
      ]
     },
     "execution_count": 30,
     "metadata": {},
     "output_type": "execute_result"
    }
   ],
   "source": [
    "model.concept_features['horse']"
   ]
  },
  {
   "cell_type": "code",
   "execution_count": 31,
   "metadata": {},
   "outputs": [],
   "source": [
    "horse_vector = constructVector('horse', model)"
   ]
  },
  {
   "cell_type": "code",
   "execution_count": 40,
   "metadata": {},
   "outputs": [],
   "source": [
    "def topFeatures_spacy(word, top = 10):\n",
    "        '''\n",
    "            Function that gives the top cosine similar features for a word for all spacy tokens\n",
    "        '''\n",
    "        \n",
    "        token = model.nlp(u'' + word)\n",
    "        mat = cosine_similarity([token.vector], model.feature_vectors)\n",
    "\n",
    "        return np.flip([(model.id2feature[num], mat[0,num]) for num in np.argsort(mat[0,:])[-top:]])"
   ]
  },
  {
   "cell_type": "code",
   "execution_count": 63,
   "metadata": {},
   "outputs": [
    {
     "data": {
      "text/plain": [
       "array([['0.22988087', 'is_small'],\n",
       "       ['0.20725095', 'is_large'],\n",
       "       ['0.19934869', 'is_brown'],\n",
       "       ['0.16102341', 'is_long'],\n",
       "       ['0.1465615', 'made_of_wood'],\n",
       "       ['0.12829071', 'is_green'],\n",
       "       ['0.10037095', 'a_musical_instrument'],\n",
       "       ['0.082050346', 'has_leaves'],\n",
       "       ['0.06819723', 'a_tree'],\n",
       "       ['0.06301037', 'has_legs'],\n",
       "       ['0.058700614', 'a_fruit'],\n",
       "       ['0.0517056', 'has_4_legs'],\n",
       "       ['0.04527705', 'an_animal'],\n",
       "       ['0.039104667', 'has_wings'],\n",
       "       ['0.037234217', 'is_yellow'],\n",
       "       ['0.034211554', 'is_round'],\n",
       "       ['0.033984654', 'is_red'],\n",
       "       ['0.033442557', 'grows_on_trees'],\n",
       "       ['0.031300664', 'a_plant'],\n",
       "       ['0.031254865', 'is_white']], dtype='<U20')"
      ]
     },
     "execution_count": 63,
     "metadata": {},
     "output_type": "execute_result"
    }
   ],
   "source": [
    "topFeatures_spacy('tree', top = 20)"
   ]
  },
  {
   "cell_type": "code",
   "execution_count": 62,
   "metadata": {},
   "outputs": [
    {
     "data": {
      "text/plain": [
       "False"
      ]
     },
     "execution_count": 62,
     "metadata": {},
     "output_type": "execute_result"
    }
   ],
   "source": [
    "'tree' in model.concepts"
   ]
  },
  {
   "cell_type": "code",
   "execution_count": 38,
   "metadata": {},
   "outputs": [
    {
     "data": {
      "text/plain": [
       "array([[0.10038221]])"
      ]
     },
     "execution_count": 38,
     "metadata": {},
     "output_type": "execute_result"
    }
   ],
   "source": [
    "cosine_similarity([model.nlp(u'unicorn').vector], [horse_vector])"
   ]
  },
  {
   "cell_type": "code",
   "execution_count": 28,
   "metadata": {},
   "outputs": [
    {
     "ename": "KeyError",
     "evalue": "'has_horn'",
     "output_type": "error",
     "traceback": [
      "\u001b[0;31m---------------------------------------------------------------------------\u001b[0m",
      "\u001b[0;31mKeyError\u001b[0m                                  Traceback (most recent call last)",
      "\u001b[0;32m<ipython-input-28-10b76ebd26ae>\u001b[0m in \u001b[0;36m<module>\u001b[0;34m\u001b[0m\n\u001b[0;32m----> 1\u001b[0;31m \u001b[0mplsr50\u001b[0m\u001b[0;34m.\u001b[0m\u001b[0mtest_preds\u001b[0m\u001b[0;34m[\u001b[0m\u001b[0mplsr50\u001b[0m\u001b[0;34m.\u001b[0m\u001b[0mfeature2id\u001b[0m\u001b[0;34m[\u001b[0m\u001b[0;34m'has_horn'\u001b[0m\u001b[0;34m]\u001b[0m\u001b[0;34m]\u001b[0m\u001b[0;34m\u001b[0m\u001b[0;34m\u001b[0m\u001b[0m\n\u001b[0m",
      "\u001b[0;31mKeyError\u001b[0m: 'has_horn'"
     ]
    }
   ],
   "source": [
    "plsr50.test_preds[plsr50.feature2id['has_horn']]"
   ]
  },
  {
   "cell_type": "code",
   "execution_count": null,
   "metadata": {},
   "outputs": [],
   "source": [
    "print('PLSR 50 neighbour scores')\n",
    "tops = [1, 5, 10, 20]\n",
    "for n in tops:\n",
    "    print('Top', n, neighbourScore_test(concept_dict_plsr200, plsr200, top = n))"
   ]
  },
  {
   "cell_type": "code",
   "execution_count": 8,
   "metadata": {},
   "outputs": [],
   "source": [
    "concept_dict_plsr50 = {}\n",
    "for index, concept in enumerate(model.test_words):\n",
    "    concept_dict_plsr50[concept] = plsr50.test_preds[index,:]"
   ]
  },
  {
   "cell_type": "code",
   "execution_count": 9,
   "metadata": {},
   "outputs": [],
   "source": [
    "concept_dict_plsr200 = {}\n",
    "for index, concept in enumerate(model.test_words):\n",
    "    concept_dict_plsr200[concept] = plsr200.test_preds[index,:]"
   ]
  },
  {
   "cell_type": "code",
   "execution_count": 10,
   "metadata": {},
   "outputs": [],
   "source": [
    "from sklearn.metrics.pairwise import cosine_similarity\n",
    "\n",
    "vector = model.embedding_matrix.T[model.concept2id['dog']]"
   ]
  },
  {
   "cell_type": "code",
   "execution_count": 11,
   "metadata": {},
   "outputs": [
    {
     "name": "stdout",
     "output_type": "stream",
     "text": [
      "0.2701625063476897 an_animal\n",
      "0.28772309051835976 has_a_tail\n",
      "0.2862759917803589 has_fur\n",
      "0.2589869345062662 a_mammal\n",
      "0.2892803235207986 has_4_legs\n",
      "0.2538973318925837 has_legs\n",
      "0.27700141875302675 is_domestic\n",
      "0.25536266312176303 beh_-_barks\n",
      "0.2640726282911453 is_man's_best_friend\n",
      "0.2725296376485162 beh_-_chases\n",
      "0.2684109647772388 beh_-_chases_cats\n",
      "0.26140809122203756 has_a_wet_nose\n"
     ]
    }
   ],
   "source": [
    "for val, feat in zip(cosine_similarity([vector], model.feature_vectors)[0], model.features):\n",
    "    if val > 0.25:\n",
    "        print(val, feat)"
   ]
  },
  {
   "cell_type": "code",
   "execution_count": 11,
   "metadata": {},
   "outputs": [],
   "source": [
    "def topNeighbours_test2(vector, top = 10):\n",
    "    '''\n",
    "        Function to find the top neighbours for an embedding \n",
    "    '''\n",
    "\n",
    "    mat = cosine_similarity([vector], model.data_matrix)\n",
    "\n",
    "    return np.flip([(model.id2concept[num], mat[0,num]) for num in np.argsort(mat[0,:])[-top:]])"
   ]
  },
  {
   "cell_type": "code",
   "execution_count": 12,
   "metadata": {},
   "outputs": [
    {
     "data": {
      "text/plain": [
       "'balloon'"
      ]
     },
     "execution_count": 12,
     "metadata": {},
     "output_type": "execute_result"
    }
   ],
   "source": [
    "model.test_words[3]"
   ]
  },
  {
   "cell_type": "code",
   "execution_count": 12,
   "metadata": {},
   "outputs": [],
   "source": [
    "concept_dict_f2v = {}\n",
    "for index, concept in enumerate(model.test_words):\n",
    "    concept_dict_f2v[concept] = cosine_similarity([model.embedding_matrix.T[model.concept2id[concept]]],\n",
    "                                                 model.feature_vectors)"
   ]
  },
  {
   "cell_type": "code",
   "execution_count": 14,
   "metadata": {},
   "outputs": [
    {
     "ename": "ValueError",
     "evalue": "Found array with dim 3. check_pairwise_arrays expected <= 2.",
     "output_type": "error",
     "traceback": [
      "\u001b[0;31m---------------------------------------------------------------------------\u001b[0m",
      "\u001b[0;31mValueError\u001b[0m                                Traceback (most recent call last)",
      "\u001b[0;32m<ipython-input-14-fff3953adabe>\u001b[0m in \u001b[0;36m<module>\u001b[0;34m\u001b[0m\n\u001b[0;32m----> 1\u001b[0;31m \u001b[0mtopNeighbours_test2\u001b[0m\u001b[0;34m(\u001b[0m\u001b[0mconcept_dict_f2v\u001b[0m\u001b[0;34m[\u001b[0m\u001b[0;34m'balloon'\u001b[0m\u001b[0;34m]\u001b[0m\u001b[0;34m,\u001b[0m \u001b[0mtop\u001b[0m \u001b[0;34m=\u001b[0m \u001b[0;36m100\u001b[0m\u001b[0;34m)\u001b[0m\u001b[0;34m\u001b[0m\u001b[0;34m\u001b[0m\u001b[0m\n\u001b[0m",
      "\u001b[0;32m<ipython-input-11-0794cb593466>\u001b[0m in \u001b[0;36mtopNeighbours_test2\u001b[0;34m(vector, top)\u001b[0m\n\u001b[1;32m      4\u001b[0m     '''\n\u001b[1;32m      5\u001b[0m \u001b[0;34m\u001b[0m\u001b[0m\n\u001b[0;32m----> 6\u001b[0;31m     \u001b[0mmat\u001b[0m \u001b[0;34m=\u001b[0m \u001b[0mcosine_similarity\u001b[0m\u001b[0;34m(\u001b[0m\u001b[0;34m[\u001b[0m\u001b[0mvector\u001b[0m\u001b[0;34m]\u001b[0m\u001b[0;34m,\u001b[0m \u001b[0mmodel\u001b[0m\u001b[0;34m.\u001b[0m\u001b[0mdata_matrix\u001b[0m\u001b[0;34m)\u001b[0m\u001b[0;34m\u001b[0m\u001b[0;34m\u001b[0m\u001b[0m\n\u001b[0m\u001b[1;32m      7\u001b[0m \u001b[0;34m\u001b[0m\u001b[0m\n\u001b[1;32m      8\u001b[0m     \u001b[0;32mreturn\u001b[0m \u001b[0mnp\u001b[0m\u001b[0;34m.\u001b[0m\u001b[0mflip\u001b[0m\u001b[0;34m(\u001b[0m\u001b[0;34m[\u001b[0m\u001b[0;34m(\u001b[0m\u001b[0mmodel\u001b[0m\u001b[0;34m.\u001b[0m\u001b[0mid2concept\u001b[0m\u001b[0;34m[\u001b[0m\u001b[0mnum\u001b[0m\u001b[0;34m]\u001b[0m\u001b[0;34m,\u001b[0m \u001b[0mmat\u001b[0m\u001b[0;34m[\u001b[0m\u001b[0;36m0\u001b[0m\u001b[0;34m,\u001b[0m\u001b[0mnum\u001b[0m\u001b[0;34m]\u001b[0m\u001b[0;34m)\u001b[0m \u001b[0;32mfor\u001b[0m \u001b[0mnum\u001b[0m \u001b[0;32min\u001b[0m \u001b[0mnp\u001b[0m\u001b[0;34m.\u001b[0m\u001b[0margsort\u001b[0m\u001b[0;34m(\u001b[0m\u001b[0mmat\u001b[0m\u001b[0;34m[\u001b[0m\u001b[0;36m0\u001b[0m\u001b[0;34m,\u001b[0m\u001b[0;34m:\u001b[0m\u001b[0;34m]\u001b[0m\u001b[0;34m)\u001b[0m\u001b[0;34m[\u001b[0m\u001b[0;34m-\u001b[0m\u001b[0mtop\u001b[0m\u001b[0;34m:\u001b[0m\u001b[0;34m]\u001b[0m\u001b[0;34m]\u001b[0m\u001b[0;34m)\u001b[0m\u001b[0;34m\u001b[0m\u001b[0;34m\u001b[0m\u001b[0m\n",
      "\u001b[0;32m~/miniconda3/envs/prop_embs/lib/python3.6/site-packages/sklearn/metrics/pairwise.py\u001b[0m in \u001b[0;36mcosine_similarity\u001b[0;34m(X, Y, dense_output)\u001b[0m\n\u001b[1;32m    894\u001b[0m     \u001b[0;31m# to avoid recursive import\u001b[0m\u001b[0;34m\u001b[0m\u001b[0;34m\u001b[0m\u001b[0;34m\u001b[0m\u001b[0m\n\u001b[1;32m    895\u001b[0m \u001b[0;34m\u001b[0m\u001b[0m\n\u001b[0;32m--> 896\u001b[0;31m     \u001b[0mX\u001b[0m\u001b[0;34m,\u001b[0m \u001b[0mY\u001b[0m \u001b[0;34m=\u001b[0m \u001b[0mcheck_pairwise_arrays\u001b[0m\u001b[0;34m(\u001b[0m\u001b[0mX\u001b[0m\u001b[0;34m,\u001b[0m \u001b[0mY\u001b[0m\u001b[0;34m)\u001b[0m\u001b[0;34m\u001b[0m\u001b[0;34m\u001b[0m\u001b[0m\n\u001b[0m\u001b[1;32m    897\u001b[0m \u001b[0;34m\u001b[0m\u001b[0m\n\u001b[1;32m    898\u001b[0m     \u001b[0mX_normalized\u001b[0m \u001b[0;34m=\u001b[0m \u001b[0mnormalize\u001b[0m\u001b[0;34m(\u001b[0m\u001b[0mX\u001b[0m\u001b[0;34m,\u001b[0m \u001b[0mcopy\u001b[0m\u001b[0;34m=\u001b[0m\u001b[0;32mTrue\u001b[0m\u001b[0;34m)\u001b[0m\u001b[0;34m\u001b[0m\u001b[0;34m\u001b[0m\u001b[0m\n",
      "\u001b[0;32m~/miniconda3/envs/prop_embs/lib/python3.6/site-packages/sklearn/metrics/pairwise.py\u001b[0m in \u001b[0;36mcheck_pairwise_arrays\u001b[0;34m(X, Y, precomputed, dtype)\u001b[0m\n\u001b[1;32m    109\u001b[0m     \u001b[0;32melse\u001b[0m\u001b[0;34m:\u001b[0m\u001b[0;34m\u001b[0m\u001b[0;34m\u001b[0m\u001b[0m\n\u001b[1;32m    110\u001b[0m         X = check_array(X, accept_sparse='csr', dtype=dtype,\n\u001b[0;32m--> 111\u001b[0;31m                         warn_on_dtype=warn_on_dtype, estimator=estimator)\n\u001b[0m\u001b[1;32m    112\u001b[0m         Y = check_array(Y, accept_sparse='csr', dtype=dtype,\n\u001b[1;32m    113\u001b[0m                         warn_on_dtype=warn_on_dtype, estimator=estimator)\n",
      "\u001b[0;32m~/miniconda3/envs/prop_embs/lib/python3.6/site-packages/sklearn/utils/validation.py\u001b[0m in \u001b[0;36mcheck_array\u001b[0;34m(array, accept_sparse, accept_large_sparse, dtype, order, copy, force_all_finite, ensure_2d, allow_nd, ensure_min_samples, ensure_min_features, warn_on_dtype, estimator)\u001b[0m\n\u001b[1;32m    568\u001b[0m         \u001b[0;32mif\u001b[0m \u001b[0;32mnot\u001b[0m \u001b[0mallow_nd\u001b[0m \u001b[0;32mand\u001b[0m \u001b[0marray\u001b[0m\u001b[0;34m.\u001b[0m\u001b[0mndim\u001b[0m \u001b[0;34m>=\u001b[0m \u001b[0;36m3\u001b[0m\u001b[0;34m:\u001b[0m\u001b[0;34m\u001b[0m\u001b[0;34m\u001b[0m\u001b[0m\n\u001b[1;32m    569\u001b[0m             raise ValueError(\"Found array with dim %d. %s expected <= 2.\"\n\u001b[0;32m--> 570\u001b[0;31m                              % (array.ndim, estimator_name))\n\u001b[0m\u001b[1;32m    571\u001b[0m         \u001b[0;32mif\u001b[0m \u001b[0mforce_all_finite\u001b[0m\u001b[0;34m:\u001b[0m\u001b[0;34m\u001b[0m\u001b[0;34m\u001b[0m\u001b[0m\n\u001b[1;32m    572\u001b[0m             _assert_all_finite(array,\n",
      "\u001b[0;31mValueError\u001b[0m: Found array with dim 3. check_pairwise_arrays expected <= 2."
     ]
    }
   ],
   "source": [
    "topNeighbours_test2(concept_dict_f2v['balloon'], top = 100)"
   ]
  },
  {
   "cell_type": "code",
   "execution_count": 21,
   "metadata": {},
   "outputs": [],
   "source": [
    "mat = cosine_similarity(model.data_matrix, model.data_matrix)"
   ]
  },
  {
   "cell_type": "code",
   "execution_count": 14,
   "metadata": {},
   "outputs": [
    {
     "data": {
      "text/plain": [
       "(541, 541)"
      ]
     },
     "execution_count": 14,
     "metadata": {},
     "output_type": "execute_result"
    }
   ],
   "source": [
    "preds = plsr50.regressor.predict(plsr50.embedding_matrix.T)\n",
    "cosine_similarity(preds, preds).shape"
   ]
  },
  {
   "cell_type": "code",
   "execution_count": 15,
   "metadata": {},
   "outputs": [
    {
     "name": "stdout",
     "output_type": "stream",
     "text": [
      "SpearmanrResult(correlation=0.42039075941124726, pvalue=0.0)\n"
     ]
    }
   ],
   "source": [
    "from scipy.stats import spearmanr \n",
    "\n",
    "print(spearmanr(cosine_similarity(preds, preds)[np.triu_indices(541)], \n",
    "                cosine_similarity(model.data_matrix, model.data_matrix)[np.triu_indices(541)]))"
   ]
  },
  {
   "cell_type": "code",
   "execution_count": 16,
   "metadata": {},
   "outputs": [],
   "source": [
    "preds = plsr200.regressor.predict(plsr200.embedding_matrix.T)"
   ]
  },
  {
   "cell_type": "code",
   "execution_count": 17,
   "metadata": {},
   "outputs": [
    {
     "name": "stdout",
     "output_type": "stream",
     "text": [
      "SpearmanrResult(correlation=0.4477985576643311, pvalue=0.0)\n"
     ]
    }
   ],
   "source": [
    "from scipy.stats import spearmanr \n",
    "\n",
    "print(spearmanr(cosine_similarity(preds, preds)[np.triu_indices(541)], \n",
    "                cosine_similarity(model.data_matrix, model.data_matrix)[np.triu_indices(541)]))"
   ]
  },
  {
   "cell_type": "code",
   "execution_count": 18,
   "metadata": {},
   "outputs": [],
   "source": [
    "preds = cosine_similarity(model.embedding_matrix.T, model.feature_vectors)"
   ]
  },
  {
   "cell_type": "code",
   "execution_count": 19,
   "metadata": {},
   "outputs": [
    {
     "name": "stdout",
     "output_type": "stream",
     "text": [
      "SpearmanrResult(correlation=0.26914292817720864, pvalue=0.0)\n"
     ]
    }
   ],
   "source": [
    "from scipy.stats import spearmanr \n",
    "\n",
    "print(spearmanr(cosine_similarity(preds, preds)[np.triu_indices(541)], \n",
    "                cosine_similarity(model.data_matrix, model.data_matrix)[np.triu_indices(541)]))"
   ]
  },
  {
   "cell_type": "code",
   "execution_count": 8,
   "metadata": {},
   "outputs": [
    {
     "name": "stdout",
     "output_type": "stream",
     "text": [
      "Word: building\n"
     ]
    },
    {
     "ename": "NameError",
     "evalue": "name 'topNeighbours' is not defined",
     "output_type": "error",
     "traceback": [
      "\u001b[0;31m---------------------------------------------------------------------------\u001b[0m",
      "\u001b[0;31mNameError\u001b[0m                                 Traceback (most recent call last)",
      "\u001b[0;32m<ipython-input-8-4560f8775a6c>\u001b[0m in \u001b[0;36m<module>\u001b[0;34m\u001b[0m\n\u001b[1;32m      1\u001b[0m \u001b[0mindex\u001b[0m \u001b[0;34m=\u001b[0m \u001b[0;36m20\u001b[0m\u001b[0;34m\u001b[0m\u001b[0;34m\u001b[0m\u001b[0m\n\u001b[1;32m      2\u001b[0m \u001b[0mprint\u001b[0m\u001b[0;34m(\u001b[0m\u001b[0;34m'Word:'\u001b[0m\u001b[0;34m,\u001b[0m \u001b[0mmodel\u001b[0m\u001b[0;34m.\u001b[0m\u001b[0mtest_words\u001b[0m\u001b[0;34m[\u001b[0m\u001b[0mindex\u001b[0m\u001b[0;34m]\u001b[0m\u001b[0;34m)\u001b[0m\u001b[0;34m\u001b[0m\u001b[0;34m\u001b[0m\u001b[0m\n\u001b[0;32m----> 3\u001b[0;31m \u001b[0mtopNeighbours\u001b[0m\u001b[0;34m(\u001b[0m\u001b[0mconcept_dict_plsr200\u001b[0m\u001b[0;34m[\u001b[0m\u001b[0mmodel\u001b[0m\u001b[0;34m.\u001b[0m\u001b[0mtest_words\u001b[0m\u001b[0;34m[\u001b[0m\u001b[0mindex\u001b[0m\u001b[0;34m]\u001b[0m\u001b[0;34m]\u001b[0m\u001b[0;34m,\u001b[0m \u001b[0mmodel\u001b[0m\u001b[0;34m,\u001b[0m \u001b[0mtop\u001b[0m \u001b[0;34m=\u001b[0m \u001b[0;36m20\u001b[0m\u001b[0;34m)\u001b[0m\u001b[0;34m\u001b[0m\u001b[0;34m\u001b[0m\u001b[0m\n\u001b[0m",
      "\u001b[0;31mNameError\u001b[0m: name 'topNeighbours' is not defined"
     ]
    }
   ],
   "source": [
    "index = 20\n",
    "print('Word:', model.test_words[index])\n",
    "topNeighbours(concept_dict_plsr200[model.test_words[index]], model, top = 20)"
   ]
  },
  {
   "cell_type": "code",
   "execution_count": 10,
   "metadata": {},
   "outputs": [
    {
     "name": "stdout",
     "output_type": "stream",
     "text": [
      "PLSR 50 neighbour scores\n",
      "Top 1 3.546099290780142\n",
      "Top 5 14.184397163120568\n",
      "Top 10 29.78723404255319\n",
      "Top 20 47.5177304964539\n"
     ]
    }
   ],
   "source": [
    "print('PLSR 50 neighbour scores')\n",
    "tops = [1, 5, 10, 20]\n",
    "for n in tops:\n",
    "    print('Top', n, neighbourScore(concept_dict_plsr50, plsr50, top = n))"
   ]
  },
  {
   "cell_type": "code",
   "execution_count": 11,
   "metadata": {},
   "outputs": [
    {
     "name": "stdout",
     "output_type": "stream",
     "text": [
      "PLSR 200 neighbour scores\n",
      "Top 1 2.8368794326241136\n",
      "Top 5 29.78723404255319\n",
      "Top 10 45.39007092198582\n",
      "Top 20 58.86524822695035\n"
     ]
    }
   ],
   "source": [
    "print('PLSR 200 neighbour scores')\n",
    "tops = [1, 5, 10, 20]\n",
    "for n in tops:\n",
    "    print('Top', n, neighbourScore(concept_dict_plsr200, plsr200, top = n))"
   ]
  },
  {
   "cell_type": "code",
   "execution_count": 12,
   "metadata": {},
   "outputs": [],
   "source": [
    "def constructVector(concept, model):\n",
    "    new_vector = np.zeros(model.embedding_matrix.shape[0])\n",
    "    for feature in [s[0] for s in model.concept_features[concept]]:\n",
    "        new_vector += model.fvector(feature)\n",
    "        \n",
    "    return  new_vector / len(model.concept_features[concept])"
   ]
  },
  {
   "cell_type": "code",
   "execution_count": 13,
   "metadata": {},
   "outputs": [],
   "source": [
    "concept_dict_f2v = {}\n",
    "for index, concept in enumerate(model.test_words):\n",
    "    concept_dict_f2v[concept] = constructVector(concept, model)"
   ]
  },
  {
   "cell_type": "code",
   "execution_count": 14,
   "metadata": {},
   "outputs": [
    {
     "name": "stdout",
     "output_type": "stream",
     "text": [
      "Word: worm\n"
     ]
    },
    {
     "ename": "NameError",
     "evalue": "name 'topNeighbours' is not defined",
     "output_type": "error",
     "traceback": [
      "\u001b[0;31m---------------------------------------------------------------------------\u001b[0m",
      "\u001b[0;31mNameError\u001b[0m                                 Traceback (most recent call last)",
      "\u001b[0;32m<ipython-input-14-520403202371>\u001b[0m in \u001b[0;36m<module>\u001b[0;34m\u001b[0m\n\u001b[1;32m      1\u001b[0m \u001b[0mprint\u001b[0m\u001b[0;34m(\u001b[0m\u001b[0;34m'Word:'\u001b[0m\u001b[0;34m,\u001b[0m \u001b[0mmodel\u001b[0m\u001b[0;34m.\u001b[0m\u001b[0mtest_words\u001b[0m\u001b[0;34m[\u001b[0m\u001b[0mindex\u001b[0m\u001b[0;34m]\u001b[0m\u001b[0;34m)\u001b[0m\u001b[0;34m\u001b[0m\u001b[0;34m\u001b[0m\u001b[0m\n\u001b[0;32m----> 2\u001b[0;31m \u001b[0mtopNeighbours\u001b[0m\u001b[0;34m(\u001b[0m\u001b[0mconcept_dict_f2v\u001b[0m\u001b[0;34m[\u001b[0m\u001b[0mmodel\u001b[0m\u001b[0;34m.\u001b[0m\u001b[0mtest_words\u001b[0m\u001b[0;34m[\u001b[0m\u001b[0mindex\u001b[0m\u001b[0;34m]\u001b[0m\u001b[0;34m]\u001b[0m\u001b[0;34m,\u001b[0m \u001b[0mmodel\u001b[0m\u001b[0;34m,\u001b[0m \u001b[0mtop\u001b[0m \u001b[0;34m=\u001b[0m \u001b[0;36m10\u001b[0m\u001b[0;34m)\u001b[0m\u001b[0;34m\u001b[0m\u001b[0;34m\u001b[0m\u001b[0m\n\u001b[0m",
      "\u001b[0;31mNameError\u001b[0m: name 'topNeighbours' is not defined"
     ]
    }
   ],
   "source": [
    "print('Word:', model.test_words[index])\n",
    "topNeighbours(concept_dict_f2v[model.test_words[index]], model, top = 10)"
   ]
  },
  {
   "cell_type": "code",
   "execution_count": 15,
   "metadata": {},
   "outputs": [
    {
     "name": "stdout",
     "output_type": "stream",
     "text": [
      "Top 1 4.25531914893617\n",
      "Top 5 32.62411347517731\n",
      "Top 10 43.97163120567376\n",
      "Top 20 60.99290780141844\n"
     ]
    }
   ],
   "source": [
    "tops = [1, 5, 10, 20]\n",
    "for n in tops:\n",
    "    print('Top', n, neighbourScore(concept_dict_f2v, model, top = n))"
   ]
  },
  {
   "cell_type": "code",
   "execution_count": 16,
   "metadata": {},
   "outputs": [
    {
     "name": "stdout",
     "output_type": "stream",
     "text": [
      "PLSR 50 Scores\n",
      "Train: 49.523889981520554\n",
      "Test: 31.67454974804622\n"
     ]
    }
   ],
   "source": [
    "print('PLSR 50 Scores')\n",
    "print('Train:', np.mean(plsr50.feature_score(type = 'train'))*100)\n",
    "print('Test:', np.mean(plsr50.feature_score(type = 'test'))*100)"
   ]
  },
  {
   "cell_type": "code",
   "execution_count": 17,
   "metadata": {},
   "outputs": [
    {
     "name": "stdout",
     "output_type": "stream",
     "text": [
      "PLSR 200 Scores\n",
      "Train: 83.27890187522203\n",
      "Test: 30.361290408718116\n"
     ]
    }
   ],
   "source": [
    "print('PLSR 200 Scores')\n",
    "print('Train:', np.mean(plsr200.feature_score(type = 'train'))*100)\n",
    "print('Test:', np.mean(plsr200.feature_score(type = 'test'))*100)"
   ]
  },
  {
   "cell_type": "code",
   "execution_count": 18,
   "metadata": {},
   "outputs": [
    {
     "name": "stdout",
     "output_type": "stream",
     "text": [
      "Feat2Vec Scores\n",
      "Train: 91.12825373408393\n",
      "Test: 34.38880626944655\n"
     ]
    }
   ],
   "source": [
    "print('Feat2Vec Scores')\n",
    "print('Train:', np.mean(model.feature_score(type = 'train'))*100)\n",
    "print('Test:', np.mean(model.feature_score(type = 'test'))*100)"
   ]
  },
  {
   "cell_type": "code",
   "execution_count": 18,
   "metadata": {},
   "outputs": [],
   "source": [
    "plsr50_embs = dict(zip(plsr50.concepts, plsr50.regressor.predict(plsr50.embedding_matrix.T)))\n",
    "plsr200_embs = dict(zip(plsr200.concepts, plsr200.regressor.predict(plsr200.embedding_matrix.T)))"
   ]
  },
  {
   "cell_type": "code",
   "execution_count": 19,
   "metadata": {},
   "outputs": [],
   "source": [
    "f2v_embs = {}\n",
    "for index, concept in enumerate(model.concepts):\n",
    "    f2v_embs[concept] = constructVector(concept, model)"
   ]
  },
  {
   "cell_type": "code",
   "execution_count": 20,
   "metadata": {},
   "outputs": [],
   "source": [
    "saveEmbs(plsr50_embs, name = 'PLSR50_MCRAE')\n",
    "saveEmbs(plsr200_embs, name = 'PLSR200_MCRAE')\n",
    "saveEmbs(f2v_embs, name = 'F2V_MCRAE')"
   ]
  },
  {
   "cell_type": "code",
   "execution_count": 21,
   "metadata": {},
   "outputs": [],
   "source": [
    "import vecto\n",
    "import vecto.embeddings \n",
    "\n",
    "plsr50_vsm = vecto.embeddings.load_from_dir('embeddings/PLSR50_MCRAE')\n",
    "plsr200_vsm = vecto.embeddings.load_from_dir('embeddings/PLSR200_MCRAE')\n",
    "f2v_vsm = vecto.embeddings.load_from_dir('embeddings/F2V_MCRAE')"
   ]
  },
  {
   "cell_type": "code",
   "execution_count": 22,
   "metadata": {},
   "outputs": [
    {
     "name": "stdout",
     "output_type": "stream",
     "text": [
      "simlex999 - (0.46063852394335336, 44)\n",
      "men - (0.7081742681841207, 94)\n"
     ]
    }
   ],
   "source": [
    "vectoBenchmark(plsr50_vsm)"
   ]
  },
  {
   "cell_type": "code",
   "execution_count": 23,
   "metadata": {},
   "outputs": [
    {
     "name": "stdout",
     "output_type": "stream",
     "text": [
      "simlex999 - (0.5446472633161313, 44)\n",
      "men - (0.6996770736911174, 94)\n"
     ]
    }
   ],
   "source": [
    "vectoBenchmark(plsr200_vsm)"
   ]
  },
  {
   "cell_type": "code",
   "execution_count": 24,
   "metadata": {},
   "outputs": [
    {
     "name": "stdout",
     "output_type": "stream",
     "text": [
      "simlex999 - (0.5587426893853894, 44)\n",
      "men - (0.6643865978393246, 94)\n"
     ]
    }
   ],
   "source": [
    "vectoBenchmark(f2v_vsm)"
   ]
  }
 ],
 "metadata": {
  "kernelspec": {
   "display_name": "Python 3",
   "language": "python",
   "name": "python3"
  },
  "language_info": {
   "codemirror_mode": {
    "name": "ipython",
    "version": 3
   },
   "file_extension": ".py",
   "mimetype": "text/x-python",
   "name": "python",
   "nbconvert_exporter": "python",
   "pygments_lexer": "ipython3",
   "version": "3.6.8"
  }
 },
 "nbformat": 4,
 "nbformat_minor": 2
}
