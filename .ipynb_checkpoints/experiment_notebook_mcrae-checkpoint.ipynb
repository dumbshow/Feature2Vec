{
 "cells": [
  {
   "cell_type": "code",
   "execution_count": 1,
   "metadata": {},
   "outputs": [
    {
     "name": "stderr",
     "output_type": "stream",
     "text": [
      "Using TensorFlow backend.\n"
     ]
    },
    {
     "name": "stdout",
     "output_type": "stream",
     "text": [
      "Building feat2vec\n"
     ]
    }
   ],
   "source": [
    "import numpy as np \n",
    "from Feat2Vec import Feat2Vec \n",
    "from PLSR import PLSR\n",
    "from utils import * \n",
    "import os\n",
    "os.environ[\"CUDA_VISIBLE_DEVICES\"]=\"-1\"    \n",
    "\n",
    "SEED = 42\n",
    "np.random.seed(seed = SEED)\n",
    "\n",
    "path = 'data/mcrae_feature_matrix.csv'\n",
    "#path = 'data/cslb_feature_matrix.csv'\n",
    "\n",
    "print('Building feat2vec')\n",
    "model = Feat2Vec(path = path)"
   ]
  },
  {
   "cell_type": "code",
   "execution_count": 2,
   "metadata": {},
   "outputs": [],
   "source": [
    "shuffle = np.random.permutation(len(model.concepts))\n",
    "train_concepts = list(np.asarray(model.concepts)[shuffle][:400])\n",
    "test_concepts = list(np.asarray(model.concepts)[shuffle][400:])"
   ]
  },
  {
   "cell_type": "code",
   "execution_count": 4,
   "metadata": {},
   "outputs": [
    {
     "name": "stdout",
     "output_type": "stream",
     "text": [
      "False\n"
     ]
    }
   ],
   "source": [
    "import tensorflow as tf \n",
    "\n",
    "print(tf.test.is_gpu_available())"
   ]
  },
  {
   "cell_type": "code",
   "execution_count": 5,
   "metadata": {},
   "outputs": [
    {
     "name": "stdout",
     "output_type": "stream",
     "text": [
      "Training feat2vec\n",
      "Epoch: 199 Loss: 0.0017884020326719284\n"
     ]
    }
   ],
   "source": [
    "print('Training feat2vec')\n",
    "model.train(verbose = 0, epochs = 200, lr = 0.001, negative_samples = 20, train_words = train_concepts)\n",
    "print('')"
   ]
  },
  {
   "cell_type": "code",
   "execution_count": 6,
   "metadata": {},
   "outputs": [
    {
     "name": "stdout",
     "output_type": "stream",
     "text": [
      "Example features learned for word: dog\n",
      "[['0.26643879377080965' 'is_domestic']\n",
      " ['0.2635950565122341' 'has_a_wet_nose']\n",
      " ['0.25031002594992974' 'beh_-_chases_cats']\n",
      " ['0.24618182238421044' 'beh_-_chases']\n",
      " ['0.23003760398155676' 'has_fur']\n",
      " ['0.2299577929414023' 'has_a_nose']\n",
      " ['0.2222580441846434' 'beh_-_barks']\n",
      " ['0.21511611470728875' \"is_man's_best_friend\"]\n",
      " ['0.21296843460324924' 'has_a_tail']\n",
      " ['0.20549251559938664' 'a_pet']]\n",
      "\n"
     ]
    }
   ],
   "source": [
    "# test for word dog\n",
    "print('Example features learned for word: dog')\n",
    "print(model.topFeatures('dog', top = 10))\n",
    "print('')"
   ]
  },
  {
   "cell_type": "code",
   "execution_count": 7,
   "metadata": {},
   "outputs": [
    {
     "name": "stdout",
     "output_type": "stream",
     "text": [
      "Building partial least squared regression (baseline)\n",
      "\n"
     ]
    }
   ],
   "source": [
    "# build baseline model (50 and 200)\n",
    "print('Building partial least squared regression (baseline)')\n",
    "plsr50 = PLSR(path = path)\n",
    "plsr50.train(train_words = train_concepts, embedding_size = 50)\n",
    "\n",
    "plsr200 = PLSR(path = path)\n",
    "plsr200.train(train_words = train_concepts, embedding_size = 200)\n",
    "print('')"
   ]
  },
  {
   "cell_type": "code",
   "execution_count": 8,
   "metadata": {},
   "outputs": [],
   "source": [
    "concept_dict_plsr50 = {}\n",
    "for index, concept in enumerate(model.test_words):\n",
    "    concept_dict_plsr50[concept] = plsr50.test_preds[index,:]"
   ]
  },
  {
   "cell_type": "code",
   "execution_count": 9,
   "metadata": {},
   "outputs": [],
   "source": [
    "concept_dict_plsr200 = {}\n",
    "for index, concept in enumerate(model.test_words):\n",
    "    concept_dict_plsr200[concept] = plsr200.test_preds[index,:]"
   ]
  },
  {
   "cell_type": "code",
   "execution_count": 8,
   "metadata": {},
   "outputs": [
    {
     "name": "stdout",
     "output_type": "stream",
     "text": [
      "Word: building\n"
     ]
    },
    {
     "ename": "NameError",
     "evalue": "name 'topNeighbours' is not defined",
     "output_type": "error",
     "traceback": [
      "\u001b[0;31m---------------------------------------------------------------------------\u001b[0m",
      "\u001b[0;31mNameError\u001b[0m                                 Traceback (most recent call last)",
      "\u001b[0;32m<ipython-input-8-4560f8775a6c>\u001b[0m in \u001b[0;36m<module>\u001b[0;34m\u001b[0m\n\u001b[1;32m      1\u001b[0m \u001b[0mindex\u001b[0m \u001b[0;34m=\u001b[0m \u001b[0;36m20\u001b[0m\u001b[0;34m\u001b[0m\u001b[0;34m\u001b[0m\u001b[0m\n\u001b[1;32m      2\u001b[0m \u001b[0mprint\u001b[0m\u001b[0;34m(\u001b[0m\u001b[0;34m'Word:'\u001b[0m\u001b[0;34m,\u001b[0m \u001b[0mmodel\u001b[0m\u001b[0;34m.\u001b[0m\u001b[0mtest_words\u001b[0m\u001b[0;34m[\u001b[0m\u001b[0mindex\u001b[0m\u001b[0;34m]\u001b[0m\u001b[0;34m)\u001b[0m\u001b[0;34m\u001b[0m\u001b[0;34m\u001b[0m\u001b[0m\n\u001b[0;32m----> 3\u001b[0;31m \u001b[0mtopNeighbours\u001b[0m\u001b[0;34m(\u001b[0m\u001b[0mconcept_dict_plsr200\u001b[0m\u001b[0;34m[\u001b[0m\u001b[0mmodel\u001b[0m\u001b[0;34m.\u001b[0m\u001b[0mtest_words\u001b[0m\u001b[0;34m[\u001b[0m\u001b[0mindex\u001b[0m\u001b[0;34m]\u001b[0m\u001b[0;34m]\u001b[0m\u001b[0;34m,\u001b[0m \u001b[0mmodel\u001b[0m\u001b[0;34m,\u001b[0m \u001b[0mtop\u001b[0m \u001b[0;34m=\u001b[0m \u001b[0;36m20\u001b[0m\u001b[0;34m)\u001b[0m\u001b[0;34m\u001b[0m\u001b[0;34m\u001b[0m\u001b[0m\n\u001b[0m",
      "\u001b[0;31mNameError\u001b[0m: name 'topNeighbours' is not defined"
     ]
    }
   ],
   "source": [
    "index = 20\n",
    "print('Word:', model.test_words[index])\n",
    "topNeighbours(concept_dict_plsr200[model.test_words[index]], model, top = 20)"
   ]
  },
  {
   "cell_type": "code",
   "execution_count": 10,
   "metadata": {},
   "outputs": [
    {
     "name": "stdout",
     "output_type": "stream",
     "text": [
      "PLSR 50 neighbour scores\n",
      "Top 1 3.546099290780142\n",
      "Top 5 14.184397163120568\n",
      "Top 10 29.78723404255319\n",
      "Top 20 47.5177304964539\n"
     ]
    }
   ],
   "source": [
    "print('PLSR 50 neighbour scores')\n",
    "tops = [1, 5, 10, 20]\n",
    "for n in tops:\n",
    "    print('Top', n, neighbourScore(concept_dict_plsr50, plsr50, top = n))"
   ]
  },
  {
   "cell_type": "code",
   "execution_count": 11,
   "metadata": {},
   "outputs": [
    {
     "name": "stdout",
     "output_type": "stream",
     "text": [
      "PLSR 200 neighbour scores\n",
      "Top 1 2.8368794326241136\n",
      "Top 5 29.78723404255319\n",
      "Top 10 45.39007092198582\n",
      "Top 20 58.86524822695035\n"
     ]
    }
   ],
   "source": [
    "print('PLSR 200 neighbour scores')\n",
    "tops = [1, 5, 10, 20]\n",
    "for n in tops:\n",
    "    print('Top', n, neighbourScore(concept_dict_plsr200, plsr50, top = n))"
   ]
  },
  {
   "cell_type": "code",
   "execution_count": 12,
   "metadata": {},
   "outputs": [],
   "source": [
    "def constructVector(concept, model):\n",
    "    new_vector = np.zeros(model.embedding_matrix.shape[0])\n",
    "    for feature in [s[0] for s in model.concept_features[concept]]:\n",
    "        new_vector += model.fvector(feature)\n",
    "        \n",
    "    return  new_vector / len(model.concept_features[concept])"
   ]
  },
  {
   "cell_type": "code",
   "execution_count": 13,
   "metadata": {},
   "outputs": [],
   "source": [
    "concept_dict_f2v = {}\n",
    "for index, concept in enumerate(model.test_words):\n",
    "    concept_dict_f2v[concept] = constructVector(concept, model)"
   ]
  },
  {
   "cell_type": "code",
   "execution_count": 14,
   "metadata": {},
   "outputs": [
    {
     "name": "stdout",
     "output_type": "stream",
     "text": [
      "Word: worm\n"
     ]
    },
    {
     "ename": "NameError",
     "evalue": "name 'topNeighbours' is not defined",
     "output_type": "error",
     "traceback": [
      "\u001b[0;31m---------------------------------------------------------------------------\u001b[0m",
      "\u001b[0;31mNameError\u001b[0m                                 Traceback (most recent call last)",
      "\u001b[0;32m<ipython-input-14-520403202371>\u001b[0m in \u001b[0;36m<module>\u001b[0;34m\u001b[0m\n\u001b[1;32m      1\u001b[0m \u001b[0mprint\u001b[0m\u001b[0;34m(\u001b[0m\u001b[0;34m'Word:'\u001b[0m\u001b[0;34m,\u001b[0m \u001b[0mmodel\u001b[0m\u001b[0;34m.\u001b[0m\u001b[0mtest_words\u001b[0m\u001b[0;34m[\u001b[0m\u001b[0mindex\u001b[0m\u001b[0;34m]\u001b[0m\u001b[0;34m)\u001b[0m\u001b[0;34m\u001b[0m\u001b[0;34m\u001b[0m\u001b[0m\n\u001b[0;32m----> 2\u001b[0;31m \u001b[0mtopNeighbours\u001b[0m\u001b[0;34m(\u001b[0m\u001b[0mconcept_dict_f2v\u001b[0m\u001b[0;34m[\u001b[0m\u001b[0mmodel\u001b[0m\u001b[0;34m.\u001b[0m\u001b[0mtest_words\u001b[0m\u001b[0;34m[\u001b[0m\u001b[0mindex\u001b[0m\u001b[0;34m]\u001b[0m\u001b[0;34m]\u001b[0m\u001b[0;34m,\u001b[0m \u001b[0mmodel\u001b[0m\u001b[0;34m,\u001b[0m \u001b[0mtop\u001b[0m \u001b[0;34m=\u001b[0m \u001b[0;36m10\u001b[0m\u001b[0;34m)\u001b[0m\u001b[0;34m\u001b[0m\u001b[0;34m\u001b[0m\u001b[0m\n\u001b[0m",
      "\u001b[0;31mNameError\u001b[0m: name 'topNeighbours' is not defined"
     ]
    }
   ],
   "source": [
    "print('Word:', model.test_words[index])\n",
    "topNeighbours(concept_dict_f2v[model.test_words[index]], model, top = 10)"
   ]
  },
  {
   "cell_type": "code",
   "execution_count": 15,
   "metadata": {},
   "outputs": [
    {
     "name": "stdout",
     "output_type": "stream",
     "text": [
      "Top 1 4.25531914893617\n",
      "Top 5 32.62411347517731\n",
      "Top 10 43.97163120567376\n",
      "Top 20 60.99290780141844\n"
     ]
    }
   ],
   "source": [
    "tops = [1, 5, 10, 20]\n",
    "for n in tops:\n",
    "    print('Top', n, neighbourScore(concept_dict_f2v, model, top = n))"
   ]
  },
  {
   "cell_type": "code",
   "execution_count": 16,
   "metadata": {},
   "outputs": [
    {
     "name": "stdout",
     "output_type": "stream",
     "text": [
      "PLSR 50 Scores\n",
      "Train: 49.523889981520554\n",
      "Test: 31.67454974804622\n"
     ]
    }
   ],
   "source": [
    "print('PLSR 50 Scores')\n",
    "print('Train:', np.mean(plsr50.feature_score(type = 'train'))*100)\n",
    "print('Test:', np.mean(plsr50.feature_score(type = 'test'))*100)"
   ]
  },
  {
   "cell_type": "code",
   "execution_count": 17,
   "metadata": {},
   "outputs": [
    {
     "name": "stdout",
     "output_type": "stream",
     "text": [
      "PLSR 200 Scores\n",
      "Train: 83.27890187522203\n",
      "Test: 30.361290408718116\n"
     ]
    }
   ],
   "source": [
    "print('PLSR 200 Scores')\n",
    "print('Train:', np.mean(plsr200.feature_score(type = 'train'))*100)\n",
    "print('Test:', np.mean(plsr200.feature_score(type = 'test'))*100)"
   ]
  },
  {
   "cell_type": "code",
   "execution_count": 18,
   "metadata": {},
   "outputs": [
    {
     "name": "stdout",
     "output_type": "stream",
     "text": [
      "Feat2Vec Scores\n",
      "Train: 91.12825373408393\n",
      "Test: 34.38880626944655\n"
     ]
    }
   ],
   "source": [
    "print('Feat2Vec Scores')\n",
    "print('Train:', np.mean(model.feature_score(type = 'train'))*100)\n",
    "print('Test:', np.mean(model.feature_score(type = 'test'))*100)"
   ]
  },
  {
   "cell_type": "code",
   "execution_count": 18,
   "metadata": {},
   "outputs": [],
   "source": [
    "plsr50_embs = dict(zip(plsr50.concepts, plsr50.regressor.predict(plsr50.embedding_matrix.T)))\n",
    "plsr200_embs = dict(zip(plsr200.concepts, plsr200.regressor.predict(plsr200.embedding_matrix.T)))"
   ]
  },
  {
   "cell_type": "code",
   "execution_count": 19,
   "metadata": {},
   "outputs": [],
   "source": [
    "f2v_embs = {}\n",
    "for index, concept in enumerate(model.concepts):\n",
    "    f2v_embs[concept] = constructVector(concept, model)"
   ]
  },
  {
   "cell_type": "code",
   "execution_count": 20,
   "metadata": {},
   "outputs": [],
   "source": [
    "saveEmbs(plsr50_embs, name = 'PLSR50_MCRAE')\n",
    "saveEmbs(plsr200_embs, name = 'PLSR200_MCRAE')\n",
    "saveEmbs(f2v_embs, name = 'F2V_MCRAE')"
   ]
  },
  {
   "cell_type": "code",
   "execution_count": 21,
   "metadata": {},
   "outputs": [],
   "source": [
    "import vecto\n",
    "import vecto.embeddings \n",
    "\n",
    "plsr50_vsm = vecto.embeddings.load_from_dir('embeddings/PLSR50_MCRAE')\n",
    "plsr200_vsm = vecto.embeddings.load_from_dir('embeddings/PLSR200_MCRAE')\n",
    "f2v_vsm = vecto.embeddings.load_from_dir('embeddings/F2V_MCRAE')"
   ]
  },
  {
   "cell_type": "code",
   "execution_count": 22,
   "metadata": {},
   "outputs": [
    {
     "name": "stdout",
     "output_type": "stream",
     "text": [
      "simlex999 - (0.46063852394335336, 44)\n",
      "men - (0.7081742681841207, 94)\n"
     ]
    }
   ],
   "source": [
    "vectoBenchmark(plsr50_vsm)"
   ]
  },
  {
   "cell_type": "code",
   "execution_count": 23,
   "metadata": {},
   "outputs": [
    {
     "name": "stdout",
     "output_type": "stream",
     "text": [
      "simlex999 - (0.5446472633161313, 44)\n",
      "men - (0.6996770736911174, 94)\n"
     ]
    }
   ],
   "source": [
    "vectoBenchmark(plsr200_vsm)"
   ]
  },
  {
   "cell_type": "code",
   "execution_count": 24,
   "metadata": {},
   "outputs": [
    {
     "name": "stdout",
     "output_type": "stream",
     "text": [
      "simlex999 - (0.5587426893853894, 44)\n",
      "men - (0.6643865978393246, 94)\n"
     ]
    }
   ],
   "source": [
    "vectoBenchmark(f2v_vsm)"
   ]
  }
 ],
 "metadata": {
  "kernelspec": {
   "display_name": "Python 3",
   "language": "python",
   "name": "python3"
  },
  "language_info": {
   "codemirror_mode": {
    "name": "ipython",
    "version": 3
   },
   "file_extension": ".py",
   "mimetype": "text/x-python",
   "name": "python",
   "nbconvert_exporter": "python",
   "pygments_lexer": "ipython3",
   "version": "3.6.8"
  }
 },
 "nbformat": 4,
 "nbformat_minor": 2
}
