{
 "cells": [
  {
   "cell_type": "code",
   "execution_count": 1,
   "metadata": {},
   "outputs": [
    {
     "name": "stderr",
     "output_type": "stream",
     "text": [
      "Using TensorFlow backend.\n"
     ]
    },
    {
     "name": "stdout",
     "output_type": "stream",
     "text": [
      "Building feat2vec\n"
     ]
    }
   ],
   "source": [
    "import numpy as np \n",
    "from Feat2Vec import Feat2Vec \n",
    "from PLSR import PLSR\n",
    "from utils import * \n",
    "import os\n",
    "os.environ[\"CUDA_VISIBLE_DEVICES\"]=\"-1\"  \n",
    "\n",
    "SEED = 42\n",
    "np.random.seed(seed = SEED)\n",
    "\n",
    "path = 'data/cslb_feature_matrix.csv'\n",
    "\n",
    "print('Building feat2vec')\n",
    "model = Feat2Vec(path = path)"
   ]
  },
  {
   "cell_type": "code",
   "execution_count": 2,
   "metadata": {},
   "outputs": [],
   "source": [
    "# get state needed to reproduce experiments from paper \n",
    "import pickle as pkl \n",
    "\n",
    "with open('state_zero.pkl', 'rb') as f:\n",
    "    st0 = pkl.load(f)\n",
    "np.random.set_state(st0)"
   ]
  },
  {
   "cell_type": "code",
   "execution_count": 3,
   "metadata": {},
   "outputs": [],
   "source": [
    "shuffle = np.random.permutation(len(model.concepts))\n",
    "train_concepts = list(np.asarray(model.concepts)[shuffle][:500])\n",
    "test_concepts = list(np.asarray(model.concepts)[shuffle][500:])"
   ]
  },
  {
   "cell_type": "code",
   "execution_count": 4,
   "metadata": {},
   "outputs": [
    {
     "name": "stdout",
     "output_type": "stream",
     "text": [
      "Training feat2vec\n",
      "EPOCH99LOSS:([], [])\n"
     ]
    }
   ],
   "source": [
    "print('Training feat2vec')\n",
    "\n",
    "model.train(verbose = 0, lr = 1e-3, epochs = 1, negative_samples = 20, train_words = train_concepts)\n",
    "print('')"
   ]
  },
  {
   "cell_type": "code",
   "execution_count": 7,
   "metadata": {},
   "outputs": [
    {
     "data": {
      "text/plain": [
       "17"
      ]
     },
     "execution_count": 7,
     "metadata": {},
     "output_type": "execute_result"
    }
   ],
   "source": [
    "np.argmax(test_scores)"
   ]
  },
  {
   "cell_type": "code",
   "execution_count": 5,
   "metadata": {},
   "outputs": [
    {
     "name": "stderr",
     "output_type": "stream",
     "text": [
      "No handles with labels found to put in legend.\n"
     ]
    },
    {
     "data": {
      "image/png": "[encoded data removed]",
      "text/plain": [
       "<Figure size 432x288 with 1 Axes>"
      ]
     },
     "metadata": {
      "needs_background": "light"
     },
     "output_type": "display_data"
    }
   ],
   "source": [
    "%matplotlib inline \n",
    "import matplotlib.pyplot as plt \n",
    "\n",
    "plt.scatter(list(range(100)), train_scores, c = 'b')\n",
    "plt.scatter(list(range(100)), test_scores, c = 'r')\n",
    "plt.legend()\n",
    "plt.show()"
   ]
  },
  {
   "cell_type": "code",
   "execution_count": 5,
   "metadata": {},
   "outputs": [
    {
     "name": "stderr",
     "output_type": "stream",
     "text": [
      "No handles with labels found to put in legend.\n"
     ]
    },
    {
     "data": {
      "image/png": "[encoded data removed]",
      "text/plain": [
       "<Figure size 432x288 with 1 Axes>"
      ]
     },
     "metadata": {
      "needs_background": "light"
     },
     "output_type": "display_data"
    }
   ],
   "source": [
    "%matplotlib inline \n",
    "import matplotlib.pyplot as plt \n",
    "\n",
    "plt.scatter(list(range(100)), train_scores, c = 'b')\n",
    "plt.scatter(list(range(100)), test_scores, c = 'r')\n",
    "plt.legend()\n",
    "plt.show()"
   ]
  },
  {
   "cell_type": "code",
   "execution_count": 11,
   "metadata": {},
   "outputs": [
    {
     "name": "stderr",
     "output_type": "stream",
     "text": [
      "No handles with labels found to put in legend.\n"
     ]
    },
    {
     "data": {
      "image/png": "[encoded data removed]",
      "text/plain": [
       "<Figure size 432x288 with 1 Axes>"
      ]
     },
     "metadata": {
      "needs_background": "light"
     },
     "output_type": "display_data"
    }
   ],
   "source": [
    "%matplotlib inline \n",
    "import matplotlib.pyplot as plt \n",
    "\n",
    "plt.scatter(list(range(100)), train_scores, c = 'b')\n",
    "plt.scatter(list(range(100)), test_scores, c = 'r')\n",
    "plt.legend()\n",
    "plt.show()"
   ]
  },
  {
   "cell_type": "code",
   "execution_count": 5,
   "metadata": {},
   "outputs": [
    {
     "name": "stdout",
     "output_type": "stream",
     "text": [
      "Example features learned for word: dog\n",
      "[['0.46073351878274366' 'has_four_legs']\n",
      " ['0.45355983290302126' 'is_a_mammal']\n",
      " ['0.4251354346260301' 'has_fur_hair']\n",
      " ['0.4159572851220622' 'has_ears']\n",
      " ['0.4086719827304564' 'is_an_animal']\n",
      " ['0.3535401767046433' 'is_cute']\n",
      " ['0.3511716648038085' 'is_a_pet']\n",
      " ['0.3494072504503538' 'has_teeth']\n",
      " ['0.34699114663068686' 'does_eat']\n",
      " ['0.3381582965003531' 'has_a_tail']]\n",
      "\n"
     ]
    }
   ],
   "source": [
    "# test for word dog~\n",
    "print('Example features learned for word: dog')\n",
    "print(model.top_features(model.wvector('dog'), top = 10))\n",
    "print('')"
   ]
  },
  {
   "cell_type": "code",
   "execution_count": 6,
   "metadata": {},
   "outputs": [
    {
     "name": "stdout",
     "output_type": "stream",
     "text": [
      "Building partial least squared regression (50)\n",
      "Building partial least squared regression (200)\n"
     ]
    },
    {
     "name": "stderr",
     "output_type": "stream",
     "text": [
      "/home/40106170/miniconda3/envs/prop_embs/lib/python3.6/site-packages/sklearn/cross_decomposition/pls_.py:79: ConvergenceWarning: Maximum number of iterations reached\n",
      "  ConvergenceWarning)\n"
     ]
    },
    {
     "name": "stdout",
     "output_type": "stream",
     "text": [
      "\n"
     ]
    }
   ],
   "source": [
    "# build baseline model (50 and 200)\n",
    "from PLSR import PLSR\n",
    "print('Building partial least squared regression (50)')\n",
    "plsr50 = PLSR(path = path, train_words = train_concepts)\n",
    "plsr50.train(embedding_size = 50)\n",
    "\n",
    "print('Building partial least squared regression (200)')\n",
    "plsr200 = PLSR(path = path, train_words = train_concepts)\n",
    "plsr200.train(embedding_size = 120)\n",
    "print('')"
   ]
  },
  {
   "cell_type": "code",
   "execution_count": 7,
   "metadata": {},
   "outputs": [],
   "source": [
    "concept_dict_plsr50 = {}\n",
    "for index, concept in enumerate(plsr50.test_words):\n",
    "    concept_dict_plsr50[concept] = plsr50._test_preds[index,:]"
   ]
  },
  {
   "cell_type": "code",
   "execution_count": 8,
   "metadata": {},
   "outputs": [],
   "source": [
    "concept_dict_plsr200 = {}\n",
    "for index, concept in enumerate(plsr200.test_words):\n",
    "    concept_dict_plsr200[concept] = plsr200._test_preds[index,:]"
   ]
  },
  {
   "cell_type": "code",
   "execution_count": 9,
   "metadata": {},
   "outputs": [
    {
     "data": {
      "text/plain": [
       "(2725,)"
      ]
     },
     "execution_count": 9,
     "metadata": {},
     "output_type": "execute_result"
    }
   ],
   "source": [
    "concept_dict_plsr200['alligator'].shape"
   ]
  },
  {
   "cell_type": "code",
   "execution_count": 11,
   "metadata": {},
   "outputs": [
    {
     "name": "stdout",
     "output_type": "stream",
     "text": [
      "PLSR 50 neighbour scores\n",
      "Top 1 2.898550724637681\n",
      "Top 5 23.18840579710145\n",
      "Top 10 44.20289855072464\n",
      "Top 20 60.86956521739131\n"
     ]
    }
   ],
   "source": [
    "print('PLSR 50 neighbour scores')\n",
    "tops = [1, 5, 10, 20]\n",
    "for n in tops:\n",
    "    print('Top', n, neighbour_score(concept_dict_plsr50, plsr50, top = n))"
   ]
  },
  {
   "cell_type": "code",
   "execution_count": 12,
   "metadata": {},
   "outputs": [
    {
     "name": "stdout",
     "output_type": "stream",
     "text": [
      "PLSR 200 neighbour scores\n",
      "Top 1 7.246376811594203\n",
      "Top 5 34.78260869565217\n",
      "Top 10 55.79710144927537\n",
      "Top 20 71.73913043478261\n"
     ]
    }
   ],
   "source": [
    "print('PLSR 200 neighbour scores')\n",
    "tops = [1, 5, 10, 20]\n",
    "for n in tops:\n",
    "    print('Top', n, neighbour_score(concept_dict_plsr200, plsr200, top = n))"
   ]
  },
  {
   "cell_type": "code",
   "execution_count": 10,
   "metadata": {},
   "outputs": [],
   "source": [
    "def constructVector(concept, model):\n",
    "    new_vector = np.zeros(model.embedding_matrix.shape[0])\n",
    "    for feature in [s[0] for s in model.concept_features[concept]]:\n",
    "        new_vector += model.fvector(feature)\n",
    "        \n",
    "    return  new_vector / len(model.concept_features[concept])"
   ]
  },
  {
   "cell_type": "code",
   "execution_count": 11,
   "metadata": {},
   "outputs": [],
   "source": [
    "concept_dict_f2v = {}\n",
    "for index, concept in enumerate(model.test_words):\n",
    "    concept_dict_f2v[concept] = constructVector(concept, model)"
   ]
  },
  {
   "cell_type": "code",
   "execution_count": 12,
   "metadata": {},
   "outputs": [
    {
     "name": "stdout",
     "output_type": "stream",
     "text": [
      "Word: woodpecker\n"
     ]
    },
    {
     "data": {
      "text/plain": [
       "array([['0.6736627381273375', 'starling'],\n",
       "       ['0.6710768313252631', 'sparrow'],\n",
       "       ['0.6446555201168497', 'pigeon'],\n",
       "       ['0.6250987891170844', 'heron'],\n",
       "       ['0.6148479741121863', 'hummingbird'],\n",
       "       ['0.6079117641165822', 'buzzard'],\n",
       "       ['0.6028552232756201', 'hawk'],\n",
       "       ['0.602344027431355', 'magpie'],\n",
       "       ['0.5999786729156846', 'owl'],\n",
       "       ['0.5929330736076904', 'squirrel']], dtype='<U18')"
      ]
     },
     "execution_count": 12,
     "metadata": {},
     "output_type": "execute_result"
    }
   ],
   "source": [
    "print('Word:', model.test_words[index])\n",
    "model.rank_neighbours(concept_dict_f2v[model.test_words[index]], top = 10)"
   ]
  },
  {
   "cell_type": "code",
   "execution_count": 13,
   "metadata": {},
   "outputs": [
    {
     "name": "stdout",
     "output_type": "stream",
     "text": [
      "[['0.5994416674115735' 'ibuprofen']\n",
      " ['0.5819482815660809' 'codeine']\n",
      " ['0.5343429395643245' 'aspirin']\n",
      " ['0.5294932102231843' 'valium']\n",
      " ['0.2679265490580743' 'cod']\n",
      " ['0.2620516747749544' 'mackerel']\n",
      " ['0.2593965910746371' 'minnow']\n",
      " ['0.24661875057717375' 'trout']\n",
      " ['0.24597657981419946' 'herring']\n",
      " ['0.2441297985369974' 'lily']]\n"
     ]
    }
   ],
   "source": [
    "mat = cosine_similarity([concept_dict_plsr50['aspirin']], plsr50.data_matrix)\n",
    "print(np.flip([(plsr50.id2concept[num], mat[0, num]) for num in np.argsort(mat[0, :])[-10:]]))"
   ]
  },
  {
   "cell_type": "code",
   "execution_count": 14,
   "metadata": {},
   "outputs": [
    {
     "data": {
      "text/plain": [
       "array([['13.679915470647654', 'is_an_animal'],\n",
       "       ['12.399435984577588', 'has_a_tail'],\n",
       "       ['11.873519836421135', 'has_fur_hair'],\n",
       "       ['8.816137405289103', 'is_a_mammal'],\n",
       "       ['7.555817720496786', 'is_a_pet'],\n",
       "       ['5.815674580574985', 'has_four_legs'],\n",
       "       ['5.145964148550569', 'does_eat'],\n",
       "       ['4.7740928811863395', 'has_teeth'],\n",
       "       ['4.768676374329231', 'is_small'],\n",
       "       ['3.144925393842424', 'has_ears']], dtype='<U18')"
      ]
     },
     "execution_count": 14,
     "metadata": {},
     "output_type": "execute_result"
    }
   ],
   "source": [
    "plsr50.top_features(plsr50.wvector('dog'), top = 10)"
   ]
  },
  {
   "cell_type": "code",
   "execution_count": 15,
   "metadata": {},
   "outputs": [
    {
     "name": "stdout",
     "output_type": "stream",
     "text": [
      "Top 1 5.797101449275362\n",
      "Top 5 36.95652173913043\n",
      "Top 10 54.347826086956516\n",
      "Top 20 68.84057971014492\n"
     ]
    }
   ],
   "source": [
    "tops = [1, 5, 10, 20]\n",
    "for n in tops:\n",
    "    print('Top', n, neighbour_score(concept_dict_f2v, model, top = n))"
   ]
  },
  {
   "cell_type": "code",
   "execution_count": 16,
   "metadata": {},
   "outputs": [
    {
     "name": "stdout",
     "output_type": "stream",
     "text": [
      "Train: 63.15084056722655\n",
      "Test: 41.350643300372845\n"
     ]
    }
   ],
   "source": [
    "print('Train:', np.mean(feature_score(model, data_type = 'train', max_features = 0))*100)\n",
    "print('Test:', np.mean(feature_score(model, data_type = 'test', max_features = 0))*100)"
   ]
  },
  {
   "cell_type": "code",
   "execution_count": 17,
   "metadata": {},
   "outputs": [
    {
     "name": "stdout",
     "output_type": "stream",
     "text": [
      "PLSR 200 Scores\n",
      "Train: 50.57949454864544\n",
      "Test: 40.25185648542887\n"
     ]
    }
   ],
   "source": [
    "print('PLSR 200 Scores')\n",
    "print('Train:', np.mean(feature_score(plsr50, data_type = 'train', max_features = 0))*100)\n",
    "print('Test:', np.mean(feature_score(plsr50, data_type = 'test', max_features = 0))*100)"
   ]
  },
  {
   "cell_type": "code",
   "execution_count": 18,
   "metadata": {},
   "outputs": [
    {
     "name": "stdout",
     "output_type": "stream",
     "text": [
      "Feat2Vec Scores\n",
      "Train: 65.42766605331973\n",
      "Test: 40.71468254150691\n"
     ]
    }
   ],
   "source": [
    "print('Feat2Vec Scores')\n",
    "print('Train:', np.mean(feature_score(plsr200, data_type = 'train', max_features = 0))*100)\n",
    "print('Test:', np.mean(feature_score(plsr200, data_type = 'test', max_features = 0))*100) "
   ]
  },
  {
   "cell_type": "code",
   "execution_count": 37,
   "metadata": {},
   "outputs": [],
   "source": [
    "def feature_score(m, type = 'test', max_features = 6, top = 0):\n",
    "    '''\n",
    "        Scores model on its ability to retrieve correct features\n",
    "    '''\n",
    "    if type == 'train':\n",
    "        concepts = m.train_words\n",
    "    if type == 'test':\n",
    "        concepts = m.test_words\n",
    "\n",
    "    total_scores = []\n",
    "    for concept in concepts:\n",
    "        if max_features == 0:\n",
    "            features = [x[0] for x in m.concept_features[concept]]\n",
    "            num_pred_features = len(features)\n",
    "        else:\n",
    "            features = [x[0] for x in sorted(m.concept_features[concept], key=lambda tup: tup[1], reverse = True)][:max_features]\n",
    "            num_pred_features = top\n",
    "            \n",
    "\n",
    "        predicted_features = [x[1] for x in m.topFeatures(concept, top = num_pred_features)]\n",
    "\n",
    "        # scores = [int(features[num] == predicted_features[num]) for num in range(num_features)]\n",
    "        positives = [f for f in features if f in predicted_features]\n",
    "\n",
    "        # total_scores.append(f1_score(np.ones(num_features), scores))\n",
    "        total_scores.append(len(positives) / len(features))\n",
    "\n",
    "    return num_pred_features"
   ]
  },
  {
   "cell_type": "code",
   "execution_count": 38,
   "metadata": {},
   "outputs": [
    {
     "data": {
      "text/plain": [
       "16"
      ]
     },
     "execution_count": 38,
     "metadata": {},
     "output_type": "execute_result"
    }
   ],
   "source": [
    "feature_score(model, type = 'test', max_features = 0, top = 10)"
   ]
  },
  {
   "cell_type": "code",
   "execution_count": 32,
   "metadata": {},
   "outputs": [
    {
     "data": {
      "text/plain": [
       "['does_eat',\n",
       " 'does_eat_insects',\n",
       " 'does_fly',\n",
       " 'does_live_in_trees',\n",
       " 'does_make_a_knocking_sound',\n",
       " 'does_make_sound_a_noise',\n",
       " 'does_peck',\n",
       " 'does_peck_trees',\n",
       " 'has_a_beak',\n",
       " 'has_feathers',\n",
       " 'has_wings',\n",
       " 'is_a_bird',\n",
       " 'is_an_animal',\n",
       " 'is_colourful',\n",
       " 'is_noisy_loud',\n",
       " 'is_small']"
      ]
     },
     "execution_count": 32,
     "metadata": {},
     "output_type": "execute_result"
    }
   ],
   "source": [
    "feature_score(model, type = 'test', max_features = 0, top = 0)"
   ]
  },
  {
   "cell_type": "code",
   "execution_count": 34,
   "metadata": {},
   "outputs": [
    {
     "data": {
      "text/plain": [
       "['does_eat',\n",
       " 'does_fly',\n",
       " 'has_a_beak',\n",
       " 'has_feathers',\n",
       " 'has_wings',\n",
       " 'is_a_bird',\n",
       " 'is_an_animal',\n",
       " 'is_small']"
      ]
     },
     "execution_count": 34,
     "metadata": {},
     "output_type": "execute_result"
    }
   ],
   "source": [
    "feature_score(model, type = 'test', max_features = 0, top = 0)"
   ]
  },
  {
   "cell_type": "code",
   "execution_count": 31,
   "metadata": {},
   "outputs": [
    {
     "data": {
      "text/plain": [
       "[('has_fur_hair', 18.0),\n",
       " ('does_bark', 17.0),\n",
       " ('has_a_tail', 16.0),\n",
       " ('is_a_pet', 15.0),\n",
       " ('is_an_animal', 14.0),\n",
       " (\"is_man's_best_friend\", 14.0),\n",
       " ('has_four_legs', 10.0),\n",
       " ('has_teeth', 9.0),\n",
       " ('has_legs', 8.0),\n",
       " ('is_a_mammal', 8.0),\n",
       " ('does_wag_its_tail', 6.0),\n",
       " ('is_a_companion', 6.0),\n",
       " ('has_paws', 5.0)]"
      ]
     },
     "execution_count": 31,
     "metadata": {},
     "output_type": "execute_result"
    }
   ],
   "source": [
    "sorted(model.concept_features['dog'], key=lambda tup: tup[1], reverse = True)"
   ]
  },
  {
   "cell_type": "code",
   "execution_count": 25,
   "metadata": {},
   "outputs": [
    {
     "name": "stdout",
     "output_type": "stream",
     "text": [
      "124\n"
     ]
    }
   ],
   "source": [
    "for index, c in enumerate(model.train_words):\n",
    "    if c == 'dog':\n",
    "        print(index)"
   ]
  },
  {
   "cell_type": "code",
   "execution_count": 32,
   "metadata": {},
   "outputs": [
    {
     "data": {
      "text/plain": [
       "array([['13.679915470647657', 'is_an_animal'],\n",
       "       ['12.399435984577583', 'has_a_tail'],\n",
       "       ['11.87351983642113', 'has_fur_hair'],\n",
       "       ['8.816137405289103', 'is_a_mammal'],\n",
       "       ['7.555817720496783', 'is_a_pet'],\n",
       "       ['5.815674580574989', 'has_four_legs'],\n",
       "       ['5.145964148550571', 'does_eat'],\n",
       "       ['4.774092881186341', 'has_teeth'],\n",
       "       ['4.768676374329232', 'is_small'],\n",
       "       ['3.144925393842424', 'has_ears']], dtype='<U18')"
      ]
     },
     "execution_count": 32,
     "metadata": {},
     "output_type": "execute_result"
    }
   ],
   "source": [
    "plsr50._topFeatures(plsr50.train_preds[124,], top = 10)"
   ]
  },
  {
   "cell_type": "code",
   "execution_count": 35,
   "metadata": {},
   "outputs": [
    {
     "data": {
      "text/plain": [
       "array([['0.32985561420015874', 'has_fur_hair'],\n",
       "       ['0.3262943132545567', 'is_a_pet'],\n",
       "       ['0.3255799864157062', 'has_a_tail'],\n",
       "       ['0.3234093911685865', 'is_a_mammal'],\n",
       "       ['0.3186879742441558', 'is_an_animal'],\n",
       "       ['0.31102201386699646', 'has_four_legs'],\n",
       "       ['0.2773127630564094', 'has_legs'],\n",
       "       ['0.2621679284517493', 'has_teeth'],\n",
       "       ['0.2504395114094319', 'has_paws'],\n",
       "       ['0.24177156030183258', 'does_eat'],\n",
       "       ['0.23996603770038774', 'is_small'],\n",
       "       ['0.2392449269779745', 'has_ears'],\n",
       "       ['0.227519232908293', \"is_man's_best_friend\"],\n",
       "       ['0.22412886878432492', 'is_a_companion'],\n",
       "       ['0.22225413257465754', 'does_bark'],\n",
       "       ['0.22073663714223363', 'does_wag_its_tail'],\n",
       "       ['0.21255811663342694', 'is_cute'],\n",
       "       ['0.20689169970638357', 'has_whiskers'],\n",
       "       ['0.13908672234384234', 'is_fast'],\n",
       "       ['0.1388533141314509', 'has_claws']], dtype='<U20')"
      ]
     },
     "execution_count": 35,
     "metadata": {},
     "output_type": "execute_result"
    }
   ],
   "source": [
    "model.topFeatures('dog', top = 20)"
   ]
  },
  {
   "cell_type": "code",
   "execution_count": 22,
   "metadata": {},
   "outputs": [
    {
     "ename": "ValueError",
     "evalue": "Expected 2D array, got 1D array instead:\narray=[0. 0. 0. ... 0. 0. 0.].\nReshape your data either using array.reshape(-1, 1) if your data has a single feature or array.reshape(1, -1) if it contains a single sample.",
     "output_type": "error",
     "traceback": [
      "\u001b[0;31m---------------------------------------------------------------------------\u001b[0m",
      "\u001b[0;31mValueError\u001b[0m                                Traceback (most recent call last)",
      "\u001b[0;32m<ipython-input-22-f64fa037d056>\u001b[0m in \u001b[0;36m<module>\u001b[0;34m\u001b[0m\n\u001b[0;32m----> 1\u001b[0;31m \u001b[0mplsr50\u001b[0m\u001b[0;34m.\u001b[0m\u001b[0mregressor\u001b[0m\u001b[0;34m.\u001b[0m\u001b[0mpredict\u001b[0m\u001b[0;34m(\u001b[0m\u001b[0mplsr50\u001b[0m\u001b[0;34m.\u001b[0m\u001b[0mdata_matrix\u001b[0m\u001b[0;34m[\u001b[0m\u001b[0mplsr50\u001b[0m\u001b[0;34m.\u001b[0m\u001b[0mconcept2id\u001b[0m\u001b[0;34m[\u001b[0m\u001b[0;34m'dog'\u001b[0m\u001b[0;34m]\u001b[0m\u001b[0;34m,\u001b[0m\u001b[0;34m:\u001b[0m\u001b[0;34m]\u001b[0m\u001b[0;34m)\u001b[0m\u001b[0;34m.\u001b[0m\u001b[0mshape\u001b[0m\u001b[0;34m\u001b[0m\u001b[0;34m\u001b[0m\u001b[0m\n\u001b[0m",
      "\u001b[0;32m~/miniconda3/envs/prop_embs/lib/python3.6/site-packages/sklearn/cross_decomposition/pls_.py\u001b[0m in \u001b[0;36mpredict\u001b[0;34m(self, X, copy)\u001b[0m\n\u001b[1;32m    430\u001b[0m         \"\"\"\n\u001b[1;32m    431\u001b[0m         \u001b[0mcheck_is_fitted\u001b[0m\u001b[0;34m(\u001b[0m\u001b[0mself\u001b[0m\u001b[0;34m,\u001b[0m \u001b[0;34m'x_mean_'\u001b[0m\u001b[0;34m)\u001b[0m\u001b[0;34m\u001b[0m\u001b[0;34m\u001b[0m\u001b[0m\n\u001b[0;32m--> 432\u001b[0;31m         \u001b[0mX\u001b[0m \u001b[0;34m=\u001b[0m \u001b[0mcheck_array\u001b[0m\u001b[0;34m(\u001b[0m\u001b[0mX\u001b[0m\u001b[0;34m,\u001b[0m \u001b[0mcopy\u001b[0m\u001b[0;34m=\u001b[0m\u001b[0mcopy\u001b[0m\u001b[0;34m,\u001b[0m \u001b[0mdtype\u001b[0m\u001b[0;34m=\u001b[0m\u001b[0mFLOAT_DTYPES\u001b[0m\u001b[0;34m)\u001b[0m\u001b[0;34m\u001b[0m\u001b[0;34m\u001b[0m\u001b[0m\n\u001b[0m\u001b[1;32m    433\u001b[0m         \u001b[0;31m# Normalize\u001b[0m\u001b[0;34m\u001b[0m\u001b[0;34m\u001b[0m\u001b[0;34m\u001b[0m\u001b[0m\n\u001b[1;32m    434\u001b[0m         \u001b[0mX\u001b[0m \u001b[0;34m-=\u001b[0m \u001b[0mself\u001b[0m\u001b[0;34m.\u001b[0m\u001b[0mx_mean_\u001b[0m\u001b[0;34m\u001b[0m\u001b[0;34m\u001b[0m\u001b[0m\n",
      "\u001b[0;32m~/miniconda3/envs/prop_embs/lib/python3.6/site-packages/sklearn/utils/validation.py\u001b[0m in \u001b[0;36mcheck_array\u001b[0;34m(array, accept_sparse, accept_large_sparse, dtype, order, copy, force_all_finite, ensure_2d, allow_nd, ensure_min_samples, ensure_min_features, warn_on_dtype, estimator)\u001b[0m\n\u001b[1;32m    550\u001b[0m                     \u001b[0;34m\"Reshape your data either using array.reshape(-1, 1) if \"\u001b[0m\u001b[0;34m\u001b[0m\u001b[0;34m\u001b[0m\u001b[0m\n\u001b[1;32m    551\u001b[0m                     \u001b[0;34m\"your data has a single feature or array.reshape(1, -1) \"\u001b[0m\u001b[0;34m\u001b[0m\u001b[0;34m\u001b[0m\u001b[0m\n\u001b[0;32m--> 552\u001b[0;31m                     \"if it contains a single sample.\".format(array))\n\u001b[0m\u001b[1;32m    553\u001b[0m \u001b[0;34m\u001b[0m\u001b[0m\n\u001b[1;32m    554\u001b[0m         \u001b[0;31m# in the future np.flexible dtypes will be handled like object dtypes\u001b[0m\u001b[0;34m\u001b[0m\u001b[0;34m\u001b[0m\u001b[0;34m\u001b[0m\u001b[0m\n",
      "\u001b[0;31mValueError\u001b[0m: Expected 2D array, got 1D array instead:\narray=[0. 0. 0. ... 0. 0. 0.].\nReshape your data either using array.reshape(-1, 1) if your data has a single feature or array.reshape(1, -1) if it contains a single sample."
     ]
    }
   ],
   "source": [
    "plsr50.regressor.predict(plsr50.data_matrix[plsr50.concept2id['dog'],:]).shape"
   ]
  },
  {
   "cell_type": "code",
   "execution_count": 49,
   "metadata": {},
   "outputs": [],
   "source": [
    "scores = plsr50.feature_score(type = 'test')"
   ]
  },
  {
   "cell_type": "code",
   "execution_count": 53,
   "metadata": {},
   "outputs": [],
   "source": [
    "features = [x[0] for x in plsr50.concept_features[concept]]"
   ]
  },
  {
   "cell_type": "code",
   "execution_count": 55,
   "metadata": {},
   "outputs": [
    {
     "name": "stdout",
     "output_type": "stream",
     "text": [
      "wheel\n",
      "['made_of_metal', 'is_round', 'made_of_rubber', 'used_on_bicycles', 'inbeh_-_rolls', 'used_on_cars', 'used_for_mobility', 'is_invented', 'has_spokes', 'has_rims']\n"
     ]
    }
   ],
   "source": [
    "print(concept)\n",
    "print(features)"
   ]
  },
  {
   "cell_type": "code",
   "execution_count": 63,
   "metadata": {},
   "outputs": [
    {
     "data": {
      "text/plain": [
       "array([['11.44363242042159', 'made_of_metal'],\n",
       "       ['8.110211952645932', 'a_tool'],\n",
       "       ['6.459163401058991', 'has_a_handle'],\n",
       "       ['6.214866354010754', 'a_bird'],\n",
       "       ['6.210007458594687', 'is_sharp'],\n",
       "       ['5.774026203701385', 'a_weapon'],\n",
       "       ['4.784106737100295', 'a_fruit'],\n",
       "       ['4.630671424875498', 'made_of_wood'],\n",
       "       ['3.992531625494567', 'used_for_killing'],\n",
       "       ['3.7598023379565606', 'is_dangerous']], dtype='<U18')"
      ]
     },
     "execution_count": 63,
     "metadata": {},
     "output_type": "execute_result"
    }
   ],
   "source": [
    "plsr50._topFeatures(plsr50.test_preds[36,:], top = len(features))"
   ]
  },
  {
   "cell_type": "code",
   "execution_count": 59,
   "metadata": {},
   "outputs": [
    {
     "name": "stdout",
     "output_type": "stream",
     "text": [
      "36\n"
     ]
    }
   ],
   "source": [
    "for index, c in enumerate(test_concepts):\n",
    "    if c == concept:\n",
    "        print(index)"
   ]
  },
  {
   "cell_type": "code",
   "execution_count": 61,
   "metadata": {},
   "outputs": [
    {
     "data": {
      "text/plain": [
       "['made_of_metal',\n",
       " 'a_tool',\n",
       " 'has_a_handle',\n",
       " 'a_bird',\n",
       " 'is_sharp',\n",
       " 'a_weapon',\n",
       " 'a_fruit',\n",
       " 'made_of_wood',\n",
       " 'used_for_killing',\n",
       " 'is_dangerous']"
      ]
     },
     "execution_count": 61,
     "metadata": {},
     "output_type": "execute_result"
    }
   ],
   "source": [
    "[x[1] for x in plsr50._topFeatures(plsr50.test_preds[36,:], top = len(features))]"
   ]
  },
  {
   "cell_type": "code",
   "execution_count": null,
   "metadata": {},
   "outputs": [],
   "source": [
    "def feature_score(model, type = 'test'):\n",
    "    '''\n",
    "            Scores model on its ability to retrieve correct features\n",
    "    '''\n",
    "    if type == 'train':\n",
    "        concepts = self.train_words\n",
    "    if type == 'test':\n",
    "        concepts = self.test_words\n",
    "\n",
    "    total_scores = []\n",
    "    for concept in concepts:\n",
    "        features = [x[0] for x in self.concept_features[concept]]\n",
    "        num_features = len(features)\n",
    "\n",
    "        predicted_features = [x[1] for x in self.topFeatures(concept, top = num_features)]\n",
    "\n",
    "        # scores = [int(features[num] == predicted_features[num]) for num in range(num_features)]\n",
    "        positives = [f for f in predicted_features if f in features]\n",
    "\n",
    "        # total_scores.append(f1_score(np.ones(num_features), scores))\n",
    "        total_scores.append(len(positives) / num_features)\n",
    "\n",
    "    return total_scores"
   ]
  },
  {
   "cell_type": "code",
   "execution_count": 19,
   "metadata": {},
   "outputs": [],
   "source": [
    "plsr50_embs = dict(zip(plsr50.concepts, plsr50.regressor.predict(plsr50.embedding_matrix.T)))\n",
    "plsr200_embs = dict(zip(plsr200.concepts, plsr200.regressor.predict(plsr200.embedding_matrix.T)))\n",
    "\n",
    "f2v_embs = {}\n",
    "for index, concept in enumerate(model.concepts):\n",
    "    f2v_embs[concept] = constructVector(concept, model)"
   ]
  },
  {
   "cell_type": "code",
   "execution_count": 20,
   "metadata": {},
   "outputs": [],
   "source": [
    "saveEmbs(plsr50_embs, name = 'PLSR50_CSLB')\n",
    "saveEmbs(plsr200_embs, name = 'PLSR200_CSLB')\n",
    "saveEmbs(f2v_embs, name = 'F2V_CSLB')"
   ]
  },
  {
   "cell_type": "code",
   "execution_count": 21,
   "metadata": {},
   "outputs": [],
   "source": [
    "import vecto\n",
    "import vecto.embeddings \n",
    "\n",
    "plsr50_vsm = vecto.embeddings.load_from_dir('embeddings/PLSR50_CSLB')\n",
    "plsr200_vsm = vecto.embeddings.load_from_dir('embeddings/PLSR200_CSLB')\n",
    "f2v_vsm = vecto.embeddings.load_from_dir('embeddings/F2V_CSLB')"
   ]
  },
  {
   "cell_type": "code",
   "execution_count": 22,
   "metadata": {},
   "outputs": [
    {
     "name": "stdout",
     "output_type": "stream",
     "text": [
      "simlex999 - (0.3752137482642991, 48)\n",
      "men - (0.7530178312843285, 104)\n"
     ]
    }
   ],
   "source": [
    "vectoBenchmark(plsr50_vsm)"
   ]
  },
  {
   "cell_type": "code",
   "execution_count": 23,
   "metadata": {},
   "outputs": [
    {
     "name": "stdout",
     "output_type": "stream",
     "text": [
      "simlex999 - (0.5085362259461739, 48)\n",
      "men - (0.7784559996754286, 104)\n"
     ]
    }
   ],
   "source": [
    "vectoBenchmark(plsr200_vsm)"
   ]
  },
  {
   "cell_type": "code",
   "execution_count": 24,
   "metadata": {},
   "outputs": [
    {
     "name": "stdout",
     "output_type": "stream",
     "text": [
      "simlex999 - (0.44735771114671424, 48)\n",
      "men - (0.7061614191188123, 104)\n"
     ]
    }
   ],
   "source": [
    "vectoBenchmark(f2v_vsm)"
   ]
  },
  {
   "cell_type": "code",
   "execution_count": 5,
   "metadata": {},
   "outputs": [],
   "source": [
    "import vecto\n",
    "import vecto.embeddings \n",
    "\n",
    "mcrae = vecto.embeddings.load_from_dir('embeddings/MCRAE')\n",
    "cslb = vecto.embeddings.load_from_dir('embeddings/CSLB')"
   ]
  },
  {
   "cell_type": "code",
   "execution_count": 6,
   "metadata": {},
   "outputs": [
    {
     "name": "stdout",
     "output_type": "stream",
     "text": [
      "simlex999 - (0.5725154311271989, 44)\n",
      "men - (0.6760324599062513, 94)\n"
     ]
    }
   ],
   "source": [
    "vectoBenchmark(mcrae)"
   ]
  },
  {
   "cell_type": "code",
   "execution_count": 7,
   "metadata": {},
   "outputs": [
    {
     "name": "stdout",
     "output_type": "stream",
     "text": [
      "simlex999 - (0.5130050024627594, 48)\n",
      "men - (0.7544790806157509, 104)\n"
     ]
    }
   ],
   "source": [
    "vectoBenchmark(cslb)"
   ]
  },
  {
   "cell_type": "code",
   "execution_count": 49,
   "metadata": {},
   "outputs": [],
   "source": [
    "words = []\n",
    "with open('data/benchmarks/benchmarks/similarity/en/simlex999.txt', 'r') as f:\n",
    "    for line in f:\n",
    "        words.append(line.split()[0])\n",
    "        words.append(line.split()[1])\n",
    "        \n",
    "# with open('data/benchmarks/benchmarks/similarity/en/men.txt', 'r') as f:\n",
    "#     for line in f:\n",
    "#         words.append(line.split()[0])\n",
    "#         words.append(line.split()[1])"
   ]
  },
  {
   "cell_type": "code",
   "execution_count": 33,
   "metadata": {},
   "outputs": [],
   "source": [
    "words = list(set(words))"
   ]
  },
  {
   "cell_type": "code",
   "execution_count": 34,
   "metadata": {},
   "outputs": [
    {
     "data": {
      "text/plain": [
       "1577"
      ]
     },
     "execution_count": 34,
     "metadata": {},
     "output_type": "execute_result"
    }
   ],
   "source": [
    "len(words)"
   ]
  },
  {
   "cell_type": "code",
   "execution_count": 35,
   "metadata": {},
   "outputs": [],
   "source": [
    "import spacy \n",
    "\n",
    "nlp = spacy.load('en_core_web_lg')\n",
    "\n",
    "spacy_embs = {}\n",
    "for word in words:\n",
    "    token = nlp(u'' + word)\n",
    "    if token.has_vector:\n",
    "        spacy_embs[word] = token.vector"
   ]
  },
  {
   "cell_type": "code",
   "execution_count": 39,
   "metadata": {},
   "outputs": [],
   "source": [
    "saveEmbs(spacy_embs, name = 'SPACY')"
   ]
  },
  {
   "cell_type": "code",
   "execution_count": 40,
   "metadata": {},
   "outputs": [],
   "source": [
    "import vecto\n",
    "import vecto.embeddings \n",
    "\n",
    "spacy_vsm = vecto.embeddings.load_from_dir('embeddings/SPACY')"
   ]
  },
  {
   "cell_type": "code",
   "execution_count": 41,
   "metadata": {},
   "outputs": [
    {
     "name": "stdout",
     "output_type": "stream",
     "text": [
      "simlex999 - (0.389916600639166, 999)\n",
      "men - (0.8079343906476782, 3000)\n"
     ]
    }
   ],
   "source": [
    "vectoBenchmark(spacy_vsm)"
   ]
  },
  {
   "cell_type": "code",
   "execution_count": 56,
   "metadata": {},
   "outputs": [],
   "source": [
    "import pandas as pd \n",
    "\n",
    "mcrae_thing = pd.read_csv('data/mcrae_feature_matrix.csv', index_col=[0])\n",
    "cslb_thing = pd.read_csv('data/cslb_feature_matrix.csv', index_col=[0])"
   ]
  },
  {
   "cell_type": "code",
   "execution_count": 57,
   "metadata": {},
   "outputs": [],
   "source": [
    "words = []\n",
    "for w in mcrae_thing['Vectors'].values:\n",
    "    words.append(w)\n",
    "    \n",
    "for w in cslb_thing['Vectors'].values:\n",
    "    words.append(w)"
   ]
  },
  {
   "cell_type": "code",
   "execution_count": 58,
   "metadata": {},
   "outputs": [],
   "source": [
    "words = list(set(words))"
   ]
  },
  {
   "cell_type": "code",
   "execution_count": 61,
   "metadata": {},
   "outputs": [],
   "source": [
    "counts = 0\n",
    "with open('data/benchmarks/benchmarks/similarity/en/simlex999.txt', 'r') as f:\n",
    "    for line in f:\n",
    "        w1 = line.split()[0]\n",
    "        w2 = line.split()[1]\n",
    "        if w1 in words and w2 in words:\n",
    "            counts += 1"
   ]
  },
  {
   "cell_type": "code",
   "execution_count": 62,
   "metadata": {},
   "outputs": [
    {
     "data": {
      "text/plain": [
       "66"
      ]
     },
     "execution_count": 62,
     "metadata": {},
     "output_type": "execute_result"
    }
   ],
   "source": [
    "counts"
   ]
  },
  {
   "cell_type": "code",
   "execution_count": 2,
   "metadata": {},
   "outputs": [
    {
     "data": {
      "text/plain": [
       "(638, 2725)"
      ]
     },
     "execution_count": 2,
     "metadata": {},
     "output_type": "execute_result"
    }
   ],
   "source": [
    "model.data_matrix.shape"
   ]
  },
  {
   "cell_type": "code",
   "execution_count": 3,
   "metadata": {},
   "outputs": [
    {
     "data": {
      "text/plain": [
       "193"
      ]
     },
     "execution_count": 3,
     "metadata": {},
     "output_type": "execute_result"
    }
   ],
   "source": [
    "model.concept2id['dog']"
   ]
  },
  {
   "cell_type": "code",
   "execution_count": 4,
   "metadata": {},
   "outputs": [
    {
     "data": {
      "text/plain": [
       "113"
      ]
     },
     "execution_count": 4,
     "metadata": {},
     "output_type": "execute_result"
    }
   ],
   "source": [
    "model.concept2id['cat']"
   ]
  },
  {
   "cell_type": "code",
   "execution_count": 5,
   "metadata": {},
   "outputs": [
    {
     "data": {
      "text/plain": [
       "-68.0"
      ]
     },
     "execution_count": 5,
     "metadata": {},
     "output_type": "execute_result"
    }
   ],
   "source": [
    "np.sum(model.data_matrix[model.concept2id['dog'],:] - model.data_matrix[model.concept2id['cat'],:])"
   ]
  },
  {
   "cell_type": "code",
   "execution_count": 9,
   "metadata": {},
   "outputs": [
    {
     "data": {
      "text/plain": [
       "array([['0.9999999999999998', 'dog'],\n",
       "       ['0.6073745169687377', 'cat'],\n",
       "       ['0.5718375094655525', 'gerbil'],\n",
       "       ['0.5636246379114933', 'guinea_pig'],\n",
       "       ['0.5483845449592721', 'hamster'],\n",
       "       ['0.5386415417273727', 'raccoon'],\n",
       "       ['0.505346770544747', 'ox'],\n",
       "       ['0.4928220864774071', 'rabbit'],\n",
       "       ['0.483938929472962', 'chipmunk'],\n",
       "       ['0.4761029120481616', 'llama']], dtype='<U18')"
      ]
     },
     "execution_count": 9,
     "metadata": {},
     "output_type": "execute_result"
    }
   ],
   "source": [
    "from sklearn.metrics.pairwise import cosine_similarity\n",
    "\n",
    "mat = cosine_similarity([model.data_matrix[model.concept2id['dog'],:]] , model.data_matrix)\n",
    "\n",
    "np.flip([(model.id2concept[num], mat[0,num]) for num in np.argsort(mat[0,:])[-10:]])"
   ]
  },
  {
   "cell_type": "code",
   "execution_count": null,
   "metadata": {},
   "outputs": [],
   "source": []
  }
 ],
 "metadata": {
  "kernelspec": {
   "display_name": "Python 3",
   "language": "python",
   "name": "python3"
  },
  "language_info": {
   "codemirror_mode": {
    "name": "ipython",
    "version": 3
   },
   "file_extension": ".py",
   "mimetype": "text/x-python",
   "name": "python",
   "nbconvert_exporter": "python",
   "pygments_lexer": "ipython3",
   "version": "3.6.8"
  }
 },
 "nbformat": 4,
 "nbformat_minor": 2
}
