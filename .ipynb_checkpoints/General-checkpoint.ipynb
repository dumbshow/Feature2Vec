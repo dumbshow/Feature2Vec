{
 "cells": [
  {
   "cell_type": "code",
   "execution_count": 1,
   "metadata": {},
   "outputs": [
    {
     "name": "stderr",
     "output_type": "stream",
     "text": [
      "Using TensorFlow backend.\n"
     ]
    }
   ],
   "source": [
    "from Feat2Vec import Feat2Vec \n",
    "\n",
    "model = Feat2Vec()"
   ]
  },
  {
   "cell_type": "code",
   "execution_count": 13,
   "metadata": {},
   "outputs": [
    {
     "data": {
      "text/plain": [
       "2725"
      ]
     },
     "execution_count": 13,
     "metadata": {},
     "output_type": "execute_result"
    }
   ],
   "source": [
    "len(list(set([model.norms['feature'][m] for m in range(model.norms.shape[0]) if int(model.norms['pf'][m]) >= 5])))"
   ]
  },
  {
   "cell_type": "code",
   "execution_count": 14,
   "metadata": {},
   "outputs": [],
   "source": [
    "from collections import Counter \n",
    "\n",
    "counter = Counter(model.norms['feature'])"
   ]
  },
  {
   "cell_type": "code",
   "execution_count": 17,
   "metadata": {},
   "outputs": [
    {
     "data": {
      "text/plain": [
       "832"
      ]
     },
     "execution_count": 17,
     "metadata": {},
     "output_type": "execute_result"
    }
   ],
   "source": [
    "len([c for c in counter.keys() if counter[c] >= 5])"
   ]
  },
  {
   "cell_type": "code",
   "execution_count": 25,
   "metadata": {},
   "outputs": [
    {
     "data": {
      "text/plain": [
       "391"
      ]
     },
     "execution_count": 25,
     "metadata": {},
     "output_type": "execute_result"
    }
   ],
   "source": [
    "import numpy as np\n",
    "\n",
    "len([x for x in np.count_nonzero(model.feature_matrix, axis = 0) if x >= 5])"
   ]
  },
  {
   "cell_type": "code",
   "execution_count": 26,
   "metadata": {},
   "outputs": [
    {
     "data": {
      "text/plain": [
       "[]"
      ]
     },
     "execution_count": 26,
     "metadata": {},
     "output_type": "execute_result"
    }
   ],
   "source": [
    "list(set([x for x in np.count_nonzero(model.feature_matrix, axis = 0) if x >= 5]).intersection(set([c for c in counter.keys() if counter[c] >= 5])))"
   ]
  },
  {
   "cell_type": "code",
   "execution_count": 2,
   "metadata": {},
   "outputs": [
    {
     "name": "stdout",
     "output_type": "stream",
     "text": [
      "Epoch: 130 delta: 0.002444298367120734"
     ]
    }
   ],
   "source": [
    "model.train(till_convergence = True, verbose = 0, tolerence = 1e-4, lr = 1e-4, negative_samples = 5)"
   ]
  },
  {
   "cell_type": "code",
   "execution_count": 11,
   "metadata": {},
   "outputs": [],
   "source": [
    "word = 'dog'"
   ]
  },
  {
   "cell_type": "code",
   "execution_count": 49,
   "metadata": {},
   "outputs": [
    {
     "data": {
      "text/plain": [
       "[0.1964224589969943]"
      ]
     },
     "execution_count": 49,
     "metadata": {},
     "output_type": "execute_result"
    }
   ],
   "source": [
    "model.model.history.history['loss'][-2:]"
   ]
  },
  {
   "cell_type": "code",
   "execution_count": 12,
   "metadata": {},
   "outputs": [
    {
     "data": {
      "text/plain": [
       "array([['0.3183206131579732', 'is_a_mammal'],\n",
       "       ['0.3170398471029976', 'has_four_legs'],\n",
       "       ['0.30504247246113414', 'has_fur_hair'],\n",
       "       ['0.27310649096401407', 'has_a_tail'],\n",
       "       ['0.27019059815861113', 'has_legs'],\n",
       "       ['0.2596700709677454', 'does_eat'],\n",
       "       ['0.25310576277942576', 'is_an_animal'],\n",
       "       ['0.23818764031203604', 'has_teeth'],\n",
       "       ['0.23517142426915305', 'has_ears'],\n",
       "       ['0.23346586653381', 'is_small']], dtype='<U19')"
      ]
     },
     "execution_count": 12,
     "metadata": {},
     "output_type": "execute_result"
    }
   ],
   "source": [
    "model.topFeatures(word, top = 10)"
   ]
  },
  {
   "cell_type": "code",
   "execution_count": 13,
   "metadata": {},
   "outputs": [],
   "source": [
    "def score(word):\n",
    "    features = [f[0] for f in model.concept_features[word]]\n",
    "    outputs = model.topFeatures(word, top = len(features))\n",
    "    return len([s[1] for s in outputs if s[1] in features]) / len(features)"
   ]
  },
  {
   "cell_type": "code",
   "execution_count": 14,
   "metadata": {},
   "outputs": [
    {
     "name": "stdout",
     "output_type": "stream",
     "text": [
      "0.5770241444095124\n"
     ]
    }
   ],
   "source": [
    "import numpy as np\n",
    "\n",
    "scores = []\n",
    "for word in model.concepts:\n",
    "    scores.append(score(word = word))\n",
    "    \n",
    "print(np.mean(scores))"
   ]
  },
  {
   "cell_type": "code",
   "execution_count": 52,
   "metadata": {},
   "outputs": [],
   "source": [
    "# create data matrix of X and y\n",
    "train_concepts = model.concepts[:500]\n",
    "test_concepts = model.concepts[500:]\n",
    "\n",
    "X_train = np.zeros((len(model.concepts), 300))\n",
    "y_train = np.zeros((len(model.concepts), len(model.features)))\n",
    "\n",
    "for concept in model.concepts:\n",
    "    X[model.concept2id[concept],:] = model.wvector(concept)"
   ]
  },
  {
   "cell_type": "code",
   "execution_count": 53,
   "metadata": {},
   "outputs": [],
   "source": [
    "from sklearn.cross_decomposition import PLSRegression\n",
    "\n",
    "reg = PLSRegression(n_components=50)"
   ]
  },
  {
   "cell_type": "code",
   "execution_count": 54,
   "metadata": {},
   "outputs": [
    {
     "data": {
      "text/plain": [
       "PLSRegression(copy=True, max_iter=500, n_components=50, scale=True, tol=1e-06)"
      ]
     },
     "execution_count": 54,
     "metadata": {},
     "output_type": "execute_result"
    }
   ],
   "source": [
    "reg.fit(X[:500], model.data_matrix[:500,:])"
   ]
  },
  {
   "cell_type": "code",
   "execution_count": 56,
   "metadata": {},
   "outputs": [],
   "source": [
    "preds = reg.predict(X[500:])"
   ]
  },
  {
   "cell_type": "code",
   "execution_count": 64,
   "metadata": {},
   "outputs": [],
   "source": [
    "from sklearn.metrics.pairwise import cosine_similarity\n",
    "\n",
    "def topNeighbours(concepts, index, matrix, top = 10):\n",
    "    \n",
    "    mat = cosine_similarity([matrix[index]], matrix)\n",
    "\n",
    "    return np.flip([(concepts[num], mat[0,num]) for num in np.argsort(mat[0,:])[-top:]])"
   ]
  },
  {
   "cell_type": "code",
   "execution_count": 65,
   "metadata": {},
   "outputs": [
    {
     "name": "stdout",
     "output_type": "stream",
     "text": [
      "skateboard\n",
      "[['0.9999999999999998' 'skateboard']\n",
      " ['0.7226682187911303' 'unicycle']\n",
      " ['0.7045670443230222' 'skis']\n",
      " ['0.6521901352592201' 'tricycle']\n",
      " ['0.6453897050289952' 'surfboard']\n",
      " ['0.6085433760578571' 'trolley']\n",
      " ['0.5904976316490351' 'sledge']\n",
      " ['0.586568716094972' 'tyre']\n",
      " ['0.5849189078903646' 'wheelchair']\n",
      " ['0.5792003549433515' 'tractor']]\n"
     ]
    }
   ],
   "source": [
    "index = 10\n",
    "print(test_concepts[index])\n",
    "print(topNeighbours(test_concepts, index, preds))"
   ]
  },
  {
   "cell_type": "code",
   "execution_count": 66,
   "metadata": {},
   "outputs": [
    {
     "name": "stdout",
     "output_type": "stream",
     "text": [
      "skateboard\n",
      "[['1.000000000000001' 'skateboard']\n",
      " ['0.5577612335158455' 'surfboard']\n",
      " ['0.4716231054506681' 'unicycle']\n",
      " ['0.46998857531686955' 'skis']\n",
      " ['0.44224858453245736' 'tricycle']\n",
      " ['0.40690815768017835' 'shoes']\n",
      " ['0.3901972310168721' 'wheelchair']\n",
      " ['0.36824323507032' 'wheel']\n",
      " ['0.36002317662324107' 'truck']\n",
      " ['0.34179090942923473' 'yoyo']]\n"
     ]
    }
   ],
   "source": [
    "index = 10\n",
    "print(test_concepts[index])\n",
    "print(topNeighbours(test_concepts, index, X[500:]))"
   ]
  },
  {
   "cell_type": "code",
   "execution_count": 71,
   "metadata": {},
   "outputs": [],
   "source": [
    "def neighbourScore(concepts, vectors1, vectors2, top):\n",
    "    \n",
    "    scores = []\n",
    "    for index, concept in enumerate(concepts):\n",
    "        outputs1 = [s[1] for s in topNeighbours(concepts, index, vectors1, top)]\n",
    "        outputs2 = [s[1] for s in topNeighbours(concepts, index, vectors2, top)]\n",
    "        \n",
    "        scores.append(len([x for x in outputs1 if x in outputs2]))\n",
    "        \n",
    "    return np.mean(scores)"
   ]
  },
  {
   "cell_type": "code",
   "execution_count": 76,
   "metadata": {},
   "outputs": [
    {
     "name": "stdout",
     "output_type": "stream",
     "text": [
      "32.2463768115942\n"
     ]
    }
   ],
   "source": [
    "print(neighbourScore(test_concepts, X[500:], preds, top = 50))"
   ]
  },
  {
   "cell_type": "code",
   "execution_count": 45,
   "metadata": {},
   "outputs": [],
   "source": [
    "from sklearn.metrics.pairwise import cosine_similarity\n",
    "\n",
    "def baseline_topFeatures(word, top = 10):\n",
    "    '''\n",
    "        Function that gives the top cosine similar features for a word \n",
    "    '''\n",
    "\n",
    "    mat = cosine_similarity([reg.x_scores_[model.concept2id[word]]], reg.y_rotations_)\n",
    "\n",
    "    return np.flip([(model.features[num], mat[0,num]) for num in np.argsort(mat[0,:])[-top:]])"
   ]
  },
  {
   "cell_type": "code",
   "execution_count": 46,
   "metadata": {},
   "outputs": [
    {
     "name": "stdout",
     "output_type": "stream",
     "text": [
      "[['0.9388999383515564' 'is_a_companion']\n",
      " ['0.9388999383515564' 'does_bark']\n",
      " ['0.9388999383515564' \"is_man's_best_friend\"]\n",
      " ['0.9388999383515564' 'does_wag_its_tail']\n",
      " ['0.8062235963112354' 'does_like_milk']\n",
      " ['0.8062235963112354' 'has_nine_lives']\n",
      " ['0.8062235963112354' 'does_purr']\n",
      " ['0.8062235963112354' 'does_meow']\n",
      " ['0.7189621218632534' 'has_fur_hair']\n",
      " ['0.6842676382193786' 'has_whiskers']]\n"
     ]
    }
   ],
   "source": [
    "print(baseline_topFeatures('dog'))"
   ]
  },
  {
   "cell_type": "code",
   "execution_count": 47,
   "metadata": {},
   "outputs": [],
   "source": [
    "def baseline_score(word):\n",
    "    features = [f[0] for f in model.concept_features[word]]\n",
    "    outputs = baseline_topFeatures(word, top = len(features))\n",
    "    return len([s[1] for s in outputs if s[1] in features]) / len(features)"
   ]
  },
  {
   "cell_type": "code",
   "execution_count": 48,
   "metadata": {},
   "outputs": [
    {
     "name": "stdout",
     "output_type": "stream",
     "text": [
      "0.5328836027287316\n"
     ]
    }
   ],
   "source": [
    "scores = []\n",
    "for word in model.concepts:\n",
    "    scores.append(baseline_score(word = word))\n",
    "    \n",
    "print(np.mean(scores))"
   ]
  },
  {
   "cell_type": "code",
   "execution_count": 42,
   "metadata": {},
   "outputs": [
    {
     "data": {
      "text/plain": [
       "(2725, 50)"
      ]
     },
     "execution_count": 42,
     "metadata": {},
     "output_type": "execute_result"
    }
   ],
   "source": [
    "reg.y_rotations_.shape"
   ]
  },
  {
   "cell_type": "code",
   "execution_count": 87,
   "metadata": {},
   "outputs": [
    {
     "name": "stdout",
     "output_type": "stream",
     "text": [
      "slippers\n",
      "is_comfortable\n",
      "is_long\n",
      "made_of_leather\n",
      "is_an_animal\n",
      "has_legs\n",
      "is_clothing\n",
      "is_warm\n",
      "made_of_plastic\n",
      "made_of_fabric_cloth_material\n",
      "is_worn\n"
     ]
    }
   ],
   "source": [
    "index = 15\n",
    "print(test_concepts[index])\n",
    "for x in np.argsort(preds[index])[-10:]:\n",
    "    print(model.id2feature[x])"
   ]
  },
  {
   "cell_type": "code",
   "execution_count": 89,
   "metadata": {},
   "outputs": [
    {
     "ename": "TypeError",
     "evalue": "'Feat2Vec' object is not subscriptable",
     "output_type": "error",
     "traceback": [
      "\u001b[0;31m---------------------------------------------------------------------------\u001b[0m",
      "\u001b[0;31mTypeError\u001b[0m                                 Traceback (most recent call last)",
      "\u001b[0;32m<ipython-input-89-155a06efa150>\u001b[0m in \u001b[0;36m<module>\u001b[0;34m\u001b[0m\n\u001b[0;32m----> 1\u001b[0;31m \u001b[0mmodel\u001b[0m\u001b[0;34m.\u001b[0m\u001b[0mconcept_features\u001b[0m\u001b[0;34m[\u001b[0m\u001b[0mmodel\u001b[0m\u001b[0;34m[\u001b[0m\u001b[0;34m'slippers'\u001b[0m\u001b[0;34m]\u001b[0m\u001b[0;34m]\u001b[0m\u001b[0;34m\u001b[0m\u001b[0;34m\u001b[0m\u001b[0m\n\u001b[0m",
      "\u001b[0;31mTypeError\u001b[0m: 'Feat2Vec' object is not subscriptable"
     ]
    }
   ],
   "source": [
    "model.concept_features[model['slippers']]"
   ]
  },
  {
   "cell_type": "code",
   "execution_count": null,
   "metadata": {},
   "outputs": [],
   "source": []
  }
 ],
 "metadata": {
  "kernelspec": {
   "display_name": "Python 3",
   "language": "python",
   "name": "python3"
  },
  "language_info": {
   "codemirror_mode": {
    "name": "ipython",
    "version": 3
   },
   "file_extension": ".py",
   "mimetype": "text/x-python",
   "name": "python",
   "nbconvert_exporter": "python",
   "pygments_lexer": "ipython3",
   "version": "3.6.8"
  }
 },
 "nbformat": 4,
 "nbformat_minor": 2
}
