{
 "cells": [
  {
   "cell_type": "code",
   "execution_count": 1,
   "metadata": {},
   "outputs": [
    {
     "name": "stderr",
     "output_type": "stream",
     "text": [
      "Using TensorFlow backend.\n"
     ]
    },
    {
     "name": "stdout",
     "output_type": "stream",
     "text": [
      "Building feat2vec\n"
     ]
    }
   ],
   "source": [
    "import numpy as np \n",
    "from Feat2Vec import Feat2Vec \n",
    "from PLSR import PLSR\n",
    "from utils import * \n",
    "\n",
    "path = 'data/cslb_feature_matrix.csv'\n",
    "\n",
    "print('Building feat2vec')\n",
    "model = Feat2Vec(path = path)"
   ]
  },
  {
   "cell_type": "code",
   "execution_count": 2,
   "metadata": {},
   "outputs": [],
   "source": [
    "train_concepts = model.concepts[:500]\n",
    "test_concepts = model.concepts[500:]"
   ]
  },
  {
   "cell_type": "code",
   "execution_count": 3,
   "metadata": {},
   "outputs": [
    {
     "name": "stdout",
     "output_type": "stream",
     "text": [
      "Training feat2vec\n",
      "Epoch: 99 delta: 0.00022754846373182133\n"
     ]
    }
   ],
   "source": [
    "print('Training feat2vec')\n",
    "model.train(till_convergence = True, verbose = 0, tolerence = 1e-4, lr = 1e-4, negative_samples = 20, train_words = train_concepts)\n",
    "print('')"
   ]
  },
  {
   "cell_type": "code",
   "execution_count": 4,
   "metadata": {},
   "outputs": [
    {
     "name": "stdout",
     "output_type": "stream",
     "text": [
      "Example features learned for word: dog\n",
      "[['0.4874358124663263' 'has_four_legs']\n",
      " ['0.44311942656813064' 'has_fur_hair']\n",
      " ['0.4205652070482799' 'is_a_mammal']\n",
      " ['0.3976072042453551' 'has_a_tail']\n",
      " ['0.394490119159952' 'is_an_animal']\n",
      " ['0.3909242482739385' 'has_teeth']\n",
      " ['0.3858567289090658' 'has_ears']\n",
      " ['0.3753072610448306' 'is_a_pet']\n",
      " ['0.358741453867346' 'is_cute']\n",
      " ['0.3520630614506177' 'has_legs']]\n",
      "\n"
     ]
    }
   ],
   "source": [
    "# test for word dog\n",
    "print('Example features learned for word: dog')\n",
    "print(model.topFeatures('dog', top = 10))\n",
    "print('')"
   ]
  },
  {
   "cell_type": "code",
   "execution_count": 5,
   "metadata": {},
   "outputs": [
    {
     "name": "stdout",
     "output_type": "stream",
     "text": [
      "Building partial least squared regression (baseline)\n"
     ]
    },
    {
     "name": "stderr",
     "output_type": "stream",
     "text": [
      "/home/40106170/miniconda3/envs/prop_embs/lib/python3.6/site-packages/sklearn/cross_decomposition/pls_.py:79: ConvergenceWarning: Maximum number of iterations reached\n",
      "  ConvergenceWarning)\n"
     ]
    },
    {
     "name": "stdout",
     "output_type": "stream",
     "text": [
      "\n"
     ]
    }
   ],
   "source": [
    "# build baseline model (50 and 200)\n",
    "print('Building partial least squared regression (baseline)')\n",
    "plsr50 = PLSR(path = path)\n",
    "plsr50.train(train_words = train_concepts, embedding_size = 50)\n",
    "\n",
    "plsr200 = PLSR(path = path)\n",
    "plsr200.train(train_words = train_concepts, embedding_size = 200)\n",
    "print('')"
   ]
  },
  {
   "cell_type": "code",
   "execution_count": 6,
   "metadata": {},
   "outputs": [],
   "source": [
    "concept_dict_plsr50 = {}\n",
    "for index, concept in enumerate(model.test_words):\n",
    "    concept_dict_plsr50[concept] = plsr50.test_preds[index,:]"
   ]
  },
  {
   "cell_type": "code",
   "execution_count": 7,
   "metadata": {},
   "outputs": [],
   "source": [
    "concept_dict_plsr200 = {}\n",
    "for index, concept in enumerate(model.test_words):\n",
    "    concept_dict_plsr200[concept] = plsr200.test_preds[index,:]"
   ]
  },
  {
   "cell_type": "code",
   "execution_count": 8,
   "metadata": {},
   "outputs": [
    {
     "name": "stdout",
     "output_type": "stream",
     "text": [
      "Word: soup\n"
     ]
    },
    {
     "data": {
      "text/plain": [
       "array([['0.3873581898541869', 'mussel'],\n",
       "       ['0.36057663412140073', 'oyster'],\n",
       "       ['0.3464333145292914', 'artichoke'],\n",
       "       ['0.3384501723863631', 'potato'],\n",
       "       ['0.33828696850627504', 'bread'],\n",
       "       ['0.3240404729491807', 'scallop'],\n",
       "       ['0.3209531530680716', 'crab'],\n",
       "       ['0.3095331335847945', 'turnip'],\n",
       "       ['0.30716307589266034', 'mushroom'],\n",
       "       ['0.30648663769143736', 'lobster'],\n",
       "       ['0.29445732253386725', 'clam'],\n",
       "       ['0.2931320377490968', 'cauliflower'],\n",
       "       ['0.2910596319406533', 'soup'],\n",
       "       ['0.2889041361992336', 'sweet_potato'],\n",
       "       ['0.2845413996357119', 'sandwich'],\n",
       "       ['0.28090072204818783', 'leek'],\n",
       "       ['0.2776382784723095', 'yoghurt'],\n",
       "       ['0.27731861025662274', 'ice_cream'],\n",
       "       ['0.27288945280112664', 'crayfish'],\n",
       "       ['0.270410578487398', 'squid']], dtype='<U19')"
      ]
     },
     "execution_count": 8,
     "metadata": {},
     "output_type": "execute_result"
    }
   ],
   "source": [
    "index = 20\n",
    "print('Word:', model.test_words[index])\n",
    "topNeighbours(concept_dict_plsr200[model.test_words[index]], model, top = 20, gsf = True)"
   ]
  },
  {
   "cell_type": "code",
   "execution_count": 9,
   "metadata": {},
   "outputs": [
    {
     "name": "stdout",
     "output_type": "stream",
     "text": [
      "PLSR 50 neighbour scores\n",
      "Top 1 5.072463768115942\n",
      "Top 5 28.26086956521739\n",
      "Top 10 42.028985507246375\n",
      "Top 20 57.971014492753625\n"
     ]
    }
   ],
   "source": [
    "print('PLSR 50 neighbour scores')\n",
    "tops = [1, 5, 10, 20]\n",
    "for n in tops:\n",
    "    print('Top', n, neighbourScore(concept_dict_plsr50, plsr50, top = n, gsf = True))"
   ]
  },
  {
   "cell_type": "code",
   "execution_count": 10,
   "metadata": {},
   "outputs": [
    {
     "name": "stdout",
     "output_type": "stream",
     "text": [
      "PLSR 200 neighbour scores\n",
      "Top 1 5.072463768115942\n",
      "Top 5 44.20289855072464\n",
      "Top 10 62.31884057971014\n",
      "Top 20 72.46376811594203\n"
     ]
    }
   ],
   "source": [
    "print('PLSR 200 neighbour scores')\n",
    "tops = [1, 5, 10, 20]\n",
    "for n in tops:\n",
    "    print('Top', n, neighbourScore(concept_dict_plsr200, plsr200, top = n, gsf = True))"
   ]
  },
  {
   "cell_type": "code",
   "execution_count": 11,
   "metadata": {},
   "outputs": [],
   "source": [
    "def constructVector(concept, model):\n",
    "    new_vector = np.zeros(model.embedding_matrix.shape[0])\n",
    "    for feature in [s[0] for s in model.concept_features[concept]]:\n",
    "        new_vector += model.fvector(feature)\n",
    "        \n",
    "    return  new_vector / len(model.concept_features[concept])"
   ]
  },
  {
   "cell_type": "code",
   "execution_count": 12,
   "metadata": {},
   "outputs": [],
   "source": [
    "concept_dict_f2v = {}\n",
    "for index, concept in enumerate(model.test_words):\n",
    "    concept_dict_f2v[concept] = constructVector(concept, model)"
   ]
  },
  {
   "cell_type": "code",
   "execution_count": 13,
   "metadata": {},
   "outputs": [
    {
     "name": "stdout",
     "output_type": "stream",
     "text": [
      "Word: zebra\n"
     ]
    },
    {
     "data": {
      "text/plain": [
       "array([['0.4895793200423988', 'rhino'],\n",
       "       ['0.4806879407382196', 'cheetah'],\n",
       "       ['0.4616600598729683', 'hyena'],\n",
       "       ['0.46081675426969737', 'lion'],\n",
       "       ['0.44726759624116963', 'hippo'],\n",
       "       ['0.43865938973578267', 'giraffe'],\n",
       "       ['0.42842788139834437', 'elephant'],\n",
       "       ['0.4127932940479721', 'deer'],\n",
       "       ['0.3954507614515001', 'sheep'],\n",
       "       ['0.38925437011254155', 'wolf']], dtype='<U19')"
      ]
     },
     "execution_count": 13,
     "metadata": {},
     "output_type": "execute_result"
    }
   ],
   "source": [
    "print('Word:', model.test_words[index])\n",
    "topNeighbours(concept_dict_f2v[model.test_words[index]], model, top = 10)"
   ]
  },
  {
   "cell_type": "code",
   "execution_count": 14,
   "metadata": {},
   "outputs": [
    {
     "name": "stdout",
     "output_type": "stream",
     "text": [
      "Top 1 8.695652173913043\n",
      "Top 5 40.57971014492754\n",
      "Top 10 63.76811594202898\n",
      "Top 20 76.81159420289855\n"
     ]
    }
   ],
   "source": [
    "tops = [1, 5, 10, 20]\n",
    "for n in tops:\n",
    "    print('Top', n, neighbourScore(concept_dict_f2v, model, top = n, gsf = False))"
   ]
  },
  {
   "cell_type": "code",
   "execution_count": 15,
   "metadata": {},
   "outputs": [
    {
     "name": "stdout",
     "output_type": "stream",
     "text": [
      "PLSR 50 Scores\n",
      "Train: 50.7850831106458\n",
      "Test: 39.248256304666405\n"
     ]
    }
   ],
   "source": [
    "print('PLSR 50 Scores')\n",
    "print('Train:', np.mean(plsr50.feature_score(type = 'train'))*100)\n",
    "print('Test:', np.mean(plsr50.feature_score(type = 'test'))*100)"
   ]
  },
  {
   "cell_type": "code",
   "execution_count": 16,
   "metadata": {},
   "outputs": [
    {
     "name": "stdout",
     "output_type": "stream",
     "text": [
      "PLSR 200 Scores\n",
      "Train: 77.40137030053522\n",
      "Test: 40.206743136930065\n"
     ]
    }
   ],
   "source": [
    "print('PLSR 200 Scores')\n",
    "print('Train:', np.mean(plsr200.feature_score(type = 'train'))*100)\n",
    "print('Test:', np.mean(plsr200.feature_score(type = 'test'))*100)"
   ]
  },
  {
   "cell_type": "code",
   "execution_count": 17,
   "metadata": {},
   "outputs": [
    {
     "name": "stdout",
     "output_type": "stream",
     "text": [
      "Feat2Vec Scores\n",
      "Train: 69.97012440436802\n",
      "Test: 42.32375056906637\n"
     ]
    }
   ],
   "source": [
    "print('Feat2Vec Scores')\n",
    "print('Train:', np.mean(model.feature_score(type = 'train'))*100)\n",
    "print('Test:', np.mean(model.feature_score(type = 'test'))*100)"
   ]
  },
  {
   "cell_type": "code",
   "execution_count": 19,
   "metadata": {},
   "outputs": [],
   "source": [
    "plsr50_embs = dict(zip(plsr50.concepts, plsr50.regressor.predict(plsr50.embedding_matrix.T)))\n",
    "plsr200_embs = dict(zip(plsr200.concepts, plsr200.regressor.predict(plsr200.embedding_matrix.T)))\n",
    "\n",
    "f2v_embs = {}\n",
    "for index, concept in enumerate(model.concepts):\n",
    "    f2v_embs[concept] = constructVector(concept, model)"
   ]
  },
  {
   "cell_type": "code",
   "execution_count": 20,
   "metadata": {},
   "outputs": [],
   "source": [
    "saveEmbs(plsr50_embs, name = 'PLSR50_CSLB')\n",
    "saveEmbs(plsr200_embs, name = 'PLSR200_CSLB')\n",
    "saveEmbs(f2v_embs, name = 'F2V_CSLB')"
   ]
  },
  {
   "cell_type": "code",
   "execution_count": 21,
   "metadata": {},
   "outputs": [],
   "source": [
    "import vecto\n",
    "import vecto.embeddings \n",
    "\n",
    "plsr50_vsm = vecto.embeddings.load_from_dir('embeddings/PLSR50_CSLB')\n",
    "plsr200_vsm = vecto.embeddings.load_from_dir('embeddings/PLSR200_CSLB')\n",
    "f2v_vsm = vecto.embeddings.load_from_dir('embeddings/F2V_CSLB')"
   ]
  },
  {
   "cell_type": "code",
   "execution_count": 22,
   "metadata": {},
   "outputs": [
    {
     "name": "stdout",
     "output_type": "stream",
     "text": [
      "simlex999 - (0.3752137482642991, 48)\n",
      "men - (0.7530178312843285, 104)\n"
     ]
    }
   ],
   "source": [
    "vectoBenchmark(plsr50_vsm)"
   ]
  },
  {
   "cell_type": "code",
   "execution_count": 23,
   "metadata": {},
   "outputs": [
    {
     "name": "stdout",
     "output_type": "stream",
     "text": [
      "simlex999 - (0.5085362259461739, 48)\n",
      "men - (0.7784559996754286, 104)\n"
     ]
    }
   ],
   "source": [
    "vectoBenchmark(plsr200_vsm)"
   ]
  },
  {
   "cell_type": "code",
   "execution_count": 24,
   "metadata": {},
   "outputs": [
    {
     "name": "stdout",
     "output_type": "stream",
     "text": [
      "simlex999 - (0.44735771114671424, 48)\n",
      "men - (0.7061614191188123, 104)\n"
     ]
    }
   ],
   "source": [
    "vectoBenchmark(f2v_vsm)"
   ]
  },
  {
   "cell_type": "code",
   "execution_count": 5,
   "metadata": {},
   "outputs": [],
   "source": [
    "import vecto\n",
    "import vecto.embeddings \n",
    "\n",
    "mcrae = vecto.embeddings.load_from_dir('embeddings/MCRAE')\n",
    "cslb = vecto.embeddings.load_from_dir('embeddings/CSLB')"
   ]
  },
  {
   "cell_type": "code",
   "execution_count": 6,
   "metadata": {},
   "outputs": [
    {
     "name": "stdout",
     "output_type": "stream",
     "text": [
      "simlex999 - (0.5725154311271989, 44)\n",
      "men - (0.6760324599062513, 94)\n"
     ]
    }
   ],
   "source": [
    "vectoBenchmark(mcrae)"
   ]
  },
  {
   "cell_type": "code",
   "execution_count": 7,
   "metadata": {},
   "outputs": [
    {
     "name": "stdout",
     "output_type": "stream",
     "text": [
      "simlex999 - (0.5130050024627594, 48)\n",
      "men - (0.7544790806157509, 104)\n"
     ]
    }
   ],
   "source": [
    "vectoBenchmark(cslb)"
   ]
  },
  {
   "cell_type": "code",
   "execution_count": 49,
   "metadata": {},
   "outputs": [],
   "source": [
    "words = []\n",
    "with open('data/benchmarks/benchmarks/similarity/en/simlex999.txt', 'r') as f:\n",
    "    for line in f:\n",
    "        words.append(line.split()[0])\n",
    "        words.append(line.split()[1])\n",
    "        \n",
    "# with open('data/benchmarks/benchmarks/similarity/en/men.txt', 'r') as f:\n",
    "#     for line in f:\n",
    "#         words.append(line.split()[0])\n",
    "#         words.append(line.split()[1])"
   ]
  },
  {
   "cell_type": "code",
   "execution_count": 33,
   "metadata": {},
   "outputs": [],
   "source": [
    "words = list(set(words))"
   ]
  },
  {
   "cell_type": "code",
   "execution_count": 34,
   "metadata": {},
   "outputs": [
    {
     "data": {
      "text/plain": [
       "1577"
      ]
     },
     "execution_count": 34,
     "metadata": {},
     "output_type": "execute_result"
    }
   ],
   "source": [
    "len(words)"
   ]
  },
  {
   "cell_type": "code",
   "execution_count": 35,
   "metadata": {},
   "outputs": [],
   "source": [
    "import spacy \n",
    "\n",
    "nlp = spacy.load('en_core_web_lg')\n",
    "\n",
    "spacy_embs = {}\n",
    "for word in words:\n",
    "    token = nlp(u'' + word)\n",
    "    if token.has_vector:\n",
    "        spacy_embs[word] = token.vector"
   ]
  },
  {
   "cell_type": "code",
   "execution_count": 39,
   "metadata": {},
   "outputs": [],
   "source": [
    "saveEmbs(spacy_embs, name = 'SPACY')"
   ]
  },
  {
   "cell_type": "code",
   "execution_count": 40,
   "metadata": {},
   "outputs": [],
   "source": [
    "import vecto\n",
    "import vecto.embeddings \n",
    "\n",
    "spacy_vsm = vecto.embeddings.load_from_dir('embeddings/SPACY')"
   ]
  },
  {
   "cell_type": "code",
   "execution_count": 41,
   "metadata": {},
   "outputs": [
    {
     "name": "stdout",
     "output_type": "stream",
     "text": [
      "simlex999 - (0.389916600639166, 999)\n",
      "men - (0.8079343906476782, 3000)\n"
     ]
    }
   ],
   "source": [
    "vectoBenchmark(spacy_vsm)"
   ]
  },
  {
   "cell_type": "code",
   "execution_count": 56,
   "metadata": {},
   "outputs": [],
   "source": [
    "import pandas as pd \n",
    "\n",
    "mcrae_thing = pd.read_csv('data/mcrae_feature_matrix.csv', index_col=[0])\n",
    "cslb_thing = pd.read_csv('data/cslb_feature_matrix.csv', index_col=[0])"
   ]
  },
  {
   "cell_type": "code",
   "execution_count": 57,
   "metadata": {},
   "outputs": [],
   "source": [
    "words = []\n",
    "for w in mcrae_thing['Vectors'].values:\n",
    "    words.append(w)\n",
    "    \n",
    "for w in cslb_thing['Vectors'].values:\n",
    "    words.append(w)"
   ]
  },
  {
   "cell_type": "code",
   "execution_count": 58,
   "metadata": {},
   "outputs": [],
   "source": [
    "words = list(set(words))"
   ]
  },
  {
   "cell_type": "code",
   "execution_count": 61,
   "metadata": {},
   "outputs": [],
   "source": [
    "counts = 0\n",
    "with open('data/benchmarks/benchmarks/similarity/en/simlex999.txt', 'r') as f:\n",
    "    for line in f:\n",
    "        w1 = line.split()[0]\n",
    "        w2 = line.split()[1]\n",
    "        if w1 in words and w2 in words:\n",
    "            counts += 1"
   ]
  },
  {
   "cell_type": "code",
   "execution_count": 62,
   "metadata": {},
   "outputs": [
    {
     "data": {
      "text/plain": [
       "66"
      ]
     },
     "execution_count": 62,
     "metadata": {},
     "output_type": "execute_result"
    }
   ],
   "source": [
    "counts"
   ]
  },
  {
   "cell_type": "code",
   "execution_count": 2,
   "metadata": {},
   "outputs": [
    {
     "data": {
      "text/plain": [
       "(638, 2725)"
      ]
     },
     "execution_count": 2,
     "metadata": {},
     "output_type": "execute_result"
    }
   ],
   "source": [
    "model.data_matrix.shape"
   ]
  },
  {
   "cell_type": "code",
   "execution_count": 3,
   "metadata": {},
   "outputs": [
    {
     "data": {
      "text/plain": [
       "193"
      ]
     },
     "execution_count": 3,
     "metadata": {},
     "output_type": "execute_result"
    }
   ],
   "source": [
    "model.concept2id['dog']"
   ]
  },
  {
   "cell_type": "code",
   "execution_count": 4,
   "metadata": {},
   "outputs": [
    {
     "data": {
      "text/plain": [
       "113"
      ]
     },
     "execution_count": 4,
     "metadata": {},
     "output_type": "execute_result"
    }
   ],
   "source": [
    "model.concept2id['cat']"
   ]
  },
  {
   "cell_type": "code",
   "execution_count": 5,
   "metadata": {},
   "outputs": [
    {
     "data": {
      "text/plain": [
       "-68.0"
      ]
     },
     "execution_count": 5,
     "metadata": {},
     "output_type": "execute_result"
    }
   ],
   "source": [
    "np.sum(model.data_matrix[model.concept2id['dog'],:] - model.data_matrix[model.concept2id['cat'],:])"
   ]
  },
  {
   "cell_type": "code",
   "execution_count": 9,
   "metadata": {},
   "outputs": [
    {
     "data": {
      "text/plain": [
       "array([['0.9999999999999998', 'dog'],\n",
       "       ['0.6073745169687377', 'cat'],\n",
       "       ['0.5718375094655525', 'gerbil'],\n",
       "       ['0.5636246379114933', 'guinea_pig'],\n",
       "       ['0.5483845449592721', 'hamster'],\n",
       "       ['0.5386415417273727', 'raccoon'],\n",
       "       ['0.505346770544747', 'ox'],\n",
       "       ['0.4928220864774071', 'rabbit'],\n",
       "       ['0.483938929472962', 'chipmunk'],\n",
       "       ['0.4761029120481616', 'llama']], dtype='<U18')"
      ]
     },
     "execution_count": 9,
     "metadata": {},
     "output_type": "execute_result"
    }
   ],
   "source": [
    "from sklearn.metrics.pairwise import cosine_similarity\n",
    "\n",
    "mat = cosine_similarity([model.data_matrix[model.concept2id['dog'],:]] , model.data_matrix)\n",
    "\n",
    "np.flip([(model.id2concept[num], mat[0,num]) for num in np.argsort(mat[0,:])[-10:]])"
   ]
  },
  {
   "cell_type": "code",
   "execution_count": null,
   "metadata": {},
   "outputs": [],
   "source": []
  }
 ],
 "metadata": {
  "kernelspec": {
   "display_name": "Python 3",
   "language": "python",
   "name": "python3"
  },
  "language_info": {
   "codemirror_mode": {
    "name": "ipython",
    "version": 3
   },
   "file_extension": ".py",
   "mimetype": "text/x-python",
   "name": "python",
   "nbconvert_exporter": "python",
   "pygments_lexer": "ipython3",
   "version": "3.6.8"
  }
 },
 "nbformat": 4,
 "nbformat_minor": 2
}
