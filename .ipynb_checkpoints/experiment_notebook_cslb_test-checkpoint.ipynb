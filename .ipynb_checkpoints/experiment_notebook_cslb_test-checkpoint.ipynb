{
 "cells": [
  {
   "cell_type": "code",
   "execution_count": 1,
   "metadata": {},
   "outputs": [
    {
     "name": "stderr",
     "output_type": "stream",
     "text": [
      "Using TensorFlow backend.\n"
     ]
    },
    {
     "name": "stdout",
     "output_type": "stream",
     "text": [
      "Building feat2vec\n"
     ]
    }
   ],
   "source": [
    "import numpy as np \n",
    "from Feat2Vec import Feat2Vec \n",
    "from PLSR import PLSR\n",
    "from utils import * \n",
    "import os\n",
    "os.environ[\"CUDA_VISIBLE_DEVICES\"]=\"-1\"  \n",
    "\n",
    "SEED = 42\n",
    "np.random.seed(seed = SEED)\n",
    "\n",
    "path = 'data/mcrae_feature_matrix.csv'\n",
    "\n",
    "print('Building feat2vec')\n",
    "model = Feat2Vec(path = path)"
   ]
  },
  {
   "cell_type": "code",
   "execution_count": 2,
   "metadata": {},
   "outputs": [],
   "source": [
    "shuffle = np.random.permutation(len(model.concepts))\n",
    "train_concepts = list(np.asarray(model.concepts)[shuffle][:500])\n",
    "test_concepts = list(np.asarray(model.concepts)[shuffle][500:])"
   ]
  },
  {
   "cell_type": "code",
   "execution_count": 3,
   "metadata": {},
   "outputs": [
    {
     "name": "stdout",
     "output_type": "stream",
     "text": [
      "Training feat2vec\n",
      "Epoch: 1 Loss: 0.3580756779236183\n"
     ]
    }
   ],
   "source": [
    "print('Training feat2vec')\n",
    "model.train(verbose = 0, lr = 1e-3, epochs = 2, negative_samples = 20, train_words = train_concepts)\n",
    "print('')"
   ]
  },
  {
   "cell_type": "code",
   "execution_count": 4,
   "metadata": {},
   "outputs": [],
   "source": [
    "import copy \n",
    "\n",
    "mat = copy.deepcopy(model.data_matrix)"
   ]
  },
  {
   "cell_type": "code",
   "execution_count": 5,
   "metadata": {},
   "outputs": [],
   "source": [
    "mat[mat > 0] = 1"
   ]
  },
  {
   "cell_type": "code",
   "execution_count": 9,
   "metadata": {},
   "outputs": [
    {
     "data": {
      "text/plain": [
       "(541, 2526)"
      ]
     },
     "execution_count": 9,
     "metadata": {},
     "output_type": "execute_result"
    }
   ],
   "source": [
    "mat.shape"
   ]
  },
  {
   "cell_type": "code",
   "execution_count": 25,
   "metadata": {},
   "outputs": [
    {
     "data": {
      "text/plain": [
       "array([2, 2, 2, ..., 2, 2, 2])"
      ]
     },
     "execution_count": 25,
     "metadata": {},
     "output_type": "execute_result"
    }
   ],
   "source": [
    "np.sort([len(features) for concept in model.concepts for features in model.concept_features[concept]])"
   ]
  },
  {
   "cell_type": "code",
   "execution_count": 19,
   "metadata": {},
   "outputs": [
    {
     "name": "stdout",
     "output_type": "stream",
     "text": [
      "bayonet\n",
      "bucket\n",
      "cork\n",
      "peg\n",
      "pipe_(smoking)\n",
      "spade\n",
      "urn\n",
      "yam\n"
     ]
    }
   ],
   "source": [
    "for concept in model.concepts:\n",
    "    features = model.concept_features[concept]\n",
    "    if len(features) ==7:\n",
    "        print(concept)"
   ]
  },
  {
   "cell_type": "code",
   "execution_count": 20,
   "metadata": {},
   "outputs": [
    {
     "data": {
      "text/plain": [
       "[('used_for_sealing_wine_bottles', 16.0),\n",
       " ('made_of_wood', 9.0),\n",
       " ('used_for_sealing_bottles', 9.0),\n",
       " ('used_for_sealing', 7.0),\n",
       " ('used_for_message_boards', 7.0),\n",
       " ('is_brown', 6.0),\n",
       " ('comes_from_trees', 6.0)]"
      ]
     },
     "execution_count": 20,
     "metadata": {},
     "output_type": "execute_result"
    }
   ],
   "source": [
    "sorted(model.concept_features['cork'], key=lambda tup: tup[1], reverse = True)[:100]"
   ]
  },
  {
   "cell_type": "code",
   "execution_count": 45,
   "metadata": {},
   "outputs": [
    {
     "data": {
      "text/plain": [
       "[('alligator', 32),\n",
       " ('tiger', 30),\n",
       " ('fox', 28),\n",
       " ('rabbit', 28),\n",
       " ('elephant', 26),\n",
       " ('lion', 26),\n",
       " ('calf', 25),\n",
       " ('frog', 25),\n",
       " ('pig', 25),\n",
       " ('washing_machine', 25),\n",
       " ('zebra', 25),\n",
       " ('lamb', 24),\n",
       " ('leopard', 24),\n",
       " ('monkey', 24),\n",
       " ('rhubarb', 24),\n",
       " ('wolf', 24),\n",
       " ('bee', 23),\n",
       " ('cow', 23),\n",
       " ('flip_flops', 23),\n",
       " ('hippo', 23),\n",
       " ('horse', 23),\n",
       " ('lobster', 23),\n",
       " ('milk', 23),\n",
       " ('potato', 23),\n",
       " ('sunflower', 23),\n",
       " ('swan', 23),\n",
       " ('tea', 23),\n",
       " ('television', 23),\n",
       " ('ambulance', 22),\n",
       " ('beer', 22),\n",
       " ('cat', 22),\n",
       " ('coffee', 22),\n",
       " ('eagle', 22),\n",
       " ('eye', 22),\n",
       " ('giraffe', 22),\n",
       " ('necklace', 22),\n",
       " ('owl', 22),\n",
       " ('shoes', 22),\n",
       " ('toad', 22),\n",
       " ('bacon', 21),\n",
       " ('book', 21),\n",
       " ('champagne', 21),\n",
       " ('chicken', 21),\n",
       " ('crocodile', 21),\n",
       " ('dolphin', 21),\n",
       " ('gorilla', 21),\n",
       " ('hamster', 21),\n",
       " ('harpoon', 21),\n",
       " ('heart', 21),\n",
       " ('jelly', 21),\n",
       " ('leg', 21),\n",
       " ('limousine', 21),\n",
       " ('mouse', 21),\n",
       " ('newspaper', 21),\n",
       " ('panther', 21),\n",
       " ('peacock', 21),\n",
       " ('pineapple', 21),\n",
       " ('pumpkin', 21),\n",
       " ('rhino', 21),\n",
       " ('satsuma', 21),\n",
       " ('shark', 21),\n",
       " ('slug', 21),\n",
       " ('sugar', 21),\n",
       " ('tent', 21),\n",
       " ('tomato', 21),\n",
       " ('trousers', 21),\n",
       " ('ant', 20),\n",
       " ('ball', 20),\n",
       " ('bat_(animal)', 20),\n",
       " ('bread', 20),\n",
       " ('carrot', 20),\n",
       " ('cheetah', 20),\n",
       " ('cigarette', 20),\n",
       " ('deckchair', 20),\n",
       " ('dishwasher', 20),\n",
       " ('dragonfly', 20),\n",
       " ('foot', 20),\n",
       " ('hyena', 20),\n",
       " ('iguana', 20),\n",
       " ('kettle', 20),\n",
       " ('kingfisher', 20),\n",
       " ('kiwi_fruit', 20),\n",
       " ('mosquito', 20),\n",
       " ('nail_polish', 20),\n",
       " ('penguin', 20),\n",
       " ('raccoon', 20),\n",
       " ('radio', 20),\n",
       " ('rat', 20),\n",
       " ('sheep', 20),\n",
       " ('ship', 20),\n",
       " ('sparrow', 20),\n",
       " ('squirrel', 20),\n",
       " ('stockings', 20),\n",
       " ('tortoise', 20),\n",
       " ('watermelon', 20),\n",
       " ('wetsuit', 20),\n",
       " ('balloon', 19),\n",
       " ('bean', 19),\n",
       " ('bear', 19),\n",
       " ('beaver', 19),\n",
       " ('blender', 19),\n",
       " ('butter', 19),\n",
       " ('butterfly', 19),\n",
       " ('cake', 19),\n",
       " ('car', 19),\n",
       " ('caravan', 19),\n",
       " ('castle', 19),\n",
       " ('chainsaw', 19),\n",
       " ('chipmunk', 19),\n",
       " ('chocolate', 19),\n",
       " ('clarinet', 19),\n",
       " ('coat', 19),\n",
       " ('crab', 19),\n",
       " ('duck', 19),\n",
       " ('flute', 19),\n",
       " ('football', 19),\n",
       " ('goggles', 19),\n",
       " ('goose', 19),\n",
       " ('grape', 19),\n",
       " ('grapefruit', 19),\n",
       " ('guinea_pig', 19),\n",
       " ('hornet', 19),\n",
       " ('hose', 19),\n",
       " ('ice_cream', 19),\n",
       " ('jam', 19),\n",
       " ('lemonade', 19),\n",
       " ('lime', 19),\n",
       " ('lizard', 19),\n",
       " ('mango', 19),\n",
       " ('microwave', 19),\n",
       " ('nail', 19),\n",
       " ('nectarine', 19),\n",
       " ('orange', 19),\n",
       " ('pelican', 19),\n",
       " ('pine', 19),\n",
       " ('poppy', 19),\n",
       " ('pyramid', 19),\n",
       " ('ring_(jewellery)', 19),\n",
       " ('scarf', 19),\n",
       " ('scorpion', 19),\n",
       " ('scythe', 19),\n",
       " ('seagull', 19),\n",
       " ('seal_(animal)', 19),\n",
       " ('soup', 19),\n",
       " ('stick_insect', 19),\n",
       " ('suit', 19),\n",
       " ('table', 19),\n",
       " ('tangerine', 19),\n",
       " ('taxi', 19),\n",
       " ('toilet', 19),\n",
       " ('train', 19),\n",
       " ('tulip', 19),\n",
       " ('walrus', 19),\n",
       " ('whisk', 19),\n",
       " ('worm', 19),\n",
       " ('arrow', 18),\n",
       " ('biscuit', 18),\n",
       " ('boots', 18),\n",
       " ('brussel_sprouts', 18),\n",
       " ('camel', 18),\n",
       " ('chandelier', 18),\n",
       " ('coach_(vehicle)', 18),\n",
       " ('desk', 18),\n",
       " ('dice', 18),\n",
       " ('donkey', 18),\n",
       " ('dressing_gown', 18),\n",
       " ('drum', 18),\n",
       " ('earmuffs', 18),\n",
       " ('ferry', 18),\n",
       " ('flannel', 18),\n",
       " ('fridge', 18),\n",
       " ('frisbee', 18),\n",
       " ('garlic', 18),\n",
       " ('goldfish', 18),\n",
       " ('grasshopper', 18),\n",
       " ('hair', 18),\n",
       " ('heron', 18),\n",
       " ('houseboat', 18),\n",
       " ('hummingbird', 18),\n",
       " ('hutch', 18),\n",
       " ('ketchup', 18),\n",
       " ('kitchen_scales', 18),\n",
       " ('land_rover', 18),\n",
       " ('leek', 18),\n",
       " ('llama', 18),\n",
       " ('locust', 18),\n",
       " ('mayonnaise', 18),\n",
       " ('melon', 18),\n",
       " ('mop', 18),\n",
       " ('napkin', 18),\n",
       " ('nut', 18),\n",
       " ('orchid', 18),\n",
       " ('rattlesnake', 18),\n",
       " ('recorder', 18),\n",
       " ('robin', 18),\n",
       " ('rose', 18),\n",
       " ('sink', 18),\n",
       " ('snail', 18),\n",
       " ('spider', 18),\n",
       " ('tambourine', 18),\n",
       " ('tights', 18),\n",
       " ('toaster', 18),\n",
       " ('trumpet', 18),\n",
       " ('van', 18),\n",
       " ('watch', 18),\n",
       " ('yacht', 18),\n",
       " ('yoghurt', 18),\n",
       " ('apron', 17),\n",
       " ('arm', 17),\n",
       " ('armchair', 17),\n",
       " ('badge', 17),\n",
       " ('bayonet', 17),\n",
       " ('bench', 17),\n",
       " ('bicycle', 17),\n",
       " ('bikini', 17),\n",
       " ('bra', 17),\n",
       " ('bridge', 17),\n",
       " ('buffalo', 17),\n",
       " ('canary', 17),\n",
       " ('cap', 17),\n",
       " ('cape', 17),\n",
       " ('catapault', 17),\n",
       " ('cigar', 17),\n",
       " ('cockroach', 17),\n",
       " ('coconut', 17),\n",
       " ('cucumber', 17),\n",
       " ('cutting_board', 17),\n",
       " ('deer', 17),\n",
       " ('dinghy', 17),\n",
       " ('doll', 17),\n",
       " ('emu', 17),\n",
       " ('gate', 17),\n",
       " ('geranium', 17),\n",
       " ('hawk', 17),\n",
       " ('hedgehog', 17),\n",
       " ('helicopter', 17),\n",
       " ('jeans', 17),\n",
       " ('kangaroo', 17),\n",
       " ('mittens', 17),\n",
       " ('olive', 17),\n",
       " ('onion', 17),\n",
       " ('ostrich', 17),\n",
       " ('oven', 17),\n",
       " ('ox', 17),\n",
       " ('peach', 17),\n",
       " ('piano', 17),\n",
       " ('projector', 17),\n",
       " ('range_rover', 17),\n",
       " ('raven', 17),\n",
       " ('rolls_royce', 17),\n",
       " ('ruler', 17),\n",
       " ('salmon', 17),\n",
       " ('saxophone', 17),\n",
       " ('shotgun', 17),\n",
       " ('skirt', 17),\n",
       " ('speedboat', 17),\n",
       " ('spoon', 17),\n",
       " ('squid', 17),\n",
       " ('strawberry', 17),\n",
       " ('swing', 17),\n",
       " ('tarantula', 17),\n",
       " ('telephone', 17),\n",
       " ('throne', 17),\n",
       " ('tobacco', 17),\n",
       " ('tongs', 17),\n",
       " ('tricycle', 17),\n",
       " ('tuba', 17),\n",
       " ('turtle', 17),\n",
       " ('unicycle', 17),\n",
       " ('wallet', 17),\n",
       " ('wasp', 17),\n",
       " ('whistle', 17),\n",
       " ('apple', 16),\n",
       " ('avocado', 16),\n",
       " ('bath', 16),\n",
       " ('bed', 16),\n",
       " ('beetle', 16),\n",
       " ('blueberry', 16),\n",
       " ('bomb', 16),\n",
       " ('cannon', 16),\n",
       " ('catalogue', 16),\n",
       " ('cockerel', 16),\n",
       " ('coin', 16),\n",
       " ('corkscrew', 16),\n",
       " ('currant', 16),\n",
       " ('cymbal', 16),\n",
       " ('daisy', 16),\n",
       " ('dates', 16),\n",
       " ('doughnut', 16),\n",
       " ('dress', 16),\n",
       " ('ear', 16),\n",
       " ('elm', 16),\n",
       " ('encyclopaedia', 16),\n",
       " ('envelope', 16),\n",
       " ('falcon', 16),\n",
       " ('flamingo', 16),\n",
       " ('flea', 16),\n",
       " ('flour', 16),\n",
       " ('french_horn', 16),\n",
       " ('gerbil', 16),\n",
       " ('gherkin', 16),\n",
       " ('goat', 16),\n",
       " ('gong', 16),\n",
       " ('greeting_card', 16),\n",
       " ('kayak', 16),\n",
       " ('knickers', 16),\n",
       " ('ladle', 16),\n",
       " ('lily', 16),\n",
       " ('lips', 16),\n",
       " ('marble', 16),\n",
       " ('mat', 16),\n",
       " ('mushroom', 16),\n",
       " ('octopus', 16),\n",
       " ('pansy', 16),\n",
       " ('parka', 16),\n",
       " ('parsley', 16),\n",
       " ('peeler', 16),\n",
       " ('pony', 16),\n",
       " ('prawn', 16),\n",
       " ('pyjamas', 16),\n",
       " ('radish', 16),\n",
       " ('raisin', 16),\n",
       " ('raspberry', 16),\n",
       " ('rice', 16),\n",
       " ('rocking_chair', 16),\n",
       " ('sandals', 16),\n",
       " ('shrimp', 16),\n",
       " ('spade', 16),\n",
       " ('submarine', 16),\n",
       " ('sultana', 16),\n",
       " ('surfboard', 16),\n",
       " ('sweet_potato', 16),\n",
       " ('sword', 16),\n",
       " ('tugboat', 16),\n",
       " ('typewriter', 16),\n",
       " ('umbrella', 16),\n",
       " ('veil', 16),\n",
       " ('whale', 16),\n",
       " ('whip', 16),\n",
       " ('willow', 16),\n",
       " ('wine', 16),\n",
       " ('woodpecker', 16),\n",
       " ('yoyo', 16),\n",
       " ('aubergine', 15),\n",
       " ('axe', 15),\n",
       " ('bag', 15),\n",
       " ('bagpipes', 15),\n",
       " ('banana', 15),\n",
       " ('barge', 15),\n",
       " ('barrel', 15),\n",
       " ('basin', 15),\n",
       " ('bat_(sporting)', 15),\n",
       " ('bouquet', 15),\n",
       " ('box', 15),\n",
       " ('bracelet', 15),\n",
       " ('button', 15),\n",
       " ('buzzard', 15),\n",
       " ('camera', 15),\n",
       " ('carnation', 15),\n",
       " ('caterpillar', 15),\n",
       " ('chestnut', 15),\n",
       " ('chisel', 15),\n",
       " ('cider', 15),\n",
       " ('cloak', 15),\n",
       " ('club', 15),\n",
       " ('cod', 15),\n",
       " ('crane_(bird)', 15),\n",
       " ('crane_(equipment)', 15),\n",
       " ('crayfish', 15),\n",
       " ('crowbar', 15),\n",
       " ('cup', 15),\n",
       " ('daffodil', 15),\n",
       " ('dandelion', 15),\n",
       " ('eucalyptus', 15),\n",
       " ('fir', 15),\n",
       " ('guitar', 15),\n",
       " ('gun', 15),\n",
       " ('ham', 15),\n",
       " ('harp', 15),\n",
       " ('hatchet', 15),\n",
       " ('herring', 15),\n",
       " ('housefly', 15),\n",
       " ('ibuprofen', 15),\n",
       " ('jacket', 15),\n",
       " ('ladder', 15),\n",
       " ('lamp', 15),\n",
       " ('lemon', 15),\n",
       " ('lipstick', 15),\n",
       " ('magpie', 15),\n",
       " ('mask', 15),\n",
       " ('mirror', 15),\n",
       " ('moped', 15),\n",
       " ('moth', 15),\n",
       " ('motorcycle', 15),\n",
       " ('nose', 15),\n",
       " ('oak', 15),\n",
       " ('otter', 15),\n",
       " ('oyster', 15),\n",
       " ('pear', 15),\n",
       " ('pencil', 15),\n",
       " ('penknife', 15),\n",
       " ('pie', 15),\n",
       " ('platypus', 15),\n",
       " ('plough', 15),\n",
       " ('plum', 15),\n",
       " ('rake', 15),\n",
       " ('rattle', 15),\n",
       " ('rolling_pin', 15),\n",
       " ('satchel', 15),\n",
       " ('scallop', 15),\n",
       " ('seashell', 15),\n",
       " ('shirt', 15),\n",
       " ('skateboard', 15),\n",
       " ('sledge', 15),\n",
       " ('spear', 15),\n",
       " ('stool', 15),\n",
       " ('sweater', 15),\n",
       " ('syringe', 15),\n",
       " ('thermometer', 15),\n",
       " ('thumb', 15),\n",
       " ('tractor', 15),\n",
       " ('truck', 15),\n",
       " ('tuna', 15),\n",
       " ('turkey', 15),\n",
       " ('tweezers', 15),\n",
       " ('violin', 15),\n",
       " ('wand', 15),\n",
       " ('whisky', 15),\n",
       " ('window', 15),\n",
       " ('wren', 15),\n",
       " ('aeroplane', 14),\n",
       " ('armour', 14),\n",
       " ('ashtray', 14),\n",
       " ('boat', 14),\n",
       " ('boomerang', 14),\n",
       " ('bow_(weapon)', 14),\n",
       " ('bucket', 14),\n",
       " ('budgie', 14),\n",
       " ('bus', 14),\n",
       " ('buttercup', 14),\n",
       " ('cage', 14),\n",
       " ('candle', 14),\n",
       " ('canoe', 14),\n",
       " ('carp', 14),\n",
       " ('carriage', 14),\n",
       " ('celery', 14),\n",
       " ('centipede', 14),\n",
       " ('cherry', 14),\n",
       " ('clock', 14),\n",
       " ('courgette', 14),\n",
       " ('cushion', 14),\n",
       " ('dictionary', 14),\n",
       " ('eel', 14),\n",
       " ('finger', 14),\n",
       " ('fork', 14),\n",
       " ('gown', 14),\n",
       " ('hyacinth', 14),\n",
       " ('jeep', 14),\n",
       " ('jellyfish', 14),\n",
       " ('jug', 14),\n",
       " ('kite', 14),\n",
       " ('ladybird', 14),\n",
       " ('lantern', 14),\n",
       " ('marigold', 14),\n",
       " ('microscope', 14),\n",
       " ('millipede', 14),\n",
       " ('moose', 14),\n",
       " ('mug', 14),\n",
       " ('mussel', 14),\n",
       " ('organ_(musical_instrument)', 14),\n",
       " ('parakeet', 14),\n",
       " ('peanut', 14),\n",
       " ('perfume', 14),\n",
       " ('pillow', 14),\n",
       " ('pin', 14),\n",
       " ('pram', 14),\n",
       " ('puppet', 14),\n",
       " ('revolver', 14),\n",
       " ('rollerskate', 14),\n",
       " ('scissors', 14),\n",
       " ('seaweed', 14),\n",
       " ('skis', 14),\n",
       " ('spanner', 14),\n",
       " ('spatula', 14),\n",
       " ('spinach', 14),\n",
       " ('starling', 14),\n",
       " ('strainer', 14),\n",
       " ('sycamore', 14),\n",
       " ('tank', 14),\n",
       " ('textbook', 14),\n",
       " ('trombone', 14),\n",
       " ('trowel', 14),\n",
       " ('turnip', 14),\n",
       " ('accordion', 13),\n",
       " ('apricot', 13),\n",
       " ('asparagus', 13),\n",
       " ('aspirin', 13),\n",
       " ('banjo', 13),\n",
       " ('bookcase', 13),\n",
       " ('bowl', 13),\n",
       " ('brandy', 13),\n",
       " ('broccoli', 13),\n",
       " ('cello', 13),\n",
       " ('chair', 13),\n",
       " ('chest_of_drawers', 13),\n",
       " ('coffin', 13),\n",
       " ('corn', 13),\n",
       " ('crossbow', 13),\n",
       " ('dog', 13),\n",
       " ('dove', 13),\n",
       " ('fence', 13),\n",
       " ('fern', 13),\n",
       " ('gloves', 13),\n",
       " ('glue', 13),\n",
       " ('hammer', 13),\n",
       " ('harmonica', 13),\n",
       " ('helmet', 13),\n",
       " ('hook', 13),\n",
       " ('leotard', 13),\n",
       " ('machete', 13),\n",
       " ('menu', 13),\n",
       " ('oil_tanker', 13),\n",
       " ('pamphlet', 13),\n",
       " ('partridge', 13),\n",
       " ('peas', 13),\n",
       " ('pennicillin', 13),\n",
       " ('pistol', 13),\n",
       " ('porsche', 13),\n",
       " ('raft', 13),\n",
       " ('rifle', 13),\n",
       " ('rocket', 13),\n",
       " ('saw', 13),\n",
       " ('scalpel', 13),\n",
       " ('screw', 13),\n",
       " ('screwdriver', 13),\n",
       " ('shawl', 13),\n",
       " ('shield', 13),\n",
       " ('shovel', 13),\n",
       " ('skunk', 13),\n",
       " ('slippers', 13),\n",
       " ('sock', 13),\n",
       " ('stove', 13),\n",
       " ('termite', 13),\n",
       " ('thimble', 13),\n",
       " ('toe', 13),\n",
       " ('valium', 13),\n",
       " ('wheel', 13),\n",
       " ('wheelbarrow', 13),\n",
       " ('wheelchair', 13),\n",
       " ('basket', 12),\n",
       " ('bellows', 12),\n",
       " ('bottle', 12),\n",
       " ('brick', 12),\n",
       " ('cabbage', 12),\n",
       " ('can_opener', 12),\n",
       " ('cauliflower', 12),\n",
       " ('chain', 12),\n",
       " ('cheese', 12),\n",
       " ('clam', 12),\n",
       " ('codeine', 12),\n",
       " ('coffee_machine', 12),\n",
       " ('comb', 12),\n",
       " ('cork', 12),\n",
       " ('cupboard', 12),\n",
       " ('drill', 12),\n",
       " ('glider', 12),\n",
       " ('harpsichord', 12),\n",
       " ('hoe', 12),\n",
       " ('lettuce', 12),\n",
       " ('mackerel', 12),\n",
       " ('moss', 12),\n",
       " ('peg', 12),\n",
       " ('pen', 12),\n",
       " ('pipe_(smoking)', 12),\n",
       " ('porcupine', 12),\n",
       " ('prune', 12),\n",
       " ('robe', 12),\n",
       " ('sandwich', 12),\n",
       " ('sofa', 12),\n",
       " ('swimsuit', 12),\n",
       " ('tongue', 12),\n",
       " ('tray', 12),\n",
       " ('trolley', 12),\n",
       " ('tyre', 12),\n",
       " ('bell', 11),\n",
       " ('belt', 11),\n",
       " ('birch', 11),\n",
       " ('blouse', 11),\n",
       " ('buggy', 11),\n",
       " ('castenets', 11),\n",
       " ('coffee_pot', 11),\n",
       " ('cradle', 11),\n",
       " ('crayon', 11),\n",
       " ('cricket', 11),\n",
       " ('dagger', 11),\n",
       " ('doorknob', 11),\n",
       " ('gin', 11),\n",
       " ('grenade', 11),\n",
       " ('knife', 11),\n",
       " ('lorry', 11),\n",
       " ('minnow', 11),\n",
       " ('nightingale', 11),\n",
       " ('pigeon', 11),\n",
       " ('plate', 11),\n",
       " ('pliers', 11),\n",
       " ('rock', 11),\n",
       " ('rope', 11),\n",
       " ('sardine', 11),\n",
       " ('seahorse', 11),\n",
       " ('sellotape', 11),\n",
       " ('spirit_level', 11),\n",
       " ('stick', 11),\n",
       " ('stone', 11),\n",
       " ('tripod', 11),\n",
       " ('anchor', 10),\n",
       " ('artichoke', 10),\n",
       " ('bin', 10),\n",
       " ('brochure', 10),\n",
       " ('broom', 10),\n",
       " ('brush', 10),\n",
       " ('bullet', 10),\n",
       " ('cart', 10),\n",
       " ('dresser', 10),\n",
       " ('flounder', 10),\n",
       " ('jar', 10),\n",
       " ('key', 10),\n",
       " ('needle', 10),\n",
       " ('razor', 10),\n",
       " ('trout', 10),\n",
       " ('bone', 9),\n",
       " ('buckle', 9),\n",
       " ('certificate', 9),\n",
       " ('clamp', 9),\n",
       " ('grater', 9),\n",
       " ('sandpaper', 9),\n",
       " ('bolts', 8),\n",
       " ('colander', 8),\n",
       " ('poison', 6)]"
      ]
     },
     "execution_count": 45,
     "metadata": {},
     "output_type": "execute_result"
    }
   ],
   "source": [
    "sorted([(concept, len(model.concept_features[concept])) for concept in model.concepts], \n",
    "       key=lambda tup: tup[1], reverse = True)"
   ]
  },
  {
   "cell_type": "code",
   "execution_count": 20,
   "metadata": {},
   "outputs": [
    {
     "data": {
      "text/plain": [
       "15"
      ]
     },
     "execution_count": 20,
     "metadata": {},
     "output_type": "execute_result"
    }
   ],
   "source": [
    "len(model.concept_features['oyster'])"
   ]
  },
  {
   "cell_type": "code",
   "execution_count": 6,
   "metadata": {},
   "outputs": [
    {
     "name": "stdout",
     "output_type": "stream",
     "text": [
      "Example features learned for word: dog\n",
      "[['0.33736581472385563' 'is_an_animal']\n",
      " ['0.3164451337336031' 'is_a_mammal']\n",
      " ['0.31100116690861757' 'has_fur_hair']\n",
      " ['0.30825791426327265' 'has_teeth']\n",
      " ['0.27861600946408627' 'has_a_tail']\n",
      " ['0.27575490961174454' 'has_four_legs']\n",
      " ['0.2639988336137963' 'is_a_pet']\n",
      " ['0.2613066615694819' 'is_cute']\n",
      " ['0.25842316452853537' 'is_big_large']\n",
      " ['0.2535060842885607' 'does_eat_grass']]\n",
      "\n"
     ]
    }
   ],
   "source": [
    "# test for word dog\n",
    "print('Example features learned for word: dog')\n",
    "print(model.topFeatures('dog', top = 10))\n",
    "print('')"
   ]
  },
  {
   "cell_type": "code",
   "execution_count": 9,
   "metadata": {},
   "outputs": [
    {
     "data": {
      "text/plain": [
       "[('an_animal', 16.0),\n",
       " ('has_a_tail', 10.0),\n",
       " ('has_fur', 14.0),\n",
       " ('a_mammal', 6.0),\n",
       " ('has_4_legs', 18.0),\n",
       " ('has_legs', 18.0),\n",
       " ('a_pet', 12.0),\n",
       " ('has_hair', 7.0),\n",
       " ('a_carnivore', 5.0),\n",
       " ('is_domestic', 5.0),\n",
       " ('beh_-_barks', 21.0),\n",
       " (\"is_man's_best_friend\", 10.0),\n",
       " ('used_for_protection', 7.0),\n",
       " ('beh_-_chases', 6.0),\n",
       " ('beh_-_chases_cats', 6.0),\n",
       " ('has_a_nose', 5.0),\n",
       " ('has_a_wet_nose', 5.0),\n",
       " ('is_friendly', 5.0)]"
      ]
     },
     "execution_count": 9,
     "metadata": {},
     "output_type": "execute_result"
    }
   ],
   "source": [
    "model.concept_features['dog']"
   ]
  },
  {
   "cell_type": "code",
   "execution_count": 10,
   "metadata": {},
   "outputs": [
    {
     "name": "stdout",
     "output_type": "stream",
     "text": [
      "Example features learned for word: dog\n",
      "[['0.3334511562690621' 'has_a_tail']\n",
      " ['0.3114374763546076' 'has_4_legs']\n",
      " ['0.2778455114490192' 'is_domestic']\n",
      " ['0.27641124222178143' 'an_animal']\n",
      " ['0.2704217432051071' 'has_fur']\n",
      " ['0.26297182952729786' 'is_black']\n",
      " ['0.260977222385825' 'a_pet']\n",
      " ['0.2561419740389714' 'has_whiskers']\n",
      " ['0.2445012246793494' 'a_carnivore']\n",
      " ['0.23323119223134064' 'beh_-_is_nocturnal']]\n",
      "\n"
     ]
    }
   ],
   "source": [
    "# test for word dog\n",
    "print('Example features learned for word: dog')\n",
    "print(model.topFeatures('dog', top = 10))\n",
    "print('')"
   ]
  },
  {
   "cell_type": "code",
   "execution_count": 11,
   "metadata": {},
   "outputs": [
    {
     "name": "stdout",
     "output_type": "stream",
     "text": [
      "Building partial least squared regression (50)\n",
      "Building partial least squared regression (200)\n",
      "\n"
     ]
    }
   ],
   "source": [
    "# build baseline model (50 and 200)\n",
    "print('Building partial least squared regression (50)')\n",
    "plsr50 = PLSR(path = path)\n",
    "plsr50.train(train_words = train_concepts, embedding_size = 50)\n",
    "\n",
    "print('Building partial least squared regression (200)')\n",
    "plsr200 = PLSR(path = path)\n",
    "plsr200.train(train_words = train_concepts, embedding_size = 200)\n",
    "print('')"
   ]
  },
  {
   "cell_type": "code",
   "execution_count": 12,
   "metadata": {},
   "outputs": [],
   "source": [
    "concept_dict_plsr50 = {}\n",
    "for index, concept in enumerate(model.test_words):\n",
    "    concept_dict_plsr50[concept] = plsr50.test_preds[index,:]"
   ]
  },
  {
   "cell_type": "code",
   "execution_count": 14,
   "metadata": {},
   "outputs": [
    {
     "data": {
      "text/plain": [
       "24.390243902439025"
      ]
     },
     "execution_count": 14,
     "metadata": {},
     "output_type": "execute_result"
    }
   ],
   "source": []
  },
  {
   "cell_type": "code",
   "execution_count": 11,
   "metadata": {},
   "outputs": [],
   "source": [
    "concept_dict_plsr200 = {}\n",
    "for index, concept in enumerate(model.test_words):\n",
    "    concept_dict_plsr200[concept] = plsr200.test_preds[index,:]"
   ]
  },
  {
   "cell_type": "code",
   "execution_count": 8,
   "metadata": {},
   "outputs": [
    {
     "name": "stdout",
     "output_type": "stream",
     "text": [
      "Word: box\n"
     ]
    },
    {
     "ename": "NameError",
     "evalue": "name 'topNeighbours' is not defined",
     "output_type": "error",
     "traceback": [
      "\u001b[0;31m---------------------------------------------------------------------------\u001b[0m",
      "\u001b[0;31mNameError\u001b[0m                                 Traceback (most recent call last)",
      "\u001b[0;32m<ipython-input-8-4560f8775a6c>\u001b[0m in \u001b[0;36m<module>\u001b[0;34m\u001b[0m\n\u001b[1;32m      1\u001b[0m \u001b[0mindex\u001b[0m \u001b[0;34m=\u001b[0m \u001b[0;36m20\u001b[0m\u001b[0;34m\u001b[0m\u001b[0;34m\u001b[0m\u001b[0m\n\u001b[1;32m      2\u001b[0m \u001b[0mprint\u001b[0m\u001b[0;34m(\u001b[0m\u001b[0;34m'Word:'\u001b[0m\u001b[0;34m,\u001b[0m \u001b[0mmodel\u001b[0m\u001b[0;34m.\u001b[0m\u001b[0mtest_words\u001b[0m\u001b[0;34m[\u001b[0m\u001b[0mindex\u001b[0m\u001b[0;34m]\u001b[0m\u001b[0;34m)\u001b[0m\u001b[0;34m\u001b[0m\u001b[0;34m\u001b[0m\u001b[0m\n\u001b[0;32m----> 3\u001b[0;31m \u001b[0mtopNeighbours\u001b[0m\u001b[0;34m(\u001b[0m\u001b[0mconcept_dict_plsr200\u001b[0m\u001b[0;34m[\u001b[0m\u001b[0mmodel\u001b[0m\u001b[0;34m.\u001b[0m\u001b[0mtest_words\u001b[0m\u001b[0;34m[\u001b[0m\u001b[0mindex\u001b[0m\u001b[0;34m]\u001b[0m\u001b[0;34m]\u001b[0m\u001b[0;34m,\u001b[0m \u001b[0mmodel\u001b[0m\u001b[0;34m,\u001b[0m \u001b[0mtop\u001b[0m \u001b[0;34m=\u001b[0m \u001b[0;36m20\u001b[0m\u001b[0;34m)\u001b[0m\u001b[0;34m\u001b[0m\u001b[0;34m\u001b[0m\u001b[0m\n\u001b[0m",
      "\u001b[0;31mNameError\u001b[0m: name 'topNeighbours' is not defined"
     ]
    }
   ],
   "source": [
    "index = 20\n",
    "print('Word:', model.test_words[index])\n",
    "#topNeighbours(concept_dict_plsr200[model.test_words[index]], model, top = 20)"
   ]
  },
  {
   "cell_type": "code",
   "execution_count": 12,
   "metadata": {},
   "outputs": [
    {
     "name": "stdout",
     "output_type": "stream",
     "text": [
      "PLSR 50 neighbour scores\n",
      "Top 1 2.4390243902439024\n",
      "Top 5 17.073170731707318\n",
      "Top 10 24.390243902439025\n",
      "Top 20 48.78048780487805\n"
     ]
    }
   ],
   "source": [
    "print('PLSR 50 neighbour scores')\n",
    "tops = [1, 5, 10, 20]\n",
    "for n in tops:\n",
    "    print('Top', n, neighbourScore(concept_dict_plsr50, plsr50, top = n))"
   ]
  },
  {
   "cell_type": "code",
   "execution_count": 16,
   "metadata": {},
   "outputs": [
    {
     "name": "stdout",
     "output_type": "stream",
     "text": [
      "Top 1 2.4390243902439024\n",
      "Top 5 17.073170731707318\n",
      "Top 10 24.390243902439025\n",
      "Top 20 48.78048780487805\n"
     ]
    }
   ],
   "source": [
    "tops = [1, 5, 10, 20]\n",
    "for n in tops:\n",
    "    print('Top', n, np.mean([int(concept in plsr50.topNeighbours(concept_dict_plsr50[concept], n)) \n",
    "                             for concept in test_concepts]) *100)"
   ]
  },
  {
   "cell_type": "code",
   "execution_count": 22,
   "metadata": {},
   "outputs": [
    {
     "name": "stdout",
     "output_type": "stream",
     "text": [
      "Top 1 2.4390243902439024\n",
      "Top 5 17.073170731707318\n",
      "Top 10 24.390243902439025\n",
      "Top 20 48.78048780487805\n"
     ]
    }
   ],
   "source": [
    "tops = [1, 5, 10, 20]\n",
    "for n in tops:\n",
    "    print('Top', n, len([concept for concept in test_concepts if concept in \n",
    "      plsr50.topNeighbours(concept_dict_plsr50[concept], n)]) / len(test_concepts) * 100)"
   ]
  },
  {
   "cell_type": "code",
   "execution_count": 13,
   "metadata": {},
   "outputs": [
    {
     "name": "stdout",
     "output_type": "stream",
     "text": [
      "PLSR 200 neighbour scores\n",
      "Top 1 4.878048780487805\n",
      "Top 5 26.82926829268293\n",
      "Top 10 41.46341463414634\n",
      "Top 20 58.536585365853654\n"
     ]
    }
   ],
   "source": [
    "print('PLSR 200 neighbour scores')\n",
    "tops = [1, 5, 10, 20]\n",
    "for n in tops:\n",
    "    print('Top', n, neighbourScore(concept_dict_plsr200, plsr200, top = n))"
   ]
  },
  {
   "cell_type": "code",
   "execution_count": 14,
   "metadata": {},
   "outputs": [],
   "source": [
    "def constructVector(concept, model):\n",
    "    new_vector = np.zeros(model.embedding_matrix.shape[0])\n",
    "    for feature in [s[0] for s in model.concept_features[concept]]:\n",
    "        new_vector += model.fvector(feature)\n",
    "        \n",
    "    return  new_vector / len(model.concept_features[concept])"
   ]
  },
  {
   "cell_type": "code",
   "execution_count": 15,
   "metadata": {},
   "outputs": [],
   "source": [
    "concept_dict_f2v = {}\n",
    "for index, concept in enumerate(model.test_words):\n",
    "    concept_dict_f2v[concept] = constructVector(concept, model)"
   ]
  },
  {
   "cell_type": "code",
   "execution_count": 13,
   "metadata": {},
   "outputs": [
    {
     "name": "stdout",
     "output_type": "stream",
     "text": [
      "Word: zebra\n"
     ]
    },
    {
     "ename": "NameError",
     "evalue": "name 'topNeighbours' is not defined",
     "output_type": "error",
     "traceback": [
      "\u001b[0;31m---------------------------------------------------------------------------\u001b[0m",
      "\u001b[0;31mNameError\u001b[0m                                 Traceback (most recent call last)",
      "\u001b[0;32m<ipython-input-13-520403202371>\u001b[0m in \u001b[0;36m<module>\u001b[0;34m\u001b[0m\n\u001b[1;32m      1\u001b[0m \u001b[0mprint\u001b[0m\u001b[0;34m(\u001b[0m\u001b[0;34m'Word:'\u001b[0m\u001b[0;34m,\u001b[0m \u001b[0mmodel\u001b[0m\u001b[0;34m.\u001b[0m\u001b[0mtest_words\u001b[0m\u001b[0;34m[\u001b[0m\u001b[0mindex\u001b[0m\u001b[0;34m]\u001b[0m\u001b[0;34m)\u001b[0m\u001b[0;34m\u001b[0m\u001b[0;34m\u001b[0m\u001b[0m\n\u001b[0;32m----> 2\u001b[0;31m \u001b[0mtopNeighbours\u001b[0m\u001b[0;34m(\u001b[0m\u001b[0mconcept_dict_f2v\u001b[0m\u001b[0;34m[\u001b[0m\u001b[0mmodel\u001b[0m\u001b[0;34m.\u001b[0m\u001b[0mtest_words\u001b[0m\u001b[0;34m[\u001b[0m\u001b[0mindex\u001b[0m\u001b[0;34m]\u001b[0m\u001b[0;34m]\u001b[0m\u001b[0;34m,\u001b[0m \u001b[0mmodel\u001b[0m\u001b[0;34m,\u001b[0m \u001b[0mtop\u001b[0m \u001b[0;34m=\u001b[0m \u001b[0;36m10\u001b[0m\u001b[0;34m)\u001b[0m\u001b[0;34m\u001b[0m\u001b[0;34m\u001b[0m\u001b[0m\n\u001b[0m",
      "\u001b[0;31mNameError\u001b[0m: name 'topNeighbours' is not defined"
     ]
    }
   ],
   "source": [
    "print('Word:', model.test_words[index])\n",
    "topNeighbours(concept_dict_f2v[model.test_words[index]], model, top = 10)"
   ]
  },
  {
   "cell_type": "code",
   "execution_count": 16,
   "metadata": {},
   "outputs": [
    {
     "name": "stdout",
     "output_type": "stream",
     "text": [
      "Top 1 9.75609756097561\n",
      "Top 5 36.58536585365854\n",
      "Top 10 51.21951219512195\n",
      "Top 20 63.41463414634146\n"
     ]
    }
   ],
   "source": [
    "tops = [1, 5, 10, 20]\n",
    "for n in tops:\n",
    "    print('Top', n, neighbourScore(concept_dict_f2v, model, top = n))"
   ]
  },
  {
   "cell_type": "code",
   "execution_count": 17,
   "metadata": {},
   "outputs": [
    {
     "name": "stdout",
     "output_type": "stream",
     "text": [
      "PLSR 50 Scores\n",
      "Train: 47.76861821857716\n",
      "Test: 29.939537754232315\n"
     ]
    }
   ],
   "source": [
    "print('PLSR 50 Scores')\n",
    "print('Train:', np.mean(plsr50.feature_score(type = 'train'))*100)\n",
    "print('Test:', np.mean(plsr50.feature_score(type = 'test'))*100)"
   ]
  },
  {
   "cell_type": "code",
   "execution_count": 18,
   "metadata": {},
   "outputs": [
    {
     "name": "stdout",
     "output_type": "stream",
     "text": [
      "PLSR 200 Scores\n",
      "Train: 76.56106416425739\n",
      "Test: 32.28709723159621\n"
     ]
    }
   ],
   "source": [
    "print('PLSR 200 Scores')\n",
    "print('Train:', np.mean(plsr200.feature_score(type = 'train'))*100)\n",
    "print('Test:', np.mean(plsr200.feature_score(type = 'test'))*100)"
   ]
  },
  {
   "cell_type": "code",
   "execution_count": 19,
   "metadata": {},
   "outputs": [
    {
     "name": "stdout",
     "output_type": "stream",
     "text": [
      "Feat2Vec Scores\n",
      "Train: 75.18043197622886\n",
      "Test: 33.163801827813\n"
     ]
    }
   ],
   "source": [
    "print('Feat2Vec Scores')\n",
    "print('Train:', np.mean(model.feature_score(type = 'train'))*100)\n",
    "print('Test:', np.mean(model.feature_score(type = 'test'))*100)"
   ]
  },
  {
   "cell_type": "code",
   "execution_count": 49,
   "metadata": {},
   "outputs": [],
   "source": [
    "scores = plsr50.feature_score(type = 'test')"
   ]
  },
  {
   "cell_type": "code",
   "execution_count": 53,
   "metadata": {},
   "outputs": [],
   "source": [
    "features = [x[0] for x in plsr50.concept_features[concept]]"
   ]
  },
  {
   "cell_type": "code",
   "execution_count": 55,
   "metadata": {},
   "outputs": [
    {
     "name": "stdout",
     "output_type": "stream",
     "text": [
      "wheel\n",
      "['made_of_metal', 'is_round', 'made_of_rubber', 'used_on_bicycles', 'inbeh_-_rolls', 'used_on_cars', 'used_for_mobility', 'is_invented', 'has_spokes', 'has_rims']\n"
     ]
    }
   ],
   "source": [
    "print(concept)\n",
    "print(features)"
   ]
  },
  {
   "cell_type": "code",
   "execution_count": 63,
   "metadata": {},
   "outputs": [
    {
     "data": {
      "text/plain": [
       "array([['11.44363242042159', 'made_of_metal'],\n",
       "       ['8.110211952645932', 'a_tool'],\n",
       "       ['6.459163401058991', 'has_a_handle'],\n",
       "       ['6.214866354010754', 'a_bird'],\n",
       "       ['6.210007458594687', 'is_sharp'],\n",
       "       ['5.774026203701385', 'a_weapon'],\n",
       "       ['4.784106737100295', 'a_fruit'],\n",
       "       ['4.630671424875498', 'made_of_wood'],\n",
       "       ['3.992531625494567', 'used_for_killing'],\n",
       "       ['3.7598023379565606', 'is_dangerous']], dtype='<U18')"
      ]
     },
     "execution_count": 63,
     "metadata": {},
     "output_type": "execute_result"
    }
   ],
   "source": [
    "plsr50._topFeatures(plsr50.test_preds[36,:], top = len(features))"
   ]
  },
  {
   "cell_type": "code",
   "execution_count": 59,
   "metadata": {},
   "outputs": [
    {
     "name": "stdout",
     "output_type": "stream",
     "text": [
      "36\n"
     ]
    }
   ],
   "source": [
    "for index, c in enumerate(test_concepts):\n",
    "    if c == concept:\n",
    "        print(index)"
   ]
  },
  {
   "cell_type": "code",
   "execution_count": 61,
   "metadata": {},
   "outputs": [
    {
     "data": {
      "text/plain": [
       "['made_of_metal',\n",
       " 'a_tool',\n",
       " 'has_a_handle',\n",
       " 'a_bird',\n",
       " 'is_sharp',\n",
       " 'a_weapon',\n",
       " 'a_fruit',\n",
       " 'made_of_wood',\n",
       " 'used_for_killing',\n",
       " 'is_dangerous']"
      ]
     },
     "execution_count": 61,
     "metadata": {},
     "output_type": "execute_result"
    }
   ],
   "source": [
    "[x[1] for x in plsr50._topFeatures(plsr50.test_preds[36,:], top = len(features))]"
   ]
  },
  {
   "cell_type": "code",
   "execution_count": null,
   "metadata": {},
   "outputs": [],
   "source": [
    "def feature_score(model, type = 'test'):\n",
    "    '''\n",
    "            Scores model on its ability to retrieve correct features\n",
    "    '''\n",
    "    if type == 'train':\n",
    "        concepts = self.train_words\n",
    "    if type == 'test':\n",
    "        concepts = self.test_words\n",
    "\n",
    "    total_scores = []\n",
    "    for concept in concepts:\n",
    "        features = [x[0] for x in self.concept_features[concept]]\n",
    "        num_features = len(features)\n",
    "\n",
    "        predicted_features = [x[1] for x in self.topFeatures(concept, top = num_features)]\n",
    "\n",
    "        # scores = [int(features[num] == predicted_features[num]) for num in range(num_features)]\n",
    "        positives = [f for f in predicted_features if f in features]\n",
    "\n",
    "        # total_scores.append(f1_score(np.ones(num_features), scores))\n",
    "        total_scores.append(len(positives) / num_features)\n",
    "\n",
    "    return total_scores"
   ]
  },
  {
   "cell_type": "code",
   "execution_count": 19,
   "metadata": {},
   "outputs": [],
   "source": [
    "plsr50_embs = dict(zip(plsr50.concepts, plsr50.regressor.predict(plsr50.embedding_matrix.T)))\n",
    "plsr200_embs = dict(zip(plsr200.concepts, plsr200.regressor.predict(plsr200.embedding_matrix.T)))\n",
    "\n",
    "f2v_embs = {}\n",
    "for index, concept in enumerate(model.concepts):\n",
    "    f2v_embs[concept] = constructVector(concept, model)"
   ]
  },
  {
   "cell_type": "code",
   "execution_count": 20,
   "metadata": {},
   "outputs": [],
   "source": [
    "saveEmbs(plsr50_embs, name = 'PLSR50_CSLB')\n",
    "saveEmbs(plsr200_embs, name = 'PLSR200_CSLB')\n",
    "saveEmbs(f2v_embs, name = 'F2V_CSLB')"
   ]
  },
  {
   "cell_type": "code",
   "execution_count": 21,
   "metadata": {},
   "outputs": [],
   "source": [
    "import vecto\n",
    "import vecto.embeddings \n",
    "\n",
    "plsr50_vsm = vecto.embeddings.load_from_dir('embeddings/PLSR50_CSLB')\n",
    "plsr200_vsm = vecto.embeddings.load_from_dir('embeddings/PLSR200_CSLB')\n",
    "f2v_vsm = vecto.embeddings.load_from_dir('embeddings/F2V_CSLB')"
   ]
  },
  {
   "cell_type": "code",
   "execution_count": 22,
   "metadata": {},
   "outputs": [
    {
     "name": "stdout",
     "output_type": "stream",
     "text": [
      "simlex999 - (0.3752137482642991, 48)\n",
      "men - (0.7530178312843285, 104)\n"
     ]
    }
   ],
   "source": [
    "vectoBenchmark(plsr50_vsm)"
   ]
  },
  {
   "cell_type": "code",
   "execution_count": 23,
   "metadata": {},
   "outputs": [
    {
     "name": "stdout",
     "output_type": "stream",
     "text": [
      "simlex999 - (0.5085362259461739, 48)\n",
      "men - (0.7784559996754286, 104)\n"
     ]
    }
   ],
   "source": [
    "vectoBenchmark(plsr200_vsm)"
   ]
  },
  {
   "cell_type": "code",
   "execution_count": 24,
   "metadata": {},
   "outputs": [
    {
     "name": "stdout",
     "output_type": "stream",
     "text": [
      "simlex999 - (0.44735771114671424, 48)\n",
      "men - (0.7061614191188123, 104)\n"
     ]
    }
   ],
   "source": [
    "vectoBenchmark(f2v_vsm)"
   ]
  },
  {
   "cell_type": "code",
   "execution_count": 5,
   "metadata": {},
   "outputs": [],
   "source": [
    "import vecto\n",
    "import vecto.embeddings \n",
    "\n",
    "mcrae = vecto.embeddings.load_from_dir('embeddings/MCRAE')\n",
    "cslb = vecto.embeddings.load_from_dir('embeddings/CSLB')"
   ]
  },
  {
   "cell_type": "code",
   "execution_count": 6,
   "metadata": {},
   "outputs": [
    {
     "name": "stdout",
     "output_type": "stream",
     "text": [
      "simlex999 - (0.5725154311271989, 44)\n",
      "men - (0.6760324599062513, 94)\n"
     ]
    }
   ],
   "source": [
    "vectoBenchmark(mcrae)"
   ]
  },
  {
   "cell_type": "code",
   "execution_count": 7,
   "metadata": {},
   "outputs": [
    {
     "name": "stdout",
     "output_type": "stream",
     "text": [
      "simlex999 - (0.5130050024627594, 48)\n",
      "men - (0.7544790806157509, 104)\n"
     ]
    }
   ],
   "source": [
    "vectoBenchmark(cslb)"
   ]
  },
  {
   "cell_type": "code",
   "execution_count": 49,
   "metadata": {},
   "outputs": [],
   "source": [
    "words = []\n",
    "with open('data/benchmarks/benchmarks/similarity/en/simlex999.txt', 'r') as f:\n",
    "    for line in f:\n",
    "        words.append(line.split()[0])\n",
    "        words.append(line.split()[1])\n",
    "        \n",
    "# with open('data/benchmarks/benchmarks/similarity/en/men.txt', 'r') as f:\n",
    "#     for line in f:\n",
    "#         words.append(line.split()[0])\n",
    "#         words.append(line.split()[1])"
   ]
  },
  {
   "cell_type": "code",
   "execution_count": 33,
   "metadata": {},
   "outputs": [],
   "source": [
    "words = list(set(words))"
   ]
  },
  {
   "cell_type": "code",
   "execution_count": 34,
   "metadata": {},
   "outputs": [
    {
     "data": {
      "text/plain": [
       "1577"
      ]
     },
     "execution_count": 34,
     "metadata": {},
     "output_type": "execute_result"
    }
   ],
   "source": [
    "len(words)"
   ]
  },
  {
   "cell_type": "code",
   "execution_count": 35,
   "metadata": {},
   "outputs": [],
   "source": [
    "import spacy \n",
    "\n",
    "nlp = spacy.load('en_core_web_lg')\n",
    "\n",
    "spacy_embs = {}\n",
    "for word in words:\n",
    "    token = nlp(u'' + word)\n",
    "    if token.has_vector:\n",
    "        spacy_embs[word] = token.vector"
   ]
  },
  {
   "cell_type": "code",
   "execution_count": 39,
   "metadata": {},
   "outputs": [],
   "source": [
    "saveEmbs(spacy_embs, name = 'SPACY')"
   ]
  },
  {
   "cell_type": "code",
   "execution_count": 40,
   "metadata": {},
   "outputs": [],
   "source": [
    "import vecto\n",
    "import vecto.embeddings \n",
    "\n",
    "spacy_vsm = vecto.embeddings.load_from_dir('embeddings/SPACY')"
   ]
  },
  {
   "cell_type": "code",
   "execution_count": 41,
   "metadata": {},
   "outputs": [
    {
     "name": "stdout",
     "output_type": "stream",
     "text": [
      "simlex999 - (0.389916600639166, 999)\n",
      "men - (0.8079343906476782, 3000)\n"
     ]
    }
   ],
   "source": [
    "vectoBenchmark(spacy_vsm)"
   ]
  },
  {
   "cell_type": "code",
   "execution_count": 56,
   "metadata": {},
   "outputs": [],
   "source": [
    "import pandas as pd \n",
    "\n",
    "mcrae_thing = pd.read_csv('data/mcrae_feature_matrix.csv', index_col=[0])\n",
    "cslb_thing = pd.read_csv('data/cslb_feature_matrix.csv', index_col=[0])"
   ]
  },
  {
   "cell_type": "code",
   "execution_count": 57,
   "metadata": {},
   "outputs": [],
   "source": [
    "words = []\n",
    "for w in mcrae_thing['Vectors'].values:\n",
    "    words.append(w)\n",
    "    \n",
    "for w in cslb_thing['Vectors'].values:\n",
    "    words.append(w)"
   ]
  },
  {
   "cell_type": "code",
   "execution_count": 58,
   "metadata": {},
   "outputs": [],
   "source": [
    "words = list(set(words))"
   ]
  },
  {
   "cell_type": "code",
   "execution_count": 61,
   "metadata": {},
   "outputs": [],
   "source": [
    "counts = 0\n",
    "with open('data/benchmarks/benchmarks/similarity/en/simlex999.txt', 'r') as f:\n",
    "    for line in f:\n",
    "        w1 = line.split()[0]\n",
    "        w2 = line.split()[1]\n",
    "        if w1 in words and w2 in words:\n",
    "            counts += 1"
   ]
  },
  {
   "cell_type": "code",
   "execution_count": 62,
   "metadata": {},
   "outputs": [
    {
     "data": {
      "text/plain": [
       "66"
      ]
     },
     "execution_count": 62,
     "metadata": {},
     "output_type": "execute_result"
    }
   ],
   "source": [
    "counts"
   ]
  },
  {
   "cell_type": "code",
   "execution_count": 2,
   "metadata": {},
   "outputs": [
    {
     "data": {
      "text/plain": [
       "(638, 2725)"
      ]
     },
     "execution_count": 2,
     "metadata": {},
     "output_type": "execute_result"
    }
   ],
   "source": [
    "model.data_matrix.shape"
   ]
  },
  {
   "cell_type": "code",
   "execution_count": 3,
   "metadata": {},
   "outputs": [
    {
     "data": {
      "text/plain": [
       "193"
      ]
     },
     "execution_count": 3,
     "metadata": {},
     "output_type": "execute_result"
    }
   ],
   "source": [
    "model.concept2id['dog']"
   ]
  },
  {
   "cell_type": "code",
   "execution_count": 4,
   "metadata": {},
   "outputs": [
    {
     "data": {
      "text/plain": [
       "113"
      ]
     },
     "execution_count": 4,
     "metadata": {},
     "output_type": "execute_result"
    }
   ],
   "source": [
    "model.concept2id['cat']"
   ]
  },
  {
   "cell_type": "code",
   "execution_count": 5,
   "metadata": {},
   "outputs": [
    {
     "data": {
      "text/plain": [
       "-68.0"
      ]
     },
     "execution_count": 5,
     "metadata": {},
     "output_type": "execute_result"
    }
   ],
   "source": [
    "np.sum(model.data_matrix[model.concept2id['dog'],:] - model.data_matrix[model.concept2id['cat'],:])"
   ]
  },
  {
   "cell_type": "code",
   "execution_count": 9,
   "metadata": {},
   "outputs": [
    {
     "data": {
      "text/plain": [
       "array([['0.9999999999999998', 'dog'],\n",
       "       ['0.6073745169687377', 'cat'],\n",
       "       ['0.5718375094655525', 'gerbil'],\n",
       "       ['0.5636246379114933', 'guinea_pig'],\n",
       "       ['0.5483845449592721', 'hamster'],\n",
       "       ['0.5386415417273727', 'raccoon'],\n",
       "       ['0.505346770544747', 'ox'],\n",
       "       ['0.4928220864774071', 'rabbit'],\n",
       "       ['0.483938929472962', 'chipmunk'],\n",
       "       ['0.4761029120481616', 'llama']], dtype='<U18')"
      ]
     },
     "execution_count": 9,
     "metadata": {},
     "output_type": "execute_result"
    }
   ],
   "source": [
    "from sklearn.metrics.pairwise import cosine_similarity\n",
    "\n",
    "mat = cosine_similarity([model.data_matrix[model.concept2id['dog'],:]] , model.data_matrix)\n",
    "\n",
    "np.flip([(model.id2concept[num], mat[0,num]) for num in np.argsort(mat[0,:])[-10:]])"
   ]
  },
  {
   "cell_type": "code",
   "execution_count": null,
   "metadata": {},
   "outputs": [],
   "source": []
  }
 ],
 "metadata": {
  "kernelspec": {
   "display_name": "Python 3",
   "language": "python",
   "name": "python3"
  },
  "language_info": {
   "codemirror_mode": {
    "name": "ipython",
    "version": 3
   },
   "file_extension": ".py",
   "mimetype": "text/x-python",
   "name": "python",
   "nbconvert_exporter": "python",
   "pygments_lexer": "ipython3",
   "version": "3.6.8"
  }
 },
 "nbformat": 4,
 "nbformat_minor": 2
}
