{
 "cells": [
  {
   "cell_type": "markdown",
   "metadata": {},
   "source": [
    "### Notebook to demonstrate how to save and load embeddings "
   ]
  },
  {
   "cell_type": "code",
   "execution_count": 1,
   "metadata": {},
   "outputs": [
    {
     "name": "stderr",
     "output_type": "stream",
     "text": [
      "Using TensorFlow backend.\n"
     ]
    },
    {
     "name": "stdout",
     "output_type": "stream",
     "text": [
      "Building feature2vec\n"
     ]
    }
   ],
   "source": [
    "import numpy as np \n",
    "from Feature2Vec import Feature2Vec \n",
    "from utils import * \n",
    "import os\n",
    "os.environ[\"CUDA_VISIBLE_DEVICES\"]=\"-1\"    \n",
    "\n",
    "SEED = 42\n",
    "np.random.seed(seed = SEED)\n",
    "\n",
    "# path = 'data/mcrae_feature_matrix.csv'\n",
    "path = 'data/cslb_feature_matrix.csv'\n",
    "\n",
    "print('Building feature2vec')\n",
    "model = Feature2Vec(path = path)"
   ]
  },
  {
   "cell_type": "code",
   "execution_count": 2,
   "metadata": {},
   "outputs": [],
   "source": [
    "shuffle = np.random.permutation(len(model.concepts))\n",
    "train_concepts = list(np.asarray(model.concepts)[shuffle])\n",
    "model.set_vocabulary(train_words = train_concepts)"
   ]
  },
  {
   "cell_type": "code",
   "execution_count": 3,
   "metadata": {},
   "outputs": [
    {
     "name": "stdout",
     "output_type": "stream",
     "text": [
      "Training feature2vec\n",
      "Epoch: 19 Loss: 0.004500256059271702\n"
     ]
    }
   ],
   "source": [
    "print('Training feature2vec')\n",
    "model.train(verbose = 1, epochs = 20, lr = 5e-3, negative_samples = 20)\n",
    "print('')"
   ]
  },
  {
   "cell_type": "code",
   "execution_count": 4,
   "metadata": {},
   "outputs": [],
   "source": [
    "# save vectors \n",
    "model.save('embeddings/cslb_embeddings.txt')"
   ]
  },
  {
   "cell_type": "code",
   "execution_count": 5,
   "metadata": {},
   "outputs": [
    {
     "data": {
      "text/plain": [
       "array([['0.3063240021408405', 'harpsichord'],\n",
       "       ['0.2824758151071688', 'clarinet'],\n",
       "       ['0.27327723302755025', 'typewriter'],\n",
       "       ['0.2683656110461591', 'piano'],\n",
       "       ['0.25110279449164563', 'organ_(musical_instrument)']],\n",
       "      dtype='<U26')"
      ]
     },
     "execution_count": 5,
     "metadata": {},
     "output_type": "execute_result"
    }
   ],
   "source": [
    "# show top related concepts\n",
    "model.rank_neighbours(model.fvector('has_keys'), 5)"
   ]
  },
  {
   "cell_type": "code",
   "execution_count": 6,
   "metadata": {},
   "outputs": [
    {
     "data": {
      "text/plain": [
       "(2725, 300)"
      ]
     },
     "execution_count": 6,
     "metadata": {},
     "output_type": "execute_result"
    }
   ],
   "source": [
    "model.feature_vectors.shape"
   ]
  },
  {
   "cell_type": "code",
   "execution_count": 7,
   "metadata": {},
   "outputs": [],
   "source": [
    "# randomize vectors \n",
    "model.feature_vectors = np.random.rand(2526, 300)"
   ]
  },
  {
   "cell_type": "code",
   "execution_count": 8,
   "metadata": {},
   "outputs": [
    {
     "data": {
      "text/plain": [
       "array([['0.17161331371219862', 'cape'],\n",
       "       ['0.15091490064481322', 'certificate'],\n",
       "       ['0.12758664586654367', 'willow'],\n",
       "       ['0.12429329657070862', 'tent'],\n",
       "       ['0.12090653818457522', 'dates']], dtype='<U19')"
      ]
     },
     "execution_count": 8,
     "metadata": {},
     "output_type": "execute_result"
    }
   ],
   "source": [
    "# show top related concepts no longer make sense \n",
    "model.rank_neighbours(model.fvector('has_keys'), 5)"
   ]
  },
  {
   "cell_type": "code",
   "execution_count": 9,
   "metadata": {},
   "outputs": [],
   "source": [
    "# reload in features \n",
    "model.load('embeddings/cslb_embeddings.txt')"
   ]
  },
  {
   "cell_type": "code",
   "execution_count": 10,
   "metadata": {},
   "outputs": [
    {
     "data": {
      "text/plain": [
       "array([['0.30632400211416344', 'harpsichord'],\n",
       "       ['0.28247581514937375', 'clarinet'],\n",
       "       ['0.27327723307175084', 'typewriter'],\n",
       "       ['0.26836561105087015', 'piano'],\n",
       "       ['0.2511027944505316', 'organ_(musical_instrument)']], dtype='<U26')"
      ]
     },
     "execution_count": 10,
     "metadata": {},
     "output_type": "execute_result"
    }
   ],
   "source": [
    "# vectors are restored\n",
    "model.rank_neighbours(model.fvector('has_keys'), 5)"
   ]
  },
  {
   "cell_type": "code",
   "execution_count": null,
   "metadata": {},
   "outputs": [],
   "source": []
  }
 ],
 "metadata": {
  "kernelspec": {
   "display_name": "Python 3",
   "language": "python",
   "name": "python3"
  },
  "language_info": {
   "codemirror_mode": {
    "name": "ipython",
    "version": 3
   },
   "file_extension": ".py",
   "mimetype": "text/x-python",
   "name": "python",
   "nbconvert_exporter": "python",
   "pygments_lexer": "ipython3",
   "version": "3.6.8"
  }
 },
 "nbformat": 4,
 "nbformat_minor": 2
}
